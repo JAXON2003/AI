{
 "cells": [
  {
   "cell_type": "markdown",
   "metadata": {},
   "source": [
    "# **Loading and Preprocessing Data with TensorFlow**"
   ]
  },
  {
   "cell_type": "markdown",
   "metadata": {},
   "source": [
    "In Chapter 2, you saw that loading and preprocessing data is an important part of any machine learning project. You used Pandas to load and explore the (modified) California housing dataset—which was stored in a CSV file —and you applied Scikit-Learn’s transformers for preprocessing. These tools are quite convenient, and you will probably be using them often, especially when exploring and experimenting with data.\n",
    "\n",
    "However, when training TensorFlow models on large datasets, you may prefer to use TensorFlow’s own data loading and preprocessing API, called ***tf.data***. It is capable of loading and preprocessing data extremely efficiently, reading from multiple files in parallel using multithreading and queuing, shuffling and batching samples, and more. Plus, it can do all of this on the fly—it loads and preprocesses the next batch of data across multiple **CPU** cores, while your **GPUs** or **TPUs** are busy training the current batch of data.\n",
    "\n",
    "The tf.data API lets you handle datasets that don’t fit in memory, and it allows you to make full use of your hardware resources, thereby speeding up training. Off the shelf, the tf.data API can read from text files (such as CSV files), binary files with fixed-size records, and binary files that use TensorFlow’s TFRecord format, which supports records of varying sizes.\n",
    "\n",
    "TFRecord is a flexible and efficient binary format usually containing protocol buffers (an open source binary format). The tf.data **API** also has support for reading from **SQL** databases. Moreover, many open source extensions are available to read from all sorts of data sources, such as **Google’s BigQuery** service (see *https://tensorflow.org/io*).\n",
    "\n",
    "Keras also comes with powerful yet easy-to-use preprocessing layers that can be embedded in your models: this way, when you deploy a model to production, it will be able to ingest raw data directly, without you having to add any additional preprocessing code. This eliminates the risk of mismatch between the preprocessing code used during training and the preprocessing code used in production, which would likely cause ***training/serving skew***. And if you deploy your model in multiple apps coded in different programming languages, you won’t have to reimplement the same preprocessing code multiple times, which also reduces the risk of mismatch.\n",
    "\n",
    "As you will see, both **APIs** can be used jointly—for example, to benefit from the efficient data loading offered by tf.data and the convenience of the Keras preprocessing layers.\n",
    "\n",
    "In this chapter, we will first cover the tf.data **API** and the **TFRecord** format. Then we will explore the Keras preprocessing layers and how to use them with the tf.data **API**. Lastly, we will take a quick look at a few related libraries that you may find useful for loading and preprocessing data, such as TensorFlow Datasets and TensorFlow Hub. So, let’s get started!"
   ]
  },
  {
   "cell_type": "markdown",
   "metadata": {},
   "source": [
    "## **The tf.data API**\n",
    "\n",
    "The whole tf.data API revolves around the concept of a ***tf.data.Dataset***: this represents a sequence of data items. Usually you will use datasets that gradually read data from disk, but for simplicity let’s create a dataset from a simple data tensor using, ***tf.data.Dataset.from_tensor_slices()***:"
   ]
  },
  {
   "cell_type": "code",
   "execution_count": 1,
   "metadata": {},
   "outputs": [
    {
     "ename": "AttributeError",
     "evalue": "'MessageFactory' object has no attribute 'GetPrototype'",
     "output_type": "error",
     "traceback": [
      "\u001b[1;31m---------------------------------------------------------------------------\u001b[0m",
      "\u001b[1;31mAttributeError\u001b[0m                            Traceback (most recent call last)",
      "\u001b[1;31mAttributeError\u001b[0m: 'MessageFactory' object has no attribute 'GetPrototype'"
     ]
    },
    {
     "ename": "AttributeError",
     "evalue": "'MessageFactory' object has no attribute 'GetPrototype'",
     "output_type": "error",
     "traceback": [
      "\u001b[1;31m---------------------------------------------------------------------------\u001b[0m",
      "\u001b[1;31mAttributeError\u001b[0m                            Traceback (most recent call last)",
      "\u001b[1;31mAttributeError\u001b[0m: 'MessageFactory' object has no attribute 'GetPrototype'"
     ]
    },
    {
     "ename": "AttributeError",
     "evalue": "'MessageFactory' object has no attribute 'GetPrototype'",
     "output_type": "error",
     "traceback": [
      "\u001b[1;31m---------------------------------------------------------------------------\u001b[0m",
      "\u001b[1;31mAttributeError\u001b[0m                            Traceback (most recent call last)",
      "\u001b[1;31mAttributeError\u001b[0m: 'MessageFactory' object has no attribute 'GetPrototype'"
     ]
    },
    {
     "ename": "AttributeError",
     "evalue": "'MessageFactory' object has no attribute 'GetPrototype'",
     "output_type": "error",
     "traceback": [
      "\u001b[1;31m---------------------------------------------------------------------------\u001b[0m",
      "\u001b[1;31mAttributeError\u001b[0m                            Traceback (most recent call last)",
      "\u001b[1;31mAttributeError\u001b[0m: 'MessageFactory' object has no attribute 'GetPrototype'"
     ]
    },
    {
     "ename": "AttributeError",
     "evalue": "'MessageFactory' object has no attribute 'GetPrototype'",
     "output_type": "error",
     "traceback": [
      "\u001b[1;31m---------------------------------------------------------------------------\u001b[0m",
      "\u001b[1;31mAttributeError\u001b[0m                            Traceback (most recent call last)",
      "\u001b[1;31mAttributeError\u001b[0m: 'MessageFactory' object has no attribute 'GetPrototype'"
     ]
    }
   ],
   "source": [
    "import tensorflow as tf\n"
   ]
  },
  {
   "cell_type": "code",
   "execution_count": null,
   "metadata": {},
   "outputs": [],
   "source": [
    "\n",
    "x = tf.range(10) # Any data tensor\n",
    "dataset = tf.data.Dataset.from_tensor_slices(x)\n",
    "dataset"
   ]
  },
  {
   "cell_type": "markdown",
   "metadata": {},
   "source": [
    "The ***from_tensor_slices(***) function takes a tensor and creates a ***tf.data.Dataset*** whose elements are all the slices of X along the first dimension, so this dataset contains 10 items: tensors 0, 1, 2, …, 9. In this case we would have obtained the same dataset if we had used ***tf.data.Dataset.range(10)*** (except the elements would be 64-bit integers instead of 32-bit integers).\n",
    "\n",
    "You can simply iterate over a dataset's items like this:"
   ]
  },
  {
   "cell_type": "code",
   "execution_count": 2,
   "metadata": {},
   "outputs": [
    {
     "name": "stdout",
     "output_type": "stream",
     "text": [
      "tf.Tensor(0, shape=(), dtype=int32)\n",
      "tf.Tensor(1, shape=(), dtype=int32)\n",
      "tf.Tensor(2, shape=(), dtype=int32)\n",
      "tf.Tensor(3, shape=(), dtype=int32)\n",
      "tf.Tensor(4, shape=(), dtype=int32)\n",
      "tf.Tensor(5, shape=(), dtype=int32)\n",
      "tf.Tensor(6, shape=(), dtype=int32)\n",
      "tf.Tensor(7, shape=(), dtype=int32)\n",
      "tf.Tensor(8, shape=(), dtype=int32)\n",
      "tf.Tensor(9, shape=(), dtype=int32)\n"
     ]
    }
   ],
   "source": [
    "for item in dataset:\n",
    "    print(item)"
   ]
  },
  {
   "cell_type": "markdown",
   "metadata": {},
   "source": [
    "> #### **NOTE**\n",
    "> The tf.data **API** is a streaming **API**: you can very efficiently iterate through a dataset’s items, but the **API** is not designed for indexing or slicing.\n",
    " \n",
    "A dataset may also contain tuples of tensors, or dictionaries of name/tensor pairs, or even nested tuples and dictionaries of tensors. When slicing a tuple, a dictionary, or a nested structure, the dataset will only slice the tensors it contains, while preserving the tuple/dictionary structure. For example:"
   ]
  },
  {
   "cell_type": "code",
   "execution_count": 3,
   "metadata": {},
   "outputs": [
    {
     "name": "stdout",
     "output_type": "stream",
     "text": [
      "{'a': (<tf.Tensor: shape=(), dtype=int32, numpy=1>, <tf.Tensor: shape=(), dtype=int32, numpy=4>), 'b': <tf.Tensor: shape=(), dtype=int32, numpy=7>}\n",
      "{'a': (<tf.Tensor: shape=(), dtype=int32, numpy=2>, <tf.Tensor: shape=(), dtype=int32, numpy=5>), 'b': <tf.Tensor: shape=(), dtype=int32, numpy=8>}\n",
      "{'a': (<tf.Tensor: shape=(), dtype=int32, numpy=3>, <tf.Tensor: shape=(), dtype=int32, numpy=6>), 'b': <tf.Tensor: shape=(), dtype=int32, numpy=9>}\n"
     ]
    }
   ],
   "source": [
    "x_nested = {'a': ([1, 2, 3], [4, 5, 6]), 'b':[7, 8, 9]}\n",
    "dataset = tf.data.Dataset.from_tensor_slices(x_nested)\n",
    "for item in dataset:\n",
    "    print(item)"
   ]
  },
  {
   "cell_type": "markdown",
   "metadata": {},
   "source": [
    "### **Chaining Transformations**\n",
    "Once you have a dataset, you can apply all sorts of transformations to it by calling its transformation methods. Each method returns a new dataset, so you can chain transformations like this,"
   ]
  },
  {
   "cell_type": "code",
   "execution_count": 8,
   "metadata": {},
   "outputs": [
    {
     "name": "stdout",
     "output_type": "stream",
     "text": [
      "tf.Tensor([0 1 2 3 4 5 6], shape=(7,), dtype=int32)\n",
      "tf.Tensor([7 8 9 0 1 2 3], shape=(7,), dtype=int32)\n",
      "tf.Tensor([4 5 6 7 8 9 0], shape=(7,), dtype=int32)\n",
      "tf.Tensor([1 2 3 4 5 6 7], shape=(7,), dtype=int32)\n",
      "tf.Tensor([8 9], shape=(2,), dtype=int32)\n"
     ]
    }
   ],
   "source": [
    "dataset = tf.data.Dataset.from_tensor_slices(tf.range(10))\n",
    "dataset = dataset.repeat(3).batch(7)\n",
    "for item in dataset:\n",
    "    print(item)"
   ]
  },
  {
   "cell_type": "markdown",
   "metadata": {},
   "source": [
    "In this example, we first call the ***repeat()*** method on the original dataset, and it returns a new dataset that repeats the items of the original dataset three times. Of course, this will not copy all the data in memory three times! If you call this method with no arguments, the new dataset will repeat the source dataset forever, so the code that iterates over the dataset will have to decide when to stop.\n",
    "\n",
    "Then we call the ***batch()*** method on this new dataset, and again this creates a new dataset. This one will group the items of the previous dataset in batches of seven items.\n",
    "\n",
    "Finally, we iterate over the items of this final dataset. ***The batch()*** method had to output a final batch of size two instead of seven, but you can call ***batch()*** with ***drop_remainder=True*** if you want it to drop this final batch, such that all batches have the exact same size.\n",
    "\n",
    "> #### **WARNING**\n",
    ">  The dataset methods do not modify datasets—they create new ones. So make sure to keep a reference to these new datasets (e.g., with ***dataset = ...***), or else nothing will happen.\n",
    "\n",
    "You can also transform the items by calling the ***map()*** method. For example, this creates a new dataset with all batches multiplied by two:"
   ]
  },
  {
   "cell_type": "code",
   "execution_count": 10,
   "metadata": {},
   "outputs": [
    {
     "name": "stdout",
     "output_type": "stream",
     "text": [
      "tf.Tensor([ 0  2  4  6  8 10 12], shape=(7,), dtype=int32)\n",
      "tf.Tensor([14 16 18  0  2  4  6], shape=(7,), dtype=int32)\n",
      "tf.Tensor([ 8 10 12 14 16 18  0], shape=(7,), dtype=int32)\n",
      "tf.Tensor([ 2  4  6  8 10 12 14], shape=(7,), dtype=int32)\n",
      "tf.Tensor([16 18], shape=(2,), dtype=int32)\n"
     ]
    }
   ],
   "source": [
    "dataset = dataset.map(lambda x: x * 2) # X is a batch\n",
    "for item in dataset:\n",
    "    print(item)"
   ]
  },
  {
   "cell_type": "markdown",
   "metadata": {},
   "source": [
    "This ***map()*** method is the one you will call to apply any preprocessing to your data. Sometimes this will include computations that can be quite intensive, such as reshaping or rotating an image, so you will usually want to spawn multiple threads to speed things up. This can be done by setting the ***num_parallel_calls*** argument to the number of threads to run, or to ***tf.data.AUTOTUNE***. Note that the function you pass to the ***map()*** method must be convertible to a TF function (see Chapter 12).\n",
    "\n",
    "It is also possible to simply filter the dataset using the ***filter()*** method. For example, this code creates a dataset that only contains the batchs whose sum is greater than 50:"
   ]
  },
  {
   "cell_type": "code",
   "execution_count": 11,
   "metadata": {},
   "outputs": [
    {
     "name": "stdout",
     "output_type": "stream",
     "text": [
      "tf.Tensor([14 16 18  0  2  4  6], shape=(7,), dtype=int32)\n",
      "tf.Tensor([ 8 10 12 14 16 18  0], shape=(7,), dtype=int32)\n",
      "tf.Tensor([ 2  4  6  8 10 12 14], shape=(7,), dtype=int32)\n"
     ]
    }
   ],
   "source": [
    "dataset = dataset.filter(lambda x: tf.reduce_sum(x) > 50)\n",
    "for item in dataset:\n",
    "    print(item)"
   ]
  },
  {
   "cell_type": "markdown",
   "metadata": {},
   "source": [
    "You will often want to look at just a few items from a dataset. You can use the ***take()*** method for that:"
   ]
  },
  {
   "cell_type": "code",
   "execution_count": 12,
   "metadata": {},
   "outputs": [
    {
     "name": "stdout",
     "output_type": "stream",
     "text": [
      "tf.Tensor([14 16 18  0  2  4  6], shape=(7,), dtype=int32)\n",
      "tf.Tensor([ 8 10 12 14 16 18  0], shape=(7,), dtype=int32)\n"
     ]
    }
   ],
   "source": [
    "for item in dataset.take(2):\n",
    "    print(item)"
   ]
  },
  {
   "cell_type": "markdown",
   "metadata": {},
   "source": [
    "### **Shuffling the Data**\n",
    "As we discussed in Chapter 4, gradient descent works best when the instances in the training set are independent and identically distributed (**IID**). A simple way to ensure this is to shuffle the instances, using the ***shuffle()*** method. It will create a new dataset that will start by filling up a buffer with the first items of the source dataset. Then, whenever it is asked for an item, it will pull one out randomly from the buffer and replace it with a fresh one from the source dataset, until it has iterated entirely through the source dataset. At this point it will continue to pull out items randomly from the buffer until it is empty. You must specify the buffer size, and it is important to make it large enough, or else shuffling will not be very effective.  Just don’t exceed the amount of **RAM** you have, though even if you have plenty of it, there’s no need to go beyond the dataset’s size. You can provide a random seed if you want the same random order every time you run your program. For example, the following code creates and displays a dataset containing the integers 0 to 9, repeated twice, shuffled using a buffer of size 4 and a random seed of 42, and batched with a batch size of 7:"
   ]
  },
  {
   "cell_type": "code",
   "execution_count": 18,
   "metadata": {},
   "outputs": [
    {
     "name": "stdout",
     "output_type": "stream",
     "text": [
      "tf.Tensor([3 0 4 5 7 8 2], shape=(7,), dtype=int64)\n",
      "tf.Tensor([6 0 1 1 9 2 5], shape=(7,), dtype=int64)\n",
      "tf.Tensor([6 4 7 9 3 8], shape=(6,), dtype=int64)\n"
     ]
    }
   ],
   "source": [
    "dataset = tf.data.Dataset.range(10).repeat(2)\n",
    "dataset = dataset.shuffle(buffer_size=4, seed=50).batch(7)\n",
    "for item in dataset:\n",
    "    print(item)"
   ]
  },
  {
   "cell_type": "markdown",
   "metadata": {},
   "source": [
    "> #### **TIP**\n",
    "> If you call ***repeat()*** on a shuffled dataset, by default it will generate a new order at every iteration. This is generally a good idea, but if you prefer to reuse the same order at each iteration (e.g., for tests or debugging), you can set ***reshuffle_each_iteration=False*** when calling ***shuffle()***.\n",
    "\n",
    "For a large dataset that does not fit in memory, this simple shuffling-buffer approach may not be sufficient, since the buffer will be small compared to the dataset. One solution is to shuffle the source data itself (for example, on Linux you can shuffle text files using the ***shuf*** command). This will definitely improve shuffling a lot! Even if the source data is shuffled, you will usually want to shuffle it some more, or else the same order will be repeated at each epoch, and the model may end up being biased (e.g., due to some spurious patterns present by chance in the source data’s order). To shuffle the instances some more, a common approach is to split the source data into multiple files, then read them in a random order during training. However, instances located in the same file will still end up close to each other. To avoid this you can pick multiple files randomly and read them simultaneously, interleaving their records. Then on top of that you can add a shuffling buffer using the ***shuffle()*** method. If this sounds like a lot of work, don’t worry: the tf.data API makes all this possible in just a few lines of code. Let’s go over how you can do this."
   ]
  },
  {
   "cell_type": "markdown",
   "metadata": {},
   "source": [
    "### **Interleaving Lines from Multiple Files**\n",
    "First, suppose you’ve loaded the California housing dataset, shuffled it (unless it was already shuffled), and split it into a training set, a validation set, and a test set. Then you split each set into many CSV files that each look like this (each row contains eight input features plus the target median house value):"
   ]
  },
  {
   "cell_type": "raw",
   "metadata": {
    "vscode": {
     "languageId": "raw"
    }
   },
   "source": [
    "MedInc,HouseAge,AveRooms,AveBedrms,Popul…,AveOccup,Lat…,Long…,MedianHouseValue\n",
    " 3.5214,15.0,3.050,1.107,1447.0,1.606,37.63,-122.43,1.442\n",
    " 5.3275,5.0,6.490,0.991,3464.0,3.443,33.69,-117.39,1.687\n",
    " 3.1,29.0,7.542,1.592,1328.0,2.251,38.44,-122.98,1.621\n",
    " [...]"
   ]
  },
  {
   "cell_type": "markdown",
   "metadata": {},
   "source": [
    "Let’s also suppose ***train_filepaths*** contains the list of training filepaths (and you also have ***valid_filepaths*** and ***test_filepaths***):"
   ]
  },
  {
   "cell_type": "code",
   "execution_count": null,
   "metadata": {},
   "outputs": [],
   "source": [
    "housing = tf.keras.datasets.california_housing.load_data()"
   ]
  },
  {
   "cell_type": "code",
   "execution_count": 36,
   "metadata": {},
   "outputs": [
    {
     "name": "stderr",
     "output_type": "stream",
     "text": [
      "d:\\CONTENTS\\APPLICATIONS\\New Folder\\Lib\\site-packages\\numpy\\core\\fromnumeric.py:59: FutureWarning: 'DataFrame.swapaxes' is deprecated and will be removed in a future version. Please use 'DataFrame.transpose' instead.\n",
      "  return bound(*args, **kwds)\n"
     ]
    },
    {
     "name": "stdout",
     "output_type": "stream",
     "text": [
      "Created CSV files: ['D:/CONTENTS/AI/CODE/The Fundamentals of Machine Learning/datasets/housing/housing_part_1.csv', 'D:/CONTENTS/AI/CODE/The Fundamentals of Machine Learning/datasets/housing/housing_part_2.csv', 'D:/CONTENTS/AI/CODE/The Fundamentals of Machine Learning/datasets/housing/housing_part_3.csv', 'D:/CONTENTS/AI/CODE/The Fundamentals of Machine Learning/datasets/housing/housing_part_4.csv']\n",
      "\n",
      "Interleaved lines from the CSV files:\n",
      "MedInc,HouseAge,AveRooms,AveBedrms,Population,AveOccup,Latitude,Longitude,MedHouseVal\n",
      "MedInc,HouseAge,AveRooms,AveBedrms,Population,AveOccup,Latitude,Longitude,MedHouseVal\n",
      "MedInc,HouseAge,AveRooms,AveBedrms,Population,AveOccup,Latitude,Longitude,MedHouseVal\n",
      "MedInc,HouseAge,AveRooms,AveBedrms,Population,AveOccup,Latitude,Longitude,MedHouseVal\n",
      "8.3252,41.0,6.984126984126984,1.0238095238095237,322.0,2.5555555555555554,37.88,-122.23,4.526\n",
      "1.5313,23.0,3.305,1.0183333333333333,2048.0,3.4133333333333336,33.96,-118.28,0.914\n",
      "7.2554,16.0,7.577154308617234,1.0100200400801602,1665.0,3.3366733466933867,33.85,-117.78,3.356\n",
      "3.4833,15.0,5.746153846153846,0.9769230769230769,997.0,2.556410256410256,33.15,-117.13,1.932\n",
      "8.3014,21.0,6.238137082601054,0.9718804920913884,2401.0,2.109841827768014,37.86,-122.22,3.585\n",
      "2.0917,35.0,4.284403669724771,1.107033639143731,1357.0,4.149847094801223,33.95,-118.29,0.993\n"
     ]
    }
   ],
   "source": [
    "import os\n",
    "import numpy as np\n",
    "import pandas as pd\n",
    "import tensorflow as tf\n",
    "from sklearn.datasets import fetch_california_housing\n",
    "\n",
    "# Set the directory where the CSV files will be saved\n",
    "data_dir = \"D:/CONTENTS/AI/CODE/The Fundamentals of Machine Learning/datasets/housing/\"\n",
    "os.makedirs(data_dir, exist_ok=True)\n",
    "\n",
    "# Load the California Housing dataset\n",
    "housing = fetch_california_housing()\n",
    "df = pd.DataFrame(data=housing.data, columns=housing.feature_names)\n",
    "df['MedHouseVal'] = housing.target\n",
    "\n",
    "# Split the DataFrame into 3 parts and save each part as a CSV file\n",
    "num_files = 4\n",
    "file_paths = []\n",
    "splits = np.array_split(df, num_files)\n",
    "for i, split_df in enumerate(splits):\n",
    "    file_path = os.path.join(data_dir, f\"housing_part_{i+1}.csv\")\n",
    "    split_df.to_csv(file_path, index=False)\n",
    "    file_paths.append(file_path)\n",
    "\n",
    "print(\"Created CSV files:\", file_paths)\n",
    "\n",
    "# Create a TensorFlow Dataset from the list of file paths\n",
    "files_dataset = tf.data.Dataset.from_tensor_slices(file_paths)\n",
    "\n",
    "# Use interleave to read lines from each CSV concurrently\n",
    "# Each file is processed as a TextLineDataset to read it line by line.\n",
    "dataset = files_dataset.interleave(\n",
    "    lambda filename: tf.data.TextLineDataset(filename),\n",
    "    cycle_length=num_files,   # Number of files to read concurrently\n",
    "    block_length=1            # Read one line at a time from each file before switching\n",
    ")\n",
    "\n",
    "# Print the first 10 lines from the interleaved dataset\n",
    "print(\"\\nInterleaved lines from the CSV files:\")\n",
    "for line in dataset.take(10):\n",
    "    print(line.numpy().decode(\"utf-8\"))\n"
   ]
  },
  {
   "cell_type": "code",
   "execution_count": 81,
   "metadata": {},
   "outputs": [],
   "source": [
    "train_filepaths = [ \n",
    "                   \"D:/CONTENTS/AI/CODE/The Fundamentals of Machine Learning/datasets/housing/housing_part_2.csv\",\n",
    "                   \"D:/CONTENTS/AI/CODE/The Fundamentals of Machine Learning/datasets/housing/housing_part_3.csv\",\n",
    "                  ]\n",
    "valid_filepaths = \"D:/CONTENTS/AI/CODE/The Fundamentals of Machine Learning/datasets/housing/housing_part_1.csv\"\n",
    "test_filepaths = \"D:/CONTENTS/AI/CODE/The Fundamentals of Machine Learning/datasets/housing/housing_part_1.csv\""
   ]
  },
  {
   "cell_type": "code",
   "execution_count": 38,
   "metadata": {},
   "outputs": [
    {
     "data": {
      "text/plain": [
       "['D:/CONTENTS/AI/CODE/The Fundamentals of Machine Learning/datasets/housing/housing_part_1.csv',\n",
       " 'D:/CONTENTS/AI/CODE/The Fundamentals of Machine Learning/datasets/housing/housing_part_2.csv',\n",
       " 'D:/CONTENTS/AI/CODE/The Fundamentals of Machine Learning/datasets/housing/housing_part_3.csv',\n",
       " 'D:/CONTENTS/AI/CODE/The Fundamentals of Machine Learning/datasets/housing/housing_part_4.csv']"
      ]
     },
     "execution_count": 38,
     "metadata": {},
     "output_type": "execute_result"
    }
   ],
   "source": [
    "train_filepaths"
   ]
  },
  {
   "cell_type": "markdown",
   "metadata": {},
   "source": [
    "Alternatively, you could use file patterns; for example, ***train_filepaths = \"datasets/housing/my_train_*.csv\"***. Now let’s create a dataset containing only these filepaths:"
   ]
  },
  {
   "cell_type": "code",
   "execution_count": 39,
   "metadata": {},
   "outputs": [],
   "source": [
    "filepath_dataset = tf.data.Dataset.list_files(train_filepaths, seed=50)"
   ]
  },
  {
   "cell_type": "code",
   "execution_count": 33,
   "metadata": {},
   "outputs": [],
   "source": [
    "#create a dataset from the File Paths\n",
    "files_dataset = tf.data.Dataset.from_tensor_slices(train_filepaths)"
   ]
  },
  {
   "cell_type": "markdown",
   "metadata": {},
   "source": [
    "By default, the ***list_files()*** function returns a dataset that shuffles the filepaths. In general this is a good thing, but you can set ***shuffle=False*** if you do not want that for some reason.\n",
    "\n",
    "Next, you can call the ***interleave()*** method to read from five files at a time and interleave their lines. You can also skip the first line of each file—which is the header row—using the ***skip()*** method:"
   ]
  },
  {
   "cell_type": "code",
   "execution_count": 40,
   "metadata": {},
   "outputs": [],
   "source": [
    "n_reader = 5\n",
    "dataset = files_dataset.interleave(\n",
    "    lambda filepath: tf.data.TextLineDataset(filepath).skip(1), \n",
    "    cycle_length=n_reader\n",
    ")"
   ]
  },
  {
   "cell_type": "markdown",
   "metadata": {},
   "source": [
    "The ***interleave()*** method will create a dataset that will pull five filepaths from the ***filepath_dataset***, and for each one it will call the function you gave it (a lambda in this example) to create a new dataset (in this case a ***TextLineDataset***). To be clear, at this stage there will be seven datasets in all: the filepath dataset, the interleave dataset, and the five ***TextLineDatasets*** created internally by the interleave dataset. When you iterate over the interleave dataset, it will cycle through these five ***TextLineDatasets***, reading one line at a time from each until all datasets are out of items. Then it will fetch the next five filepaths from the ***filepath_dataset*** and interleave them the same way, and so on until it runs out of filepaths. For interleaving to work best, it is preferable to have files of identical length; otherwise the end of the longest file will not be interleaved.\n",
    "\n",
    "By default, ***interleave()*** does not use parallelism; it just reads one line at a time from each file, sequentially. If you want it to actually read files in parallel, you can set the ***interleave()*** method’s ***num_parallel_calls*** argument to the number of threads you want (recall that the map() method also has this argument). You can even set it to ***tf.data.AUTOTUNE*** to make TensorFlow choose the right number of threads dynamically based on the available ***CPU***. Let’s look at what the dataset contains now:"
   ]
  },
  {
   "cell_type": "code",
   "execution_count": 41,
   "metadata": {},
   "outputs": [
    {
     "name": "stdout",
     "output_type": "stream",
     "text": [
      "tf.Tensor(b'8.3252,41.0,6.984126984126984,1.0238095238095237,322.0,2.5555555555555554,37.88,-122.23,4.526', shape=(), dtype=string)\n",
      "tf.Tensor(b'1.5313,23.0,3.305,1.0183333333333333,2048.0,3.4133333333333336,33.96,-118.28,0.914', shape=(), dtype=string)\n",
      "tf.Tensor(b'7.2554,16.0,7.577154308617234,1.0100200400801602,1665.0,3.3366733466933867,33.85,-117.78,3.356', shape=(), dtype=string)\n",
      "tf.Tensor(b'3.4833,15.0,5.746153846153846,0.9769230769230769,997.0,2.556410256410256,33.15,-117.13,1.932', shape=(), dtype=string)\n",
      "tf.Tensor(b'8.3014,21.0,6.238137082601054,0.9718804920913884,2401.0,2.109841827768014,37.86,-122.22,3.585', shape=(), dtype=string)\n"
     ]
    }
   ],
   "source": [
    "for line in dataset.take(5):\n",
    "    print(line)"
   ]
  },
  {
   "cell_type": "markdown",
   "metadata": {},
   "source": [
    "These are the First rows (ignoring the header row) of five CSV files, chosen randomly. Looks good!\n",
    "\n",
    "> #### **NOTE**\n",
    ">  It’s possible to pass a list of filepaths to the ***TextLineDataset*** constructor: it will go through each file in order, line by line. If you also set the ***num_parallel_reads*** argument to a number greater than one, then the dataset will read that number of files in parallel and interleave their lines (without having to call the ***interleave()*** method). However, it will not shuffle the files, nor will it skip the header lines.\n",
    "\n"
   ]
  },
  {
   "cell_type": "markdown",
   "metadata": {},
   "source": [
    "#### **Preprocessing the Data**\n",
    "Now that we have a housing dataset that returns each instance as a tensor containing a byte string, we need to do a bit of preprocessing, including parsing the strings and scaling the data. Let’s implement a couple custom functions that will perform this preprocessing:"
   ]
  },
  {
   "cell_type": "code",
   "execution_count": 72,
   "metadata": {},
   "outputs": [],
   "source": [
    "import pandas as pd\n",
    "train_sets = splits[1:3]"
   ]
  },
  {
   "cell_type": "code",
   "execution_count": 73,
   "metadata": {},
   "outputs": [],
   "source": [
    "x_mean, x_std = tf.math.reduce_mean(pd.concat(train_sets).astype('float32'), axis=0), tf.math.reduce_std(pd.concat(train_sets).astype('float32'), axis=0)\n",
    "n_inputs = 8\n",
    "\n",
    "def parse_csv_line(line):\n",
    "    defs = [0.] * n_inputs + [tf.constant([], dtype=tf.float32)]\n",
    "    fields = tf.io.decode_csv(line, record_defaults=x_std)\n",
    "    return tf.stack(fields[:-1]), tf.stack(fields[-1:])\n",
    "\n",
    "def preprocess(line):\n",
    "    x, y = parse_csv_line(line)\n",
    "    return (x - x_mean) / x_std, y"
   ]
  },
  {
   "cell_type": "markdown",
   "metadata": {},
   "source": [
    "Let's walk through this code:\n",
    "- First, the code assumes that we have precomputed the mean and standard deviation of each feature in the training set. ***x_mean*** and ***x_std*** are just 1D tensors (or NumPy arrays) containing eight floats, one per input feature. This can be done using a Scikit-Learn ***StandardScaler*** on a large enough random sample of the dataset. Later in this chapter, we will use a Keras preprocessing layer instead.\n",
    "\n",
    "- The ***parse_csv_line()*** function takes one CSV line and parses it. To help with that, it uses the ***tf.io.decode_csv()*** function, which takes two arguments: the first is the line to parse, and the second is an array containing the default value for each column in the **CSV** file. This array (***defs***) tells TensorFlow not only the default value for each column, but also the number of columns and their types. In this example, we tell it that all feature columns are floats and that missing values should default to zero, but we provide an empty array of type ***tf.float32*** as the default value for the last column (the target): the array tells TensorFlow that this column contains floats, but that there is no default value, so it will raise an exception if it encounters a missing value.\n",
    "  \n",
    "- The ***tf.io.decode_csv()*** function returns a list of scalar tensors (one per column), but we need to return a 1D tensor array. So we call ***tf.stack()*** on all tensors except for the last one (the target): this will stack these tensors into a 1D array. We then do the same for the target value: this makes it a 1D tensor array with a single value, rather than a scalar tensor. The ***tf.io.decode_csv()*** function is done, so it returns the input features and the target.\n",
    "\n",
    "- Finally, the custom ***preprocess()*** function just calls the ***parse_csv_line()*** function, scales the input features by subtracting the feature means and then dividing by the feature standard deviations, and returns a tuple containing the scaled features and the target.\n",
    "\n",
    "Let's test this preprocessing function:"
   ]
  },
  {
   "cell_type": "code",
   "execution_count": 74,
   "metadata": {},
   "outputs": [
    {
     "data": {
      "text/html": [
       "<div>\n",
       "<style scoped>\n",
       "    .dataframe tbody tr th:only-of-type {\n",
       "        vertical-align: middle;\n",
       "    }\n",
       "\n",
       "    .dataframe tbody tr th {\n",
       "        vertical-align: top;\n",
       "    }\n",
       "\n",
       "    .dataframe thead th {\n",
       "        text-align: right;\n",
       "    }\n",
       "</style>\n",
       "<table border=\"1\" class=\"dataframe\">\n",
       "  <thead>\n",
       "    <tr style=\"text-align: right;\">\n",
       "      <th></th>\n",
       "      <th>MedInc</th>\n",
       "      <th>HouseAge</th>\n",
       "      <th>AveRooms</th>\n",
       "      <th>AveBedrms</th>\n",
       "      <th>Population</th>\n",
       "      <th>AveOccup</th>\n",
       "      <th>Latitude</th>\n",
       "      <th>Longitude</th>\n",
       "      <th>MedHouseVal</th>\n",
       "    </tr>\n",
       "  </thead>\n",
       "  <tbody>\n",
       "    <tr>\n",
       "      <th>0</th>\n",
       "      <td>8.3252</td>\n",
       "      <td>41.0</td>\n",
       "      <td>6.984127</td>\n",
       "      <td>1.023810</td>\n",
       "      <td>322.0</td>\n",
       "      <td>2.555556</td>\n",
       "      <td>37.88</td>\n",
       "      <td>-122.23</td>\n",
       "      <td>4.526</td>\n",
       "    </tr>\n",
       "    <tr>\n",
       "      <th>1</th>\n",
       "      <td>8.3014</td>\n",
       "      <td>21.0</td>\n",
       "      <td>6.238137</td>\n",
       "      <td>0.971880</td>\n",
       "      <td>2401.0</td>\n",
       "      <td>2.109842</td>\n",
       "      <td>37.86</td>\n",
       "      <td>-122.22</td>\n",
       "      <td>3.585</td>\n",
       "    </tr>\n",
       "    <tr>\n",
       "      <th>2</th>\n",
       "      <td>7.2574</td>\n",
       "      <td>52.0</td>\n",
       "      <td>8.288136</td>\n",
       "      <td>1.073446</td>\n",
       "      <td>496.0</td>\n",
       "      <td>2.802260</td>\n",
       "      <td>37.85</td>\n",
       "      <td>-122.24</td>\n",
       "      <td>3.521</td>\n",
       "    </tr>\n",
       "    <tr>\n",
       "      <th>3</th>\n",
       "      <td>5.6431</td>\n",
       "      <td>52.0</td>\n",
       "      <td>5.817352</td>\n",
       "      <td>1.073059</td>\n",
       "      <td>558.0</td>\n",
       "      <td>2.547945</td>\n",
       "      <td>37.85</td>\n",
       "      <td>-122.25</td>\n",
       "      <td>3.413</td>\n",
       "    </tr>\n",
       "    <tr>\n",
       "      <th>4</th>\n",
       "      <td>3.8462</td>\n",
       "      <td>52.0</td>\n",
       "      <td>6.281853</td>\n",
       "      <td>1.081081</td>\n",
       "      <td>565.0</td>\n",
       "      <td>2.181467</td>\n",
       "      <td>37.85</td>\n",
       "      <td>-122.25</td>\n",
       "      <td>3.422</td>\n",
       "    </tr>\n",
       "    <tr>\n",
       "      <th>...</th>\n",
       "      <td>...</td>\n",
       "      <td>...</td>\n",
       "      <td>...</td>\n",
       "      <td>...</td>\n",
       "      <td>...</td>\n",
       "      <td>...</td>\n",
       "      <td>...</td>\n",
       "      <td>...</td>\n",
       "      <td>...</td>\n",
       "    </tr>\n",
       "    <tr>\n",
       "      <th>5155</th>\n",
       "      <td>1.3971</td>\n",
       "      <td>37.0</td>\n",
       "      <td>4.642857</td>\n",
       "      <td>1.094286</td>\n",
       "      <td>1243.0</td>\n",
       "      <td>3.551429</td>\n",
       "      <td>33.96</td>\n",
       "      <td>-118.26</td>\n",
       "      <td>0.898</td>\n",
       "    </tr>\n",
       "    <tr>\n",
       "      <th>5156</th>\n",
       "      <td>1.7656</td>\n",
       "      <td>42.0</td>\n",
       "      <td>4.144703</td>\n",
       "      <td>1.031008</td>\n",
       "      <td>1581.0</td>\n",
       "      <td>4.085271</td>\n",
       "      <td>33.96</td>\n",
       "      <td>-118.28</td>\n",
       "      <td>0.967</td>\n",
       "    </tr>\n",
       "    <tr>\n",
       "      <th>5157</th>\n",
       "      <td>2.1437</td>\n",
       "      <td>40.0</td>\n",
       "      <td>3.900763</td>\n",
       "      <td>1.026718</td>\n",
       "      <td>2150.0</td>\n",
       "      <td>4.103053</td>\n",
       "      <td>33.95</td>\n",
       "      <td>-118.28</td>\n",
       "      <td>0.948</td>\n",
       "    </tr>\n",
       "    <tr>\n",
       "      <th>5158</th>\n",
       "      <td>1.6150</td>\n",
       "      <td>42.0</td>\n",
       "      <td>4.824000</td>\n",
       "      <td>1.216000</td>\n",
       "      <td>1167.0</td>\n",
       "      <td>4.668000</td>\n",
       "      <td>33.96</td>\n",
       "      <td>-118.28</td>\n",
       "      <td>1.013</td>\n",
       "    </tr>\n",
       "    <tr>\n",
       "      <th>5159</th>\n",
       "      <td>1.8472</td>\n",
       "      <td>39.0</td>\n",
       "      <td>4.666667</td>\n",
       "      <td>1.169312</td>\n",
       "      <td>697.0</td>\n",
       "      <td>3.687831</td>\n",
       "      <td>33.96</td>\n",
       "      <td>-118.28</td>\n",
       "      <td>0.991</td>\n",
       "    </tr>\n",
       "  </tbody>\n",
       "</table>\n",
       "<p>5160 rows × 9 columns</p>\n",
       "</div>"
      ],
      "text/plain": [
       "      MedInc  HouseAge  AveRooms  AveBedrms  Population  AveOccup  Latitude  \\\n",
       "0     8.3252      41.0  6.984127   1.023810       322.0  2.555556     37.88   \n",
       "1     8.3014      21.0  6.238137   0.971880      2401.0  2.109842     37.86   \n",
       "2     7.2574      52.0  8.288136   1.073446       496.0  2.802260     37.85   \n",
       "3     5.6431      52.0  5.817352   1.073059       558.0  2.547945     37.85   \n",
       "4     3.8462      52.0  6.281853   1.081081       565.0  2.181467     37.85   \n",
       "...      ...       ...       ...        ...         ...       ...       ...   \n",
       "5155  1.3971      37.0  4.642857   1.094286      1243.0  3.551429     33.96   \n",
       "5156  1.7656      42.0  4.144703   1.031008      1581.0  4.085271     33.96   \n",
       "5157  2.1437      40.0  3.900763   1.026718      2150.0  4.103053     33.95   \n",
       "5158  1.6150      42.0  4.824000   1.216000      1167.0  4.668000     33.96   \n",
       "5159  1.8472      39.0  4.666667   1.169312       697.0  3.687831     33.96   \n",
       "\n",
       "      Longitude  MedHouseVal  \n",
       "0       -122.23        4.526  \n",
       "1       -122.22        3.585  \n",
       "2       -122.24        3.521  \n",
       "3       -122.25        3.413  \n",
       "4       -122.25        3.422  \n",
       "...         ...          ...  \n",
       "5155    -118.26        0.898  \n",
       "5156    -118.28        0.967  \n",
       "5157    -118.28        0.948  \n",
       "5158    -118.28        1.013  \n",
       "5159    -118.28        0.991  \n",
       "\n",
       "[5160 rows x 9 columns]"
      ]
     },
     "execution_count": 74,
     "metadata": {},
     "output_type": "execute_result"
    }
   ],
   "source": [
    "splits[0]"
   ]
  },
  {
   "cell_type": "code",
   "execution_count": 75,
   "metadata": {},
   "outputs": [
    {
     "ename": "InvalidArgumentError",
     "evalue": "{{function_node __wrapped__Sub_device_/job:localhost/replica:0/task:0/device:CPU:0}} Incompatible shapes: [8] vs. [9] [Op:Sub] name: ",
     "output_type": "error",
     "traceback": [
      "\u001b[1;31m---------------------------------------------------------------------------\u001b[0m",
      "\u001b[1;31mInvalidArgumentError\u001b[0m                      Traceback (most recent call last)",
      "Cell \u001b[1;32mIn[75], line 1\u001b[0m\n\u001b[1;32m----> 1\u001b[0m preprocess(\u001b[38;5;124mb\u001b[39m\u001b[38;5;124m'\u001b[39m\u001b[38;5;124m8.3252, 41.0, 6.984127, 1.023810, 322.0, 2.555556,\t37.88, 122.23, 4.526\u001b[39m\u001b[38;5;124m'\u001b[39m)\n",
      "Cell \u001b[1;32mIn[73], line 11\u001b[0m, in \u001b[0;36mpreprocess\u001b[1;34m(line)\u001b[0m\n\u001b[0;32m      9\u001b[0m \u001b[38;5;28;01mdef\u001b[39;00m \u001b[38;5;21mpreprocess\u001b[39m(line):\n\u001b[0;32m     10\u001b[0m     x, y \u001b[38;5;241m=\u001b[39m parse_csv_line(line)\n\u001b[1;32m---> 11\u001b[0m     \u001b[38;5;28;01mreturn\u001b[39;00m (x \u001b[38;5;241m-\u001b[39m x_mean) \u001b[38;5;241m/\u001b[39m x_std, y\n",
      "File \u001b[1;32md:\\CONTENTS\\APPLICATIONS\\New Folder\\Lib\\site-packages\\tensorflow\\python\\util\\traceback_utils.py:153\u001b[0m, in \u001b[0;36mfilter_traceback.<locals>.error_handler\u001b[1;34m(*args, **kwargs)\u001b[0m\n\u001b[0;32m    151\u001b[0m \u001b[38;5;28;01mexcept\u001b[39;00m \u001b[38;5;167;01mException\u001b[39;00m \u001b[38;5;28;01mas\u001b[39;00m e:\n\u001b[0;32m    152\u001b[0m   filtered_tb \u001b[38;5;241m=\u001b[39m _process_traceback_frames(e\u001b[38;5;241m.\u001b[39m__traceback__)\n\u001b[1;32m--> 153\u001b[0m   \u001b[38;5;28;01mraise\u001b[39;00m e\u001b[38;5;241m.\u001b[39mwith_traceback(filtered_tb) \u001b[38;5;28;01mfrom\u001b[39;00m \u001b[38;5;28;01mNone\u001b[39;00m\n\u001b[0;32m    154\u001b[0m \u001b[38;5;28;01mfinally\u001b[39;00m:\n\u001b[0;32m    155\u001b[0m   \u001b[38;5;28;01mdel\u001b[39;00m filtered_tb\n",
      "File \u001b[1;32md:\\CONTENTS\\APPLICATIONS\\New Folder\\Lib\\site-packages\\tensorflow\\python\\framework\\ops.py:6002\u001b[0m, in \u001b[0;36mraise_from_not_ok_status\u001b[1;34m(e, name)\u001b[0m\n\u001b[0;32m   6000\u001b[0m \u001b[38;5;28;01mdef\u001b[39;00m \u001b[38;5;21mraise_from_not_ok_status\u001b[39m(e, name) \u001b[38;5;241m-\u001b[39m\u001b[38;5;241m>\u001b[39m NoReturn:\n\u001b[0;32m   6001\u001b[0m   e\u001b[38;5;241m.\u001b[39mmessage \u001b[38;5;241m+\u001b[39m\u001b[38;5;241m=\u001b[39m (\u001b[38;5;124m\"\u001b[39m\u001b[38;5;124m name: \u001b[39m\u001b[38;5;124m\"\u001b[39m \u001b[38;5;241m+\u001b[39m \u001b[38;5;28mstr\u001b[39m(name \u001b[38;5;28;01mif\u001b[39;00m name \u001b[38;5;129;01mis\u001b[39;00m \u001b[38;5;129;01mnot\u001b[39;00m \u001b[38;5;28;01mNone\u001b[39;00m \u001b[38;5;28;01melse\u001b[39;00m \u001b[38;5;124m\"\u001b[39m\u001b[38;5;124m\"\u001b[39m))\n\u001b[1;32m-> 6002\u001b[0m   \u001b[38;5;28;01mraise\u001b[39;00m core\u001b[38;5;241m.\u001b[39m_status_to_exception(e) \u001b[38;5;28;01mfrom\u001b[39;00m \u001b[38;5;28;01mNone\u001b[39;00m\n",
      "\u001b[1;31mInvalidArgumentError\u001b[0m: {{function_node __wrapped__Sub_device_/job:localhost/replica:0/task:0/device:CPU:0}} Incompatible shapes: [8] vs. [9] [Op:Sub] name: "
     ]
    }
   ],
   "source": [
    "preprocess(b'8.3252, 41.0, 6.984127, 1.023810, 322.0, 2.555556,\t37.88, 122.23, 4.526')"
   ]
  },
  {
   "cell_type": "markdown",
   "metadata": {},
   "source": [
    "Looks good! The ***preprocess()*** function can convert an instance from a byte string to a nice scaled tensor, with its corresponding label. We can now use the dataset’s ***map()*** method to apply the ***preprocess()*** function to each sample in the dataset."
   ]
  },
  {
   "cell_type": "markdown",
   "metadata": {},
   "source": [
    "### **Putting Everything Together**\n",
    "To make the code more reusable, let’s put together everything we have discussed so far into another helper function; it will create and return a dataset that will efficiently load California housing data from multiple CSV files, preprocess it, shuffle it, and batch it"
   ]
  },
  {
   "cell_type": "code",
   "execution_count": 79,
   "metadata": {},
   "outputs": [],
   "source": [
    "def csv_reader_dataset(file_paths, n_readers=5, \n",
    "                       n_read_threads=None, n_parse_threads=5, \n",
    "                       shuffled_buffer_size=10_000, seed=50, \n",
    "                       batch_size=32):\n",
    "    dataset = tf.data.Dataset.list_files(file_paths, seed=seed)\n",
    "    dataset = dataset.interleave(\n",
    "        lambda filepath: tf.data.TextLineDataset(file_path).skip(1), \n",
    "        cycle_length = n_readers, num_parallel_calls=n_read_threads)\n",
    "    dataset = dataset.shuffle(shuffled_buffer_size, seed=seed)\n",
    "    return dataset.batch(batch_size).prefetch(1)"
   ]
  },
  {
   "cell_type": "markdown",
   "metadata": {},
   "source": [
    "Note that we use the ***prefetch()*** method on every last line. This is important for performance, as you will see now."
   ]
  },
  {
   "cell_type": "markdown",
   "metadata": {},
   "source": [
    "### **Prefetching**\n",
    "By calling ***prefetch(1)*** at the end of the custom ***csv_reader_dataset()*** function, we are creating a dataset that will do its best to always be one batch ahead.  In other words, while our training algorithm is working on one batch, the dataset will already be working in parallel on getting the next batch ready (e.g., reading the data from disk and preprocessing it). This can improve performance dramatically, If we also ensure that loading and preprocessing are multithreaded (by setting ***num_parallel_calls*** when calling ***interleave()*** and ***map()***), we can exploit multiple CPU cores and hopefully make preparing one batch of data shorter than running a training step on the GPU: this way the GPU will be almost 100% utilized (except for the data transfer time from the CPU to the GPU ), and training will run much faster.\n",
    "\n",
    "> #### **TIP**\n",
    ">  If you plan to purchase a GPU card, its processing power and its memory size are of course very important (in particular, a large amount of RAM is crucial for large computer vision or natural language processing models). Just as important for good performance is the GPU’s memory bandwidth; this is the number of gigabytes of data it can get into or out of its RAM per second.\n",
    "\n",
    "If the dataset is small enough to fit in memory, you can significantly speed up training by using the dataset’s ***cache()*** method to cache its content to RAM. You should generally do this after loading and preprocessing the data, but before shuffling, repeating, batching, and prefetching. This way, each instance will only be read and preprocessed once (instead of once per epoch), but the data will still be shuffled differently at each epoch, and the next batch will still be prepared in advance.\n",
    "\n",
    "You have now learned how to build efficient input pipelines to load and preprocess data from multiple text files. We have discussed the most common dataset methods, but there are a few more you may want to look at, such as ***concatenate()***, ***zip()***, ***window()***, ***reduce()***, ***shard()***, ***flat_map()***, ***apply()***, ***unbatch()***, and ***padded_batch()***. There are also a few more class methods, such as ***from_generator()*** and ***from_ ten sors()***, which create a new dataset from a Python generator or a list of tensors, respectively. Please check the API documentation for more details. Also note that there are experimental features available in ***tf.data.experimental***, many of which will likely make it to the core API in future releases (e.g., check out the ***CsvDataset*** class, as well as the ***make_csv_dataset()*** method, which takes care of inferring the type of each column)."
   ]
  },
  {
   "cell_type": "markdown",
   "metadata": {},
   "source": [
    "### **Using the Dataset with Keras**\n",
    "Now we can use the custom ***csv_reader_dataset()*** function we wrote earlier to create a dataset for the training set, and for the validation set and the test set. The training set will be shuffled at each epoch (note that the validation set and the test set will also be shuffled, even though we don’t really need that):"
   ]
  },
  {
   "cell_type": "code",
   "execution_count": 82,
   "metadata": {},
   "outputs": [],
   "source": [
    "train_set = csv_reader_dataset(train_filepaths)\n",
    "valid_set = csv_reader_dataset(valid_filepaths)\n",
    "test_set = csv_reader_dataset(test_filepaths)"
   ]
  },
  {
   "cell_type": "markdown",
   "metadata": {},
   "source": [
    "Now you can simply build and train a Keras model using these datasets. When you call the model’s fit() method, you pass ***train_set*** instead of ***X_train***, ***y_train***, and ***pass validation_data=valid_set*** instead of ***validation_data=(X_valid, y_valid)***. The ***fit()*** method will take care of repeating the training dataset once per epoch, using a different random order at each epoch:"
   ]
  },
  {
   "cell_type": "code",
   "execution_count": null,
   "metadata": {},
   "outputs": [],
   "source": [
    "model = tf.keras.Sequential([\n",
    "    tf.keras.layers.Normalization(input_shape=train_set.shape[1:]), \n",
    "    tf.keras.layers.Dense(100, activation='relu'), \n",
    "    tf.keras.layers.Dense(75, activation='relu'), \n",
    "    tf.keras.layers.Dense(50, activation='relu'), \n",
    "    tf.keras.layers.Dense(1)\n",
    "])\n",
    "model.compile(loss='mse', optimizer='sgd')\n",
    "model.fit(train_set, validation_data=valid_set, epochs=5)"
   ]
  },
  {
   "cell_type": "markdown",
   "metadata": {},
   "source": [
    "Similarly, you can pass a dataset to the evaluate() and predict() methods:"
   ]
  },
  {
   "cell_type": "code",
   "execution_count": 107,
   "metadata": {},
   "outputs": [],
   "source": [
    "train = splits[2]"
   ]
  },
  {
   "cell_type": "code",
   "execution_count": null,
   "metadata": {},
   "outputs": [],
   "source": [
    "test_mse = model.evaluate(test_set)\n",
    "new_set = test_set.take(3) # pretend we have 3 new samples\n",
    "y_pred = model.predict(new_set) # or you could just pass a numpy array."
   ]
  },
  {
   "cell_type": "markdown",
   "metadata": {},
   "source": [
    "Unlike the other sets, the ***new_set*** will usually not contain labels. If it does, as is the case here, Keras will ignore them. Note that in all these cases, you can still use NumPy arrays instead of datasets if you prefer (but of course they need to have been loaded and preprocessed first).\n",
    "\n",
    "If you want to build your own custom training loop (as discussed in Chapter 12), you can just iterate over the training set, very naturally:"
   ]
  },
  {
   "cell_type": "code",
   "execution_count": null,
   "metadata": {},
   "outputs": [],
   "source": [
    "n_epochs = 5\n",
    "for epoch in range(n_epochs):\n",
    "    for x_batch, y_batch in train_set:\n",
    "        [...] # Perform one gradient descent step"
   ]
  },
  {
   "cell_type": "markdown",
   "metadata": {},
   "source": [
    "In fact, it is even possible to create a TF function (see Chapter 12) that trains the model for the whole epoch. This can really speed up training:"
   ]
  },
  {
   "cell_type": "code",
   "execution_count": null,
   "metadata": {},
   "outputs": [],
   "source": [
    "@tf.function\n",
    "def train_one_epoch(model, optimizer, loss_fn, train_set):\n",
    "    for x_batch, y_batch in train_set:\n",
    "        with tf.GradientTape() as tape:\n",
    "            y_pred = model(x_batch)\n",
    "            main_loss = tf.reduce_mean(loss_fn(y_batch, y_pred))\n",
    "        gradients = tape.gradient(loss, model.trainable_variables)\n",
    "        optimizer.apply_gradients(zip(gradients, model.trainable_variables))\n",
    "        \n",
    "optimizer = tf.keras.optimizers.SGD(learning_rate=0.01)\n",
    "loss_fn = tf.keras.losses.mean_squared_error\n",
    "for epoch in range(n_epochs):\n",
    "    print(\"\\rEpoch {}/{}\".format(epoch + 1, n_epochs), end=\"\")\n",
    "    train_one_epoch(model, optimizer, loss_fn, train_set)"
   ]
  },
  {
   "cell_type": "markdown",
   "metadata": {},
   "source": [
    "In Keras, the ***steps_per_execution*** argument of the ***compile()*** method lets you define the number of batches that the ***fit()*** method will process during each call to the ***tf.function*** it uses for training. The default is just 1, so if you set it to 50 you will often see a significant performance improvement. However, the ***on_batch_*()** methods of Keras callbacks will only be called every 50 batches.\n",
    "\n",
    "Congratulations, you now know how to build powerful input pipelines using the tf.data API! However, so far we’ve been using CSV files, which are common, simple, and convenient but not really efficient, and do not support large or complex data structures (such as images or audio) very well. So, let’s see how to use TFRecords instead.\n",
    "\n",
    "> #### **TIP**\n",
    ">  If you are happy with CSV files (or whatever other format you are using), you do not have to use TFRecords. As the saying goes, if it ain’t broke, don’t fix it! TFRecords are useful when the bottleneck during training is loading and parsing the data."
   ]
  },
  {
   "cell_type": "markdown",
   "metadata": {},
   "source": [
    "## **TFRecord Format**\n",
    "The TFRecord format is TensorFlow’s preferred format for storing large amounts of data and reading it efficiently. It is a very simple binary format that just contains a sequence of binary records of varying sizes (each record is comprised of a length, a CRC checksum to check that the length was not corrupted, then the actual data, and finally a CRC checksum for the data). You can easily create a TFRecord file using the ***tf.io.TFRecordWriter*** class:"
   ]
  },
  {
   "cell_type": "code",
   "execution_count": 2,
   "metadata": {},
   "outputs": [],
   "source": [
    "with tf.io.TFRecordWriter('my_data.tfrecord') as f:\n",
    "    f.write(b'This is the first record')\n",
    "    f.write(b'This is the second record')"
   ]
  },
  {
   "cell_type": "markdown",
   "metadata": {},
   "source": [
    "And you can then use a **tf.data.TFRecordDataset** to read one or more TFRecord files:"
   ]
  },
  {
   "cell_type": "code",
   "execution_count": 3,
   "metadata": {},
   "outputs": [
    {
     "name": "stdout",
     "output_type": "stream",
     "text": [
      "tf.Tensor(b'This is the first record', shape=(), dtype=string)\n",
      "tf.Tensor(b'This is the second record', shape=(), dtype=string)\n"
     ]
    }
   ],
   "source": [
    "filepaths = ['my_data.tfrecord']\n",
    "dataset = tf.data.TFRecordDataset(filepaths)\n",
    "for item in dataset:\n",
    "    print(item)"
   ]
  },
  {
   "cell_type": "markdown",
   "metadata": {},
   "source": [
    "> #### **TIP**\n",
    ">  By default, a ***TFRecordDataset*** will read files one by one, but you can make it read multiple files in parallel and interleave their records by passing the constructor a list of filepaths and setting ***num_parallel_reads*** to a number greater than one. Alternatively, you could obtain the same result by using ***list_files()*** and ***interleave()*** as we did earlier to read multiple **CSV** files."
   ]
  },
  {
   "cell_type": "markdown",
   "metadata": {},
   "source": [
    "### **Compresed TFRecord Files**\n",
    "It can sometimes be useful to compress your TFRecord files, especially if they need to be loaded via a network connection. You can create compressed TFRecord file by setting the **options** argument:"
   ]
  },
  {
   "cell_type": "code",
   "execution_count": 4,
   "metadata": {},
   "outputs": [],
   "source": [
    "options = tf.io.TFRecordOptions(compression_type='GZIP')\n",
    "with tf.io.TFRecordWriter('my_compressed.tfrecord', options) as file:\n",
    "    file.write(b'Compress, Compress, Compress!')"
   ]
  },
  {
   "cell_type": "markdown",
   "metadata": {},
   "source": [
    "When reading a compressed TFRecord file, you need to specify the compression type:"
   ]
  },
  {
   "cell_type": "code",
   "execution_count": 7,
   "metadata": {},
   "outputs": [
    {
     "name": "stdout",
     "output_type": "stream",
     "text": [
      "tf.Tensor(b'Compress, Compress, Compress!', shape=(), dtype=string)\n"
     ]
    }
   ],
   "source": [
    "dataset = tf.data.TFRecordDataset(['my_compressed.tfrecord'], compression_type='GZIP')\n",
    "for item in dataset:\n",
    "    print(item)"
   ]
  },
  {
   "cell_type": "markdown",
   "metadata": {},
   "source": [
    "### **A Brief Introduction to Protocol Buffers**\n",
    "Even though each record can use any binary format you want, TFRecord files usually contain serialized protocol buffers (also called ***protobufs***). This is a portable, extensible, and efficient binary format developed at Google back in 2001 and made open source in 2008; protobufs are now widely used, in particular in **gRPC**(*https://grpc.io*), Google’s remote procedure call system. They are defined using a simple language that looks like this:"
   ]
  },
  {
   "cell_type": "code",
   "execution_count": null,
   "metadata": {},
   "outputs": [
    {
     "data": {
      "text/plain": [
       "\"This is the person.proto file\\nsyntax = 'proto3'\\nmessage Person {\\n    string name = 1;\\n    int32 id = 2;\\n    repeated string email = 3;\\n}\\n\""
      ]
     },
     "execution_count": 1,
     "metadata": {},
     "output_type": "execute_result"
    }
   ],
   "source": [
    "\"\"\"This is the person.proto file\n",
    "syntax = 'proto3'\n",
    "message Person {\n",
    "    string name = 1;\n",
    "    int32 id = 2;\n",
    "    repeated string email = 3;\n",
    "}\n",
    "\"\"\"\n",
    "# compile it in CMD on correct location useing this command.\n",
    "# protoc --python_out=. person.proto"
   ]
  },
  {
   "cell_type": "markdown",
   "metadata": {},
   "source": [
    "This protobuf definition says we are using version 3 of the protobuf format, and it specifies that each ***Person*** object  may (optionally) have a ***name*** of type string, an ***id*** of type int32, and zero or more **email** fields, each of type string. The numbers 1, 2, and 3 are the field identifiers: they will be used in each record’s binary representation. Once you have a definition in a ***.proto*** file, you can compile it. This requires ***protoc***, the protobuf compiler, to generate access classes in Python (or some other language). Note that the protobuf definitions you will generally use in TensorFlow have already been compiled for you, and their Python classes are part of the TensorFlow library, so you will not need to use ***protoc***. All you need to know is how to use protobuf access classes in Python. To illustrate the basics, let’s look at a simple example that uses the access classes generated for the Person protobuf (the code is explained in the comments):"
   ]
  },
  {
   "cell_type": "code",
   "execution_count": 7,
   "metadata": {
    "vscode": {
     "languageId": "powershell"
    }
   },
   "outputs": [
    {
     "name": "stdout",
     "output_type": "stream",
     "text": [
      "Requirement already satisfied: protobuf in d:\\contents\\applications\\new folder\\lib\\site-packages (6.30.2)\n",
      "Note: you may need to restart the kernel to use updated packages.\n"
     ]
    }
   ],
   "source": [
    "pip install --upgrade protobuf\n"
   ]
  },
  {
   "cell_type": "code",
   "execution_count": 8,
   "metadata": {
    "vscode": {
     "languageId": "powershell"
    }
   },
   "outputs": [
    {
     "name": "stdout",
     "output_type": "stream",
     "text": [
      "^C\n",
      "Note: you may need to restart the kernel to use updated packages.\n"
     ]
    }
   ],
   "source": [
    "pip uninstall protobuf"
   ]
  },
  {
   "cell_type": "code",
   "execution_count": 9,
   "metadata": {
    "vscode": {
     "languageId": "powershell"
    }
   },
   "outputs": [
    {
     "name": "stdout",
     "output_type": "stream",
     "text": [
      "Requirement already satisfied: protobuf in d:\\contents\\applications\\new folder\\lib\\site-packages (6.30.2)\n",
      "Note: you may need to restart the kernel to use updated packages.\n"
     ]
    }
   ],
   "source": [
    "pip install protobuf"
   ]
  },
  {
   "cell_type": "code",
   "execution_count": 11,
   "metadata": {
    "vscode": {
     "languageId": "powershell"
    }
   },
   "outputs": [
    {
     "ename": "SyntaxError",
     "evalue": "unterminated string literal (detected at line 1) (421991360.py, line 1)",
     "output_type": "error",
     "traceback": [
      "\u001b[1;36m  Cell \u001b[1;32mIn[11], line 1\u001b[1;36m\u001b[0m\n\u001b[1;33m    python -c \"import google.protobuf;\u001b[0m\n\u001b[1;37m              ^\u001b[0m\n\u001b[1;31mSyntaxError\u001b[0m\u001b[1;31m:\u001b[0m unterminated string literal (detected at line 1)\n"
     ]
    }
   ],
   "source": [
    "python -c \"import google.protobuf; \n",
    "print(google.protobuf.__version__)\""
   ]
  },
  {
   "cell_type": "code",
   "execution_count": 6,
   "metadata": {},
   "outputs": [
    {
     "ename": "AttributeError",
     "evalue": "module 'google.protobuf.internal.api_implementation' has no attribute '_c_module'",
     "output_type": "error",
     "traceback": [
      "\u001b[1;31m---------------------------------------------------------------------------\u001b[0m",
      "\u001b[1;31mAttributeError\u001b[0m                            Traceback (most recent call last)",
      "Cell \u001b[1;32mIn[6], line 1\u001b[0m\n\u001b[1;32m----> 1\u001b[0m \u001b[38;5;28;01mfrom\u001b[39;00m \u001b[38;5;21;01mperson_pb2\u001b[39;00m \u001b[38;5;28;01mimport\u001b[39;00m Person \u001b[38;5;66;03m# import the generated access\u001b[39;00m\n\u001b[0;32m      3\u001b[0m person \u001b[38;5;241m=\u001b[39m Person(name\u001b[38;5;241m=\u001b[39m\u001b[38;5;124m'\u001b[39m\u001b[38;5;124mAI\u001b[39m\u001b[38;5;124m'\u001b[39m, \u001b[38;5;28mid\u001b[39m\u001b[38;5;241m=\u001b[39m\u001b[38;5;241m123\u001b[39m, email\u001b[38;5;241m=\u001b[39m[\u001b[38;5;124m'\u001b[39m\u001b[38;5;124ma@b.com\u001b[39m\u001b[38;5;124m'\u001b[39m]) \u001b[38;5;66;03m# Create a person\u001b[39;00m\n\u001b[0;32m      4\u001b[0m \u001b[38;5;28mprint\u001b[39m(person)\n",
      "File \u001b[1;32md:\\CONTENTS\\AI\\CODE\\Neural Networks and Deep Learning\\CHAPTER_13\\person_pb2.py:10\u001b[0m\n\u001b[0;32m      8\u001b[0m \u001b[38;5;28;01mfrom\u001b[39;00m \u001b[38;5;21;01mgoogle\u001b[39;00m\u001b[38;5;21;01m.\u001b[39;00m\u001b[38;5;21;01mprotobuf\u001b[39;00m \u001b[38;5;28;01mimport\u001b[39;00m descriptor_pool \u001b[38;5;28;01mas\u001b[39;00m _descriptor_pool\n\u001b[0;32m      9\u001b[0m \u001b[38;5;28;01mfrom\u001b[39;00m \u001b[38;5;21;01mgoogle\u001b[39;00m\u001b[38;5;21;01m.\u001b[39;00m\u001b[38;5;21;01mprotobuf\u001b[39;00m \u001b[38;5;28;01mimport\u001b[39;00m runtime_version \u001b[38;5;28;01mas\u001b[39;00m _runtime_version\n\u001b[1;32m---> 10\u001b[0m \u001b[38;5;28;01mfrom\u001b[39;00m \u001b[38;5;21;01mgoogle\u001b[39;00m\u001b[38;5;21;01m.\u001b[39;00m\u001b[38;5;21;01mprotobuf\u001b[39;00m \u001b[38;5;28;01mimport\u001b[39;00m symbol_database \u001b[38;5;28;01mas\u001b[39;00m _symbol_database\n\u001b[0;32m     11\u001b[0m \u001b[38;5;28;01mfrom\u001b[39;00m \u001b[38;5;21;01mgoogle\u001b[39;00m\u001b[38;5;21;01m.\u001b[39;00m\u001b[38;5;21;01mprotobuf\u001b[39;00m\u001b[38;5;21;01m.\u001b[39;00m\u001b[38;5;21;01minternal\u001b[39;00m \u001b[38;5;28;01mimport\u001b[39;00m builder \u001b[38;5;28;01mas\u001b[39;00m _builder\n\u001b[0;32m     12\u001b[0m _runtime_version\u001b[38;5;241m.\u001b[39mValidateProtobufRuntimeVersion(\n\u001b[0;32m     13\u001b[0m     _runtime_version\u001b[38;5;241m.\u001b[39mDomain\u001b[38;5;241m.\u001b[39mPUBLIC,\n\u001b[0;32m     14\u001b[0m     \u001b[38;5;241m6\u001b[39m,\n\u001b[1;32m   (...)\u001b[0m\n\u001b[0;32m     18\u001b[0m     \u001b[38;5;124m'\u001b[39m\u001b[38;5;124mperson.proto\u001b[39m\u001b[38;5;124m'\u001b[39m\n\u001b[0;32m     19\u001b[0m )\n",
      "File \u001b[1;32md:\\CONTENTS\\APPLICATIONS\\New Folder\\Lib\\site-packages\\google\\protobuf\\symbol_database.py:41\u001b[0m\n\u001b[0;32m     39\u001b[0m \u001b[38;5;28;01mfrom\u001b[39;00m \u001b[38;5;21;01mgoogle\u001b[39;00m\u001b[38;5;21;01m.\u001b[39;00m\u001b[38;5;21;01mprotobuf\u001b[39;00m\u001b[38;5;21;01m.\u001b[39;00m\u001b[38;5;21;01minternal\u001b[39;00m \u001b[38;5;28;01mimport\u001b[39;00m api_implementation\n\u001b[0;32m     40\u001b[0m \u001b[38;5;28;01mfrom\u001b[39;00m \u001b[38;5;21;01mgoogle\u001b[39;00m\u001b[38;5;21;01m.\u001b[39;00m\u001b[38;5;21;01mprotobuf\u001b[39;00m \u001b[38;5;28;01mimport\u001b[39;00m descriptor_pool\n\u001b[1;32m---> 41\u001b[0m \u001b[38;5;28;01mfrom\u001b[39;00m \u001b[38;5;21;01mgoogle\u001b[39;00m\u001b[38;5;21;01m.\u001b[39;00m\u001b[38;5;21;01mprotobuf\u001b[39;00m \u001b[38;5;28;01mimport\u001b[39;00m message_factory\n\u001b[0;32m     44\u001b[0m \u001b[38;5;28;01mclass\u001b[39;00m \u001b[38;5;21;01mSymbolDatabase\u001b[39;00m():\n\u001b[0;32m     45\u001b[0m \u001b[38;5;250m  \u001b[39m\u001b[38;5;124;03m\"\"\"A database of Python generated symbols.\"\"\"\u001b[39;00m\n",
      "File \u001b[1;32md:\\CONTENTS\\APPLICATIONS\\New Folder\\Lib\\site-packages\\google\\protobuf\\message_factory.py:26\u001b[0m\n\u001b[0;32m     23\u001b[0m \u001b[38;5;28;01mfrom\u001b[39;00m \u001b[38;5;21;01mgoogle\u001b[39;00m\u001b[38;5;21;01m.\u001b[39;00m\u001b[38;5;21;01mprotobuf\u001b[39;00m\u001b[38;5;21;01m.\u001b[39;00m\u001b[38;5;21;01minternal\u001b[39;00m \u001b[38;5;28;01mimport\u001b[39;00m api_implementation\n\u001b[0;32m     25\u001b[0m \u001b[38;5;28;01mif\u001b[39;00m api_implementation\u001b[38;5;241m.\u001b[39mType() \u001b[38;5;241m==\u001b[39m \u001b[38;5;124m'\u001b[39m\u001b[38;5;124mpython\u001b[39m\u001b[38;5;124m'\u001b[39m:\n\u001b[1;32m---> 26\u001b[0m   \u001b[38;5;28;01mfrom\u001b[39;00m \u001b[38;5;21;01mgoogle\u001b[39;00m\u001b[38;5;21;01m.\u001b[39;00m\u001b[38;5;21;01mprotobuf\u001b[39;00m\u001b[38;5;21;01m.\u001b[39;00m\u001b[38;5;21;01minternal\u001b[39;00m \u001b[38;5;28;01mimport\u001b[39;00m python_message \u001b[38;5;28;01mas\u001b[39;00m message_impl\n\u001b[0;32m     27\u001b[0m \u001b[38;5;28;01melse\u001b[39;00m:\n\u001b[0;32m     28\u001b[0m   \u001b[38;5;28;01mfrom\u001b[39;00m \u001b[38;5;21;01mgoogle\u001b[39;00m\u001b[38;5;21;01m.\u001b[39;00m\u001b[38;5;21;01mprotobuf\u001b[39;00m\u001b[38;5;21;01m.\u001b[39;00m\u001b[38;5;21;01mpyext\u001b[39;00m \u001b[38;5;28;01mimport\u001b[39;00m cpp_message \u001b[38;5;28;01mas\u001b[39;00m message_impl  \u001b[38;5;66;03m# pylint: disable=g-import-not-at-top\u001b[39;00m\n",
      "File \u001b[1;32md:\\CONTENTS\\APPLICATIONS\\New Folder\\Lib\\site-packages\\google\\protobuf\\internal\\python_message.py:40\u001b[0m\n\u001b[0;32m     38\u001b[0m \u001b[38;5;28;01mfrom\u001b[39;00m \u001b[38;5;21;01mgoogle\u001b[39;00m\u001b[38;5;21;01m.\u001b[39;00m\u001b[38;5;21;01mprotobuf\u001b[39;00m \u001b[38;5;28;01mimport\u001b[39;00m descriptor \u001b[38;5;28;01mas\u001b[39;00m descriptor_mod\n\u001b[0;32m     39\u001b[0m \u001b[38;5;28;01mfrom\u001b[39;00m \u001b[38;5;21;01mgoogle\u001b[39;00m\u001b[38;5;21;01m.\u001b[39;00m\u001b[38;5;21;01mprotobuf\u001b[39;00m \u001b[38;5;28;01mimport\u001b[39;00m message \u001b[38;5;28;01mas\u001b[39;00m message_mod\n\u001b[1;32m---> 40\u001b[0m \u001b[38;5;28;01mfrom\u001b[39;00m \u001b[38;5;21;01mgoogle\u001b[39;00m\u001b[38;5;21;01m.\u001b[39;00m\u001b[38;5;21;01mprotobuf\u001b[39;00m \u001b[38;5;28;01mimport\u001b[39;00m text_format\n\u001b[0;32m     41\u001b[0m \u001b[38;5;66;03m# We use \"as\" to avoid name collisions with variables.\u001b[39;00m\n\u001b[0;32m     42\u001b[0m \u001b[38;5;28;01mfrom\u001b[39;00m \u001b[38;5;21;01mgoogle\u001b[39;00m\u001b[38;5;21;01m.\u001b[39;00m\u001b[38;5;21;01mprotobuf\u001b[39;00m\u001b[38;5;21;01m.\u001b[39;00m\u001b[38;5;21;01minternal\u001b[39;00m \u001b[38;5;28;01mimport\u001b[39;00m api_implementation\n",
      "File \u001b[1;32md:\\CONTENTS\\APPLICATIONS\\New Folder\\Lib\\site-packages\\google\\protobuf\\text_format.py:33\u001b[0m\n\u001b[0;32m     31\u001b[0m \u001b[38;5;28;01mfrom\u001b[39;00m \u001b[38;5;21;01mgoogle\u001b[39;00m\u001b[38;5;21;01m.\u001b[39;00m\u001b[38;5;21;01mprotobuf\u001b[39;00m \u001b[38;5;28;01mimport\u001b[39;00m descriptor\n\u001b[0;32m     32\u001b[0m \u001b[38;5;28;01mfrom\u001b[39;00m \u001b[38;5;21;01mgoogle\u001b[39;00m\u001b[38;5;21;01m.\u001b[39;00m\u001b[38;5;21;01mprotobuf\u001b[39;00m \u001b[38;5;28;01mimport\u001b[39;00m text_encoding\n\u001b[1;32m---> 33\u001b[0m \u001b[38;5;28;01mfrom\u001b[39;00m \u001b[38;5;21;01mgoogle\u001b[39;00m\u001b[38;5;21;01m.\u001b[39;00m\u001b[38;5;21;01mprotobuf\u001b[39;00m \u001b[38;5;28;01mimport\u001b[39;00m unknown_fields\n\u001b[0;32m     35\u001b[0m \u001b[38;5;66;03m# pylint: disable=g-import-not-at-top\u001b[39;00m\n\u001b[0;32m     36\u001b[0m __all__ \u001b[38;5;241m=\u001b[39m [\u001b[38;5;124m'\u001b[39m\u001b[38;5;124mMessageToString\u001b[39m\u001b[38;5;124m'\u001b[39m, \u001b[38;5;124m'\u001b[39m\u001b[38;5;124mParse\u001b[39m\u001b[38;5;124m'\u001b[39m, \u001b[38;5;124m'\u001b[39m\u001b[38;5;124mPrintMessage\u001b[39m\u001b[38;5;124m'\u001b[39m, \u001b[38;5;124m'\u001b[39m\u001b[38;5;124mPrintField\u001b[39m\u001b[38;5;124m'\u001b[39m,\n\u001b[0;32m     37\u001b[0m            \u001b[38;5;124m'\u001b[39m\u001b[38;5;124mPrintFieldValue\u001b[39m\u001b[38;5;124m'\u001b[39m, \u001b[38;5;124m'\u001b[39m\u001b[38;5;124mMerge\u001b[39m\u001b[38;5;124m'\u001b[39m, \u001b[38;5;124m'\u001b[39m\u001b[38;5;124mMessageToBytes\u001b[39m\u001b[38;5;124m'\u001b[39m]\n",
      "File \u001b[1;32md:\\CONTENTS\\APPLICATIONS\\New Folder\\Lib\\site-packages\\google\\protobuf\\unknown_fields.py:21\u001b[0m\n\u001b[0;32m      8\u001b[0m \u001b[38;5;124;03m\"\"\"Contains Unknown Fields APIs.\u001b[39;00m\n\u001b[0;32m      9\u001b[0m \n\u001b[0;32m     10\u001b[0m \u001b[38;5;124;03mSimple usage example:\u001b[39;00m\n\u001b[1;32m   (...)\u001b[0m\n\u001b[0;32m     15\u001b[0m \u001b[38;5;124;03m    data = unknown_field.data\u001b[39;00m\n\u001b[0;32m     16\u001b[0m \u001b[38;5;124;03m\"\"\"\u001b[39;00m\n\u001b[0;32m     19\u001b[0m \u001b[38;5;28;01mfrom\u001b[39;00m \u001b[38;5;21;01mgoogle\u001b[39;00m\u001b[38;5;21;01m.\u001b[39;00m\u001b[38;5;21;01mprotobuf\u001b[39;00m\u001b[38;5;21;01m.\u001b[39;00m\u001b[38;5;21;01minternal\u001b[39;00m \u001b[38;5;28;01mimport\u001b[39;00m api_implementation\n\u001b[1;32m---> 21\u001b[0m \u001b[38;5;28;01mif\u001b[39;00m api_implementation\u001b[38;5;241m.\u001b[39m_c_module \u001b[38;5;129;01mis\u001b[39;00m \u001b[38;5;129;01mnot\u001b[39;00m \u001b[38;5;28;01mNone\u001b[39;00m:  \u001b[38;5;66;03m# pylint: disable=protected-access\u001b[39;00m\n\u001b[0;32m     22\u001b[0m   UnknownFieldSet \u001b[38;5;241m=\u001b[39m api_implementation\u001b[38;5;241m.\u001b[39m_c_module\u001b[38;5;241m.\u001b[39mUnknownFieldSet  \u001b[38;5;66;03m# pylint: disable=protected-access\u001b[39;00m\n\u001b[0;32m     23\u001b[0m \u001b[38;5;28;01melse\u001b[39;00m:\n",
      "\u001b[1;31mAttributeError\u001b[0m: module 'google.protobuf.internal.api_implementation' has no attribute '_c_module'"
     ]
    }
   ],
   "source": [
    "from person_pb2 import Person # import the generated access\n",
    "\n",
    "person = Person(name='AI', id=123, email=['a@b.com']) # Create a person\n",
    "print(person)\n",
    "\n",
    "person.name # read a fieled\n",
    "\n",
    "person.name = 'Alice' # Modify a field\n",
    "\n",
    "person.email[0] # Repeated fields can be accessed like arrays\n",
    "\n",
    "person.email.append('c@d.com') # Add an email address\n",
    "\n",
    "serialized\n",
    "\n",
    "person2.Person() # Create a new person\n",
    "\n",
    "person2.ParseFromString(serialized) # Parse the byte string (27 bytes long)\n",
    "\n",
    "person == person2 # Now they are equal"
   ]
  },
  {
   "cell_type": "code",
   "execution_count": 18,
   "metadata": {},
   "outputs": [
    {
     "data": {
      "text/plain": [
       "<__main__.Person at 0x1bb049dde50>"
      ]
     },
     "execution_count": 18,
     "metadata": {},
     "output_type": "execute_result"
    }
   ],
   "source": [
    "class Person:\n",
    "    def __init__(self, name, id, email=[]):\n",
    "        self.name = name\n",
    "        self.id = id\n",
    "        self.email = email\n",
    "    \n",
    "    def output(self):\n",
    "        return f\"name: {name}\\nid: {id}\\nemail: {email};\"\n",
    "    \n",
    "Person('jaxon', 123, ['mamacita'])"
   ]
  },
  {
   "cell_type": "markdown",
   "metadata": {},
   "source": [
    "In short, we import the ***Person*** class generated by ***protoc***, we create an instance and play with it, visualizing it and reading and writing some fields, then we serialize it using the ***SerializeToString()*** method. This is the binary data that is ready to be saved or transmitted over the network. When reading or receiving this binary data, we can parse it using the ***ParseFromString()*** method, and we get a copy of the object that was serialized.\n",
    "\n",
    "You could save the serialized ***Person*** object to a TFRecord file, then load and parse it: everything would work fine. However, ***ParseFromString()*** is not a TensorFlow operation, so you couldn’t use it in a preprocessing function in a tf.data pipeline (except by wrapping it in a ***tf.py_function()*** operation, which would make the code slower and less portable, as you saw in Chapter 12). However, you could use the ***tf.io.decode_proto()*** function, which can parse any protobuf you want, provided you give it the protobuf definition (see the notebook for an example). That said, in practice you will generally want to use instead the predefined protobufs for which TensorFlow provides dedicated parsing operations. Let’s look at these predefined protobufs now."
   ]
  },
  {
   "cell_type": "markdown",
   "metadata": {},
   "source": [
    "### **TensorFlow Protobufs**\n",
    "The main protobuf typically used in a TFRecord file is the ***Example*** protobuf, which represents one instance in a dataset. It contains a list of named features, where each feature can either be a list of byte strings, a list of floats, or a list of integers. Here is the protobuf definition (from TensorFlow’s source code):"
   ]
  },
  {
   "cell_type": "code",
   "execution_count": 12,
   "metadata": {},
   "outputs": [
    {
     "data": {
      "text/plain": [
       "'\\n syntax = \"proto3\";\\n message BytesList { repeated bytes value = 1; }\\n message FloatList { repeated float value = 1 [packed = true]; }\\n message Int64List { repeated int64 value = 1 [packed = true]; }\\n message Feature {\\n oneof kind {\\n BytesList bytes_list = 1;\\n FloatList float_list = 2;\\n Int64List int64_list = 3;\\n }\\n };\\n message Features { map<string, Feature> feature = 1; };\\n message Example { Features features = 1; };\\n\\n'"
      ]
     },
     "execution_count": 12,
     "metadata": {},
     "output_type": "execute_result"
    }
   ],
   "source": [
    "\"\"\"\n",
    " syntax = \"proto3\";\n",
    " message BytesList { repeated bytes value = 1; }\n",
    " message FloatList { repeated float value = 1 [packed = true]; }\n",
    " message Int64List { repeated int64 value = 1 [packed = true]; }\n",
    " message Feature {\n",
    " oneof kind {\n",
    " BytesList bytes_list = 1;\n",
    " FloatList float_list = 2;\n",
    " Int64List int64_list = 3;\n",
    " }\n",
    " };\n",
    " message Features { map<string, Feature> feature = 1; };\n",
    " message Example { Features features = 1; };\n",
    "\n",
    "\"\"\""
   ]
  },
  {
   "cell_type": "markdown",
   "metadata": {},
   "source": [
    "The definitions of ***BytesList***, ***FloatList***, and ***Int64List*** are straightforward enough. Note that [***packed = true***] is used for repeated numerical fields, for a more efficient encoding. A ***Feature*** contains either a ***BytesList***, a ***FloatList***, or an ***Int64List***. A ***Features*** (with an ***s***) contains a dictionary that maps a feature name to the corresponding feature value. And finally, an ***Example*** contains only a ***Features*** object.\n",
    "\n",
    "> #### **NOTE**\n",
    "> Why was ***Example*** even defined, since it contains no more than a ***Features*** object? Well, TensorFlow’s developers may one day decide to add more fields to it. As long as the new ***Example*** definition still contains the ***features*** field, with the same ID, it will be backward compatible. This extensibility is one of the great features of protobufs.\n",
    "\n",
    "Here is how you could create a ***tf.train.Example*** representing the same person as earlier:"
   ]
  },
  {
   "cell_type": "code",
   "execution_count": null,
   "metadata": {},
   "outputs": [],
   "source": [
    "from tensorflow.train import ByteList, FloatList, Int64List\n",
    "from tensorflow.train import Feature, Features, Example\n",
    "\n",
    "person_example = Example(\n",
    "    features=Features(\n",
    "        feature={\n",
    "            'name': Feature (bytes_list=BytesList(value=[b\"Alice\"])), \n",
    "            'id': Feature (int64_list=int64List(value=[123])),\n",
    "            'emails': Feature(bytes_list=BytesList(value=[b\"a@b.com\", b\"c@d.com\"]))\n",
    "        }\n",
    "    )\n",
    ")"
   ]
  },
  {
   "cell_type": "markdown",
   "metadata": {},
   "source": [
    "The code is a bit verbose and repetitive, but you could easily wrap it inside a small helper function. Now that we have an ***Example*** protobuf, we can serialize it by calling its ***SerializeToString()*** method, then write theresulting data to a TFRecord file. Let’s write it five times to pretend we have several contacts:"
   ]
  },
  {
   "cell_type": "code",
   "execution_count": 1,
   "metadata": {},
   "outputs": [
    {
     "ename": "AttributeError",
     "evalue": "'MessageFactory' object has no attribute 'GetPrototype'",
     "output_type": "error",
     "traceback": [
      "\u001b[1;31m---------------------------------------------------------------------------\u001b[0m",
      "\u001b[1;31mAttributeError\u001b[0m                            Traceback (most recent call last)",
      "\u001b[1;31mAttributeError\u001b[0m: 'MessageFactory' object has no attribute 'GetPrototype'"
     ]
    },
    {
     "ename": "AttributeError",
     "evalue": "'MessageFactory' object has no attribute 'GetPrototype'",
     "output_type": "error",
     "traceback": [
      "\u001b[1;31m---------------------------------------------------------------------------\u001b[0m",
      "\u001b[1;31mAttributeError\u001b[0m                            Traceback (most recent call last)",
      "\u001b[1;31mAttributeError\u001b[0m: 'MessageFactory' object has no attribute 'GetPrototype'"
     ]
    },
    {
     "ename": "AttributeError",
     "evalue": "'MessageFactory' object has no attribute 'GetPrototype'",
     "output_type": "error",
     "traceback": [
      "\u001b[1;31m---------------------------------------------------------------------------\u001b[0m",
      "\u001b[1;31mAttributeError\u001b[0m                            Traceback (most recent call last)",
      "\u001b[1;31mAttributeError\u001b[0m: 'MessageFactory' object has no attribute 'GetPrototype'"
     ]
    },
    {
     "ename": "AttributeError",
     "evalue": "'MessageFactory' object has no attribute 'GetPrototype'",
     "output_type": "error",
     "traceback": [
      "\u001b[1;31m---------------------------------------------------------------------------\u001b[0m",
      "\u001b[1;31mAttributeError\u001b[0m                            Traceback (most recent call last)",
      "\u001b[1;31mAttributeError\u001b[0m: 'MessageFactory' object has no attribute 'GetPrototype'"
     ]
    },
    {
     "ename": "AttributeError",
     "evalue": "'MessageFactory' object has no attribute 'GetPrototype'",
     "output_type": "error",
     "traceback": [
      "\u001b[1;31m---------------------------------------------------------------------------\u001b[0m",
      "\u001b[1;31mAttributeError\u001b[0m                            Traceback (most recent call last)",
      "\u001b[1;31mAttributeError\u001b[0m: 'MessageFactory' object has no attribute 'GetPrototype'"
     ]
    },
    {
     "ename": "NameError",
     "evalue": "name 'ranfe' is not defined",
     "output_type": "error",
     "traceback": [
      "\u001b[1;31m---------------------------------------------------------------------------\u001b[0m",
      "\u001b[1;31mNameError\u001b[0m                                 Traceback (most recent call last)",
      "Cell \u001b[1;32mIn[1], line 4\u001b[0m\n\u001b[0;32m      1\u001b[0m \u001b[38;5;28;01mimport\u001b[39;00m \u001b[38;5;21;01mtensorflow\u001b[39;00m \u001b[38;5;28;01mas\u001b[39;00m \u001b[38;5;21;01mtf\u001b[39;00m\n\u001b[0;32m      3\u001b[0m \u001b[38;5;28;01mwith\u001b[39;00m tf\u001b[38;5;241m.\u001b[39mio\u001b[38;5;241m.\u001b[39mTFRecordWriter(\u001b[38;5;124m\"\u001b[39m\u001b[38;5;124mmy_contacts.tf.record\u001b[39m\u001b[38;5;124m\"\u001b[39m) \u001b[38;5;28;01mas\u001b[39;00m file:\n\u001b[1;32m----> 4\u001b[0m     \u001b[38;5;28;01mfor\u001b[39;00m _ \u001b[38;5;129;01min\u001b[39;00m ranfe(\u001b[38;5;241m5\u001b[39m):\n\u001b[0;32m      5\u001b[0m         file\u001b[38;5;241m.\u001b[39mwrite(person_example\u001b[38;5;241m.\u001b[39mSerializeToString())\n",
      "\u001b[1;31mNameError\u001b[0m: name 'ranfe' is not defined"
     ]
    }
   ],
   "source": [
    "import tensorflow as tf\n",
    "\n",
    "with tf.io.TFRecordWriter(\"my_contacts.tf.record\") as file:\n",
    "    for _ in ranfe(5):\n",
    "        file.write(person_example.SerializeToString())"
   ]
  },
  {
   "cell_type": "markdown",
   "metadata": {},
   "source": [
    "Normally you would write much more than five Examples! Typically, you would create a conversion script that reads from your current format (say, CSV files), creates an Example protobuf for each instance, serializes them, and saves them to several TFRecord files, ideally shuffling them in the process. This requires a bit of work, so once again make sure it is really necessary (perhaps your pipeline works fine with CSV files).\n",
    "\n",
    "Now that we have a nice TFRecord file containing several serialized Examples, let’s try to load it."
   ]
  },
  {
   "cell_type": "markdown",
   "metadata": {},
   "source": [
    "### **Loading and Parsing Examples**\n",
    "To load the serialized Example protobufs, we will use a tf.data.TFRecordDataset once again, and we will parse each Example using tf.io.parse_single_example(). It requires at least two arguments: a string scalar tensor containing the serialized data, and a description of each feature. The description is a dictionary that maps each feature name to either a tf.io.FixedLenFeature descriptor indicating the feature’s shape, type, and default value, or a tf.io.VarLenFeature descriptor indicating only the type if the length of the feature’s list may vary (such as for the \"emails\" feature).\n",
    "\n",
    "The following code defines a description dictionary, then creates a TFRecordDataset and applies a custom preprocessing function to it to parse each serialized Example protobuf that this dataset contains:"
   ]
  },
  {
   "cell_type": "code",
   "execution_count": null,
   "metadata": {},
   "outputs": [],
   "source": [
    "feature_description = {\n",
    "    \"name\": tf.io.FixedLenFeature([], tf.string, default_value=\"\"),\n",
    "    \"id\": tf.io.FixedLenFeature([], tf.int64, default_value=0),\n",
    "    \"emails\": tf.io.VarLenFeature(tf.string),\n",
    "    }\n",
    "\n",
    "def parse(serialized_example):\n",
    "    return tf.io.parse_single_example(serialized_example, feature_description)\n",
    "\n",
    "dataset = tf.data.TFRecordDataset([\"my_contacts.tfrecord\"]).map(parse)\n",
    "for parsed_example in dataset:\n",
    "    print(parsed_example)"
   ]
  },
  {
   "cell_type": "markdown",
   "metadata": {},
   "source": [
    "The fixed-length features are parsed as regular tensors, but the variable length features are parsed as sparse tensors. You can convert a sparse tensor to a dense tensor using tf.sparse.to_dense(), but in this case it is simpler to just access its values:"
   ]
  },
  {
   "cell_type": "code",
   "execution_count": null,
   "metadata": {},
   "outputs": [],
   "source": [
    "tf.sparse.to_dense(parsed_example['emails'], default_value=b\"\")"
   ]
  },
  {
   "cell_type": "code",
   "execution_count": null,
   "metadata": {},
   "outputs": [],
   "source": [
    "parsed_example[\"emails\"].values"
   ]
  },
  {
   "cell_type": "markdown",
   "metadata": {},
   "source": [
    "Instead of parsing examples one by one using ***tf.io.parse_single_example()***, you may want to parse them batch by batch ***using tf.io.parse_example(***):"
   ]
  },
  {
   "cell_type": "code",
   "execution_count": null,
   "metadata": {},
   "outputs": [],
   "source": [
    "def parse(serialized_examples):\n",
    "    return tf.io.parse_example(serialized_examples, \n",
    "feature_description)\n",
    "\n",
    "dataset = tf.data.TFRecordDataset([\"my_contacts.tfrecord\"]).batch(2).map(parse)\n",
    "\n",
    "for parsed_examples in dataset:\n",
    "    print(parsed_examples)  # two examples at a time"
   ]
  },
  {
   "cell_type": "markdown",
   "metadata": {},
   "source": [
    "Lastly, a BytesList can contain any binary data you want, including any serialized object. For example, you can use tf.io.encode_jpeg() to encode an image using the JPEG format and put this binary data in a BytesList. Later, when your code reads the TFRecord, it will start by parsing the Example, then it will need to call tf.io.decode_jpeg() to parse the data and get the original image (or you can use tf.io.decode_image(), which can decode any BMP, GIF, JPEG, or PNG image). You can also store any tensor you want in a BytesList by serializing the tensor using tf.io.serialize_tensor() then putting the resulting byte string in a BytesList feature. Later, when you parse the TFRecord, you can parse this data using tf.io.parse_tensor(). See this chapter’s notebook at *https://homl.info/colab3* for examples of storing images and tensors in a TFRecord file.\n",
    "\n",
    "As you can see, the Example protobuf is quite flexible, so it will probably be sufficient for most use cases. However, it may be a bit cumbersome to use when you are dealing with lists of lists. For example, suppose you want to classify text documents. Each document may be represented as a list of sentences, where each sentence is represented as a list of words. And perhaps each document also has a list of comments, where each comment is represented as a list of words. There may be some contextual data too, such as the document’s author, title, and publication date. TensorFlow’s SequenceExample protobuf is designed for such use cases.\n",
    "\n"
   ]
  },
  {
   "cell_type": "markdown",
   "metadata": {},
   "source": [
    "### **Handling Lists of Lists Using the SequenceExample Protobuf**\n",
    "Here is the definition of the SequenceExample protobuf:"
   ]
  },
  {
   "cell_type": "code",
   "execution_count": null,
   "metadata": {},
   "outputs": [],
   "source": [
    "\"\"\"\n",
    "message FeatureList { repeated Feature feature = 1; };\n",
    "message FeatureLists { map<string, FeatureList> feature_list = 1;};\n",
    "message SequenceExample {Features context = 1;\n",
    "FeatureLists feature_lists = 2; };\n",
    "\"\"\""
   ]
  },
  {
   "cell_type": "markdown",
   "metadata": {},
   "source": [
    "A SequenceExample contains a Features object for the contextual data and a FeatureLists object that contains one or more named FeatureList objects (e.g., a FeatureList named \"content\" and another named \"comments\"). Each FeatureList contains a list of Feature objects, each of which may be a list of byte strings, a list of 64bit integers, or a list of floats (in this example, each Feature would represent a sentence or a comment, perhaps in the form of a list of word identifiers). Building a SequenceExample, serializing it, and parsing it is similar to building, serializing, and parsing an Example, but you must use tf.io.parse_single_sequence_example() to parse a single SequenceExample or tf.io.parse_sequence_example() to parse a batch. Both functions return a tuple containing the context features (as a dictionary) and the feature lists (also as a dictionary). If the feature lists contain sequences of varying sizes (as in the preceding example), you may want to convert them to ragged tensors using tf.RaggedTensor.from_sparse() (see the notebook for the full code):"
   ]
  },
  {
   "cell_type": "code",
   "execution_count": null,
   "metadata": {},
   "outputs": [],
   "source": [
    "parsed_context, parsed_feature_lists = tf.io.parse_single_sequence_example(\n",
    "    serialized_sequence_example, context_feature_descriptions,\n",
    "    sequence_feature_descriptions)\n",
    "parsed_content = tf.RaggedTensor.from_sparse(parsed_feature_lists[\"content\"])"
   ]
  },
  {
   "cell_type": "markdown",
   "metadata": {},
   "source": [
    "Now that you know how to efficiently store, load, parse, and preprocess the data using the tf.data API, TFRecords, and protobufs, it’s time to turn our attention to the Keras preprocessing layers."
   ]
  },
  {
   "cell_type": "markdown",
   "metadata": {},
   "source": [
    "## **Keras Preprocessing Layers**\n",
    "Preparing your data for a neural network typically requires normalizing the numerical features, encoding the categorical features and text, cropping and resizing images, and more. There are several options for this:\n",
    "- The preprocessing can be done ahead of time when preparing your training data files, using any tools you like, such as NumPy, Pandas, or Scikit-Learn. You will need to apply the exact same preprocessing steps in production, to ensure your production model receives preprocessed inputs similar to the ones it was trained on.\n",
    "\n",
    "- Alternatively, you can preprocess your data on the fly while loading it with tf.data, by applying a preprocessing function to every element of a dataset using that dataset’s map() method, as we did earlier in this chapter. Again, you will need to apply the same preprocessing steps in production.\n",
    "\n",
    "- One last approach is to include preprocessing layers directly inside your model so it can preprocess all the input data on the fly during training, then use the same preprocessing layers in production. The rest of this chapter will look at this last approach.\n",
    "\n",
    "Keras offers many preprocessing layers that you can include in your models: they can be applied to numerical features, categorical features, images, and text. We’ll go over the numerical and categorical features in the next sections, as well as basic text preprocessing, and we will cover image preprocessing in Chapter 14 and more advanced text preprocessing in Chapter 16.\n"
   ]
  },
  {
   "cell_type": "markdown",
   "metadata": {},
   "source": [
    "### **The Normalization Layer**\n",
    "As we saw in Chapter 10, Keras provides a ***Normalization*** layer that we can use to standardize the input features. We can either specify the mean and variance of each feature when creating the layer or—more simply— pass the training set to the layer’s ***adapt()*** method before fitting the model, so the layer can measure the feature means and variances on its own before training:"
   ]
  },
  {
   "cell_type": "code",
   "execution_count": null,
   "metadata": {},
   "outputs": [],
   "source": [
    "# Before running make sure first to load the dataset and split it accordingly\n",
    "norm_layer = tf.keras.layers.Normalization()\n",
    "model = tf.keras.models.Sequential([\n",
    "    norm_layer,\n",
    "    tf.keras.layers.Dense(1)\n",
    "])\n",
    "model.compile(loss='mse', optimizer=tf.keras.optimizers.SGD(learning_rate=2e-3))\n",
    "norm_layer.adapt(x_train) # Computes the mean and variance of every feature\n",
    "model.fit(x_train, y_train, validation_data=(x_valid, y_valid), epochs=5)"
   ]
  },
  {
   "cell_type": "markdown",
   "metadata": {},
   "source": [
    "> #### **TIP**\n",
    "> The data sample passed to the ***adapt()*** method must be large enough to be representative of your dataset, but it does not have to be the full training set: for the ***Normalization*** layer, a few hundred instances randomly sampled from the training set will generally be sufficient to get a good estimate of the feature means and variances.\n",
    "\n",
    "Since we included the Normalization layer inside the model, we can now deploy this model to production without having to worry about normalization again: the model will just handle it. This approach completely eliminates the risk of preprocessing mismatch, which happens when people try to maintain different preprocessing code for training and production but update one and forget to update the other. The production model then ends up receiving data preprocessed in a way it doesn’t expect. If they’re lucky, they get a clear bug. If not, the model’s accuracy just silently degrades.\n",
    "\n",
    "Including the preprocessing layer directly in the model is nice and straightforward, but it will slow down training (only very slightly in the case of the Normalization layer): indeed, since preprocessing is performed on the fly during training, it happens once per epoch. We can do better by normalizing the whole training set just once before training. To do this, we can use the Normalization layer in a standalone fashion (much like a Scikit-Learn StandardScaler):"
   ]
  },
  {
   "cell_type": "code",
   "execution_count": null,
   "metadata": {},
   "outputs": [],
   "source": [
    "norm_layer = tf.keras.layers.Normalization()\n",
    "norm_layer.adapt(x_train)\n",
    "x_train_scaled = norm_layer(x_train)\n",
    "x_valid_scaled = norm_layer(x_valid)"
   ]
  },
  {
   "cell_type": "markdown",
   "metadata": {},
   "source": [
    "Now we can train a model on the scaled data, this time without a **Normalization** layer:"
   ]
  },
  {
   "cell_type": "code",
   "execution_count": null,
   "metadata": {},
   "outputs": [],
   "source": [
    "model = tf.keras.models.Sequential([tf.keras.layers.Dense(1)])\n",
    "model.compile(loss='mse', optimizer=tf.keras,optimizers.SGD(learning_rate=2e-3))\n",
    "model.fit(x_train_scaled, y_train, epochs=5, \n",
    "          validation_data=(x_valid_scaled, y_valid))"
   ]
  },
  {
   "cell_type": "markdown",
   "metadata": {},
   "source": [
    "Good! This should speed up training a bit. But now the model won’t preprocess its inputs when we deploy it to production. To fix this, we just need to create a new model that wraps both the adapted Normalization layer and the model we just trained. We can then deploy this final model to production, and it will take care of both preprocessing its inputs and making predictions."
   ]
  },
  {
   "cell_type": "code",
   "execution_count": null,
   "metadata": {},
   "outputs": [],
   "source": [
    "final_model = tf.keras.Sequential([norm_layer, model])\n",
    "x_new = x_test[:3] # Pretent we have a few new instances (unscaled)\n",
    "y_pred = final_model(x_new) # Preprocesses the data and makes predictions"
   ]
  },
  {
   "cell_type": "markdown",
   "metadata": {},
   "source": [
    "Now we have the best of both worlds: training is fast because we only preprocess the data once before training begins, and the final model can preprocess its inputs on the fly without any risk of preprocessing mismatch.\n",
    "\n",
    "Moreover, the Keras preprocessing layers play nicely with the tf.data API. For example, it’s possible to pass a ***tf.data.Dataset*** to a preprocessing layer’s ***adapt()*** method. It’s also possible to apply a Keras preprocessing layer to a ***tf.data.Dataset*** using the dataset’s ***map()*** method. For example, here’s how you could apply an adapted ***Normalization*** layer to the input features of each batch in a dataset:"
   ]
  },
  {
   "cell_type": "code",
   "execution_count": null,
   "metadata": {},
   "outputs": [],
   "source": [
    "dataset = dataset.map(lambda x, y: (norm_layer(x), y))"
   ]
  },
  {
   "cell_type": "markdown",
   "metadata": {},
   "source": [
    "Lastly, if you ever need more features than the Keras preprocessing layers provide, you can always write your own Keras layer, just like we discussed in Chapter 12. For example, if the ***Normalization*** layer didn’t exist, you could get a similar result using the following custom layer:"
   ]
  },
  {
   "cell_type": "code",
   "execution_count": 4,
   "metadata": {},
   "outputs": [],
   "source": [
    "import numpy as np\n",
    "\n",
    "class MyNormalization(tf.keras.layers.Layer):\n",
    "    def adapt(self, x):\n",
    "        self.mean_ = np.mean(x, axis=0, keepdims=True)\n",
    "        self.std_ = np.std(x, axis=0, keepdims=True)\n",
    "        \n",
    "    def call(self, inputs):\n",
    "        eps = tf.keras.backend.epsilon() # a small smoohting term\n",
    "        return (inputs - self.mean_) / (self.std_ + eps)\n"
   ]
  },
  {
   "cell_type": "markdown",
   "metadata": {},
   "source": [
    "Next, let's look at another keras preprocessing layer for numerical feature; the ***Discretization*** layer."
   ]
  },
  {
   "cell_type": "markdown",
   "metadata": {},
   "source": [
    "### **The Discretization Layer**\n",
    "The ***Discretization*** layer’s goal is to transform a numerical feature into a categorical feature by mapping value ranges (called bins) to categories. This is sometimes useful for features with multimodal distributions, or with features that have a highly non-linear relationship with the target. For example, the following code maps a numerical ***age*** feature to three categories, less than 18, 18 to 50 (not included), and 50 or over:"
   ]
  },
  {
   "cell_type": "code",
   "execution_count": 7,
   "metadata": {},
   "outputs": [
    {
     "data": {
      "text/plain": [
       "<tf.Tensor: shape=(6, 1), dtype=int64, numpy=\n",
       "array([[0],\n",
       "       [2],\n",
       "       [2],\n",
       "       [1],\n",
       "       [1],\n",
       "       [0]], dtype=int64)>"
      ]
     },
     "execution_count": 7,
     "metadata": {},
     "output_type": "execute_result"
    }
   ],
   "source": [
    "age = tf.constant([[10.], [93.], [57.], [18.], [37.], [5.]])\n",
    "discretize_layer = tf.keras.layers.Discretization(bin_boundaries=[18., 50.])\n",
    "age_categories = discretize_layer(age)\n",
    "age_categories"
   ]
  },
  {
   "cell_type": "markdown",
   "metadata": {},
   "source": [
    "In this example, we provided the desired bin boundaries. If you prefer, you can instead provide the number of bins you want, then call the layer’s ***adapt()*** method to let it find the appropriate bin boundaries based on the value percentiles. For example, if we set ***num_bins=3***, then the bin boundaries will be located at the values just below the 33rd and 66th percentiles (in this example, at the values 10 and 37):"
   ]
  },
  {
   "cell_type": "code",
   "execution_count": 6,
   "metadata": {},
   "outputs": [
    {
     "data": {
      "text/plain": [
       "<tf.Tensor: shape=(6, 1), dtype=int64, numpy=\n",
       "array([[1],\n",
       "       [2],\n",
       "       [2],\n",
       "       [1],\n",
       "       [2],\n",
       "       [0]], dtype=int64)>"
      ]
     },
     "execution_count": 6,
     "metadata": {},
     "output_type": "execute_result"
    }
   ],
   "source": [
    "discretize_layer = tf.keras.layers.Discretization(num_bins=3)\n",
    "discretize_layer.adapt(age)\n",
    "age_categories = discretize_layer(age)\n",
    "age_categories"
   ]
  },
  {
   "cell_type": "markdown",
   "metadata": {},
   "source": [
    "Category identifiers such as these should generally not be passed directly to a neural network, as their values cannot be meaningfully compared. Instead, they should be encoded, for example using one-hot encoding. Let’s look at how to do this now."
   ]
  },
  {
   "cell_type": "markdown",
   "metadata": {},
   "source": [
    "### **The CategoryEncoding Layer**\n",
    "When there are only a few categories (e.g., less than a dozen or two), then one-hot encoding is often a good option (as discussed in Chapter 2). To do this, Keras provides the ***CategoryEncoding*** layer. For example, let’s one-hot encode the ***age_categories*** feature we just created:"
   ]
  },
  {
   "cell_type": "code",
   "execution_count": 8,
   "metadata": {},
   "outputs": [
    {
     "data": {
      "text/plain": [
       "<tf.Tensor: shape=(6, 3), dtype=float32, numpy=\n",
       "array([[1., 0., 0.],\n",
       "       [0., 0., 1.],\n",
       "       [0., 0., 1.],\n",
       "       [0., 1., 0.],\n",
       "       [0., 1., 0.],\n",
       "       [1., 0., 0.]], dtype=float32)>"
      ]
     },
     "execution_count": 8,
     "metadata": {},
     "output_type": "execute_result"
    }
   ],
   "source": [
    "onehot_layer = tf.keras.layers.CategoryEncoding(num_tokens=3)\n",
    "onehot_layer(age_categories)"
   ]
  },
  {
   "cell_type": "markdown",
   "metadata": {},
   "source": [
    "If you try to encode more than one categorical feature at a time (which only makes sense if they all use the same categories), the ***CategoryEncoding*** class will perform *multi-hot encoding* by default: the output tensor will contain a 1 for each category present in any input feature. For example:"
   ]
  },
  {
   "cell_type": "code",
   "execution_count": null,
   "metadata": {},
   "outputs": [
    {
     "data": {
      "text/plain": [
       "<tf.Tensor: shape=(4, 3), dtype=float32, numpy=\n",
       "array([[1., 1., 0.],\n",
       "       [0., 0., 1.],\n",
       "       [1., 0., 1.],\n",
       "       [0., 1., 0.]], dtype=float32)>"
      ]
     },
     "execution_count": 12,
     "metadata": {},
     "output_type": "execute_result"
    }
   ],
   "source": [
    "two_age_categories = np.array([[1, 0,], [2, 2], [2, 0]])\n",
    "onehot_layer(two_age_categories)"
   ]
  },
  {
   "cell_type": "markdown",
   "metadata": {},
   "source": [
    "If you believe it’s useful to know how many times each category occurred, you can set ***output_mode=\"count\"*** when creating the ***CategoryEncoding*** layer, in which case the output tensor will containthe number of occurrences of each category. In the preceding example, the output would be the same except for the second row, which would become ***[0., 0., 2.]***.\n",
    "\n",
    "Note that both multi-hot encoding and count encoding lose information, since it’s not possible to know which feature each active category came from. For example, both ***[0, 1]*** and ***[1, 0]*** are encoded as ***[1., 1., 0.]***. If you want to avoid this, then you need to one-hot encode each feature separately and concatenate the outputs. This way, ***[0, 1]*** would get encoded as ***[1., 0., 0., 0., 1., 0.]*** and ***[1, 0]*** would get encoded as ***[0., 1., 0., 1., 0., 0.]***. You can get the same result by tweaking the category identifiers so they don’t overlap. For example:"
   ]
  },
  {
   "cell_type": "code",
   "execution_count": 14,
   "metadata": {},
   "outputs": [
    {
     "data": {
      "text/plain": [
       "<tf.Tensor: shape=(4, 6), dtype=float32, numpy=\n",
       "array([[0., 1., 0., 1., 0., 0.],\n",
       "       [0., 0., 1., 0., 0., 1.],\n",
       "       [0., 0., 1., 1., 0., 0.],\n",
       "       [0., 1., 0., 0., 0., 0.]], dtype=float32)>"
      ]
     },
     "execution_count": 14,
     "metadata": {},
     "output_type": "execute_result"
    }
   ],
   "source": [
    "onehot_layer = tf.keras.layers.CategoryEncoding(num_tokens=3 + 3)\n",
    "onehot_layer(two_age_categories + [0, 3]) # adds 3 to the second feature"
   ]
  },
  {
   "cell_type": "markdown",
   "metadata": {},
   "source": [
    "In this output, the first three columns correspond to the first feature, and the last three correspond to the second feature. This allows the model to distinguish the two features. However, it also increases the number of features fed to the model, and thereby requires more model parameters. It’s hard to know in advance whether a single multi-hot encoding or a perfeature one-hot encoding will work best: it depends on the task, and you may need to test both options.\n",
    "\n",
    "Now you can encode categorical integer features using one-hot or multi-hot encoding. But what about categorical text features? For this, you can use the ***StringLookup*** layer."
   ]
  },
  {
   "cell_type": "markdown",
   "metadata": {},
   "source": [
    "### **The StringLookup Layer**\n",
    "Let's use the Keras ***StringLookup*** layer to one-hot encode a ***cities*** feature:"
   ]
  },
  {
   "cell_type": "code",
   "execution_count": 17,
   "metadata": {},
   "outputs": [
    {
     "data": {
      "text/plain": [
       "<tf.Tensor: shape=(5, 1), dtype=int64, numpy=\n",
       "array([[1],\n",
       "       [5],\n",
       "       [5],\n",
       "       [0],\n",
       "       [4]], dtype=int64)>"
      ]
     },
     "execution_count": 17,
     "metadata": {},
     "output_type": "execute_result"
    }
   ],
   "source": [
    "cities = ['Auckland', 'Paris', 'paris', 'Dar es salaam', 'San Fransisco']\n",
    "str_lookup_layer = tf.keras.layers.StringLookup()\n",
    "str_lookup_layer.adapt(cities)\n",
    "str_lookup_layer([['paris'], ['Auckland'], ['Auckland'], ['Dodoma'], ['Dar es salaam']])"
   ]
  },
  {
   "cell_type": "markdown",
   "metadata": {},
   "source": [
    "We first create a ***StringLookup*** layer, then we adapt it to the data: it finds that there are four distinct categories. Then we use the layer to encode a few cities. They are encoded as integers by default. Unknown categories get mapped to 0, as is the case for “Montreal” in this example. The known categories are numbered starting at 1, from the most frequent category to the least frequent.\n",
    "\n",
    "Conveniently, if you set ***output_mode=\"one_hot\"*** when creating the ***StringLookup*** layer, it will output a one-hot vector for each category, instead of an integer:"
   ]
  },
  {
   "cell_type": "code",
   "execution_count": 19,
   "metadata": {},
   "outputs": [
    {
     "data": {
      "text/plain": [
       "<tf.Tensor: shape=(4, 6), dtype=int64, numpy=\n",
       "array([[0, 0, 0, 1, 0, 0],\n",
       "       [0, 0, 0, 0, 0, 1],\n",
       "       [0, 0, 0, 0, 0, 1],\n",
       "       [1, 0, 0, 0, 0, 0]], dtype=int64)>"
      ]
     },
     "execution_count": 19,
     "metadata": {},
     "output_type": "execute_result"
    }
   ],
   "source": [
    "str_lookup_layer = tf.keras.layers.StringLookup(output_mode='one_hot')\n",
    "str_lookup_layer.adapt(cities)\n",
    "str_lookup_layer([[\"Paris\"], [\"Auckland\"], [\"Auckland\"], [\"Montreal\"]])"
   ]
  },
  {
   "cell_type": "markdown",
   "metadata": {},
   "source": [
    "> #### **TIP**\n",
    "> Keras also includes an ***IntegerLookup*** layer that acts much like the ***StringLookup*** layer but takes integers as input, rather than strings.\n",
    "\n",
    "If the training set is very large, it may be convenient to adapt the layer to just a random subset of the training set. In this case, the layer’s ***adapt()*** method may miss some of the rarer categories. By default, it would then map them all to category 0, making them indistinguishable by the model. To reduce this risk (while still adapting the layer only on a subset of the training set), you can set ***num_oov_indices*** to an integer greater than 1. This is the number of out-of-vocabulary (**OOV**) buckets to use: each unknown category will get mapped pseudorandomly to one of the **OOV** buckets, using a hash function modulo the number of **OOV** buckets. This will allow the model to distinguish at least some of the rare categories. For example:"
   ]
  },
  {
   "cell_type": "code",
   "execution_count": 20,
   "metadata": {},
   "outputs": [
    {
     "data": {
      "text/plain": [
       "<tf.Tensor: shape=(5, 1), dtype=int64, numpy=\n",
       "array([[7],\n",
       "       [9],\n",
       "       [4],\n",
       "       [3],\n",
       "       [4]], dtype=int64)>"
      ]
     },
     "execution_count": 20,
     "metadata": {},
     "output_type": "execute_result"
    }
   ],
   "source": [
    "str_lookup_layer = tf.keras.layers.StringLookup(num_oov_indices=5)\n",
    "str_lookup_layer.adapt(cities)\n",
    "str_lookup_layer([['Paris'], ['Auckland'], ['Foo'], ['Bar'], ['Baz']])\n"
   ]
  },
  {
   "cell_type": "markdown",
   "metadata": {},
   "source": [
    "Since there are five **OOV** buckets, the first known category’s **ID** is now 5 (\"***Paris***\"). But \"***Foo***\", \"***Bar***\", and \"***Baz***\" are unknown, so they each get mapped to one of the **OOV** buckets. \"***Bar***\" gets its own dedicated bucket (with ID 3), but sadly \"***Foo***\" and \"***Baz***\" happen to be mapped to the same bucket (with ID 4), so they remain indistinguishable by the model. This is called a *hashing collision*. The only way to reduce the risk of collision is to increase the number of **OOV** buckets. However, this will also increase the total number of categories, which will require more **RAM** and extra model parameters once the categories are one-hot encoded. So, don’t increase that number too much.\n",
    "\n",
    "This idea of mapping categories pseudorandomly to buckets is called the *hashing trick*. Keras provides a dedicated layer which does just that: the ***Hashing*** layer."
   ]
  },
  {
   "cell_type": "markdown",
   "metadata": {},
   "source": [
    "### **The Hashing Layer**\n",
    "For each category, the Keras ***Hashing*** layer computes a hash, modulo the number of buckets (or “bins”). The mapping is entirely pseudorandom, but stable across runs and platforms (i.e., the same category will always be mapped to the same integer, as long as the number of bins is unchanged). For example, let’s use the ***Hashing*** layer to encode a few cities:"
   ]
  },
  {
   "cell_type": "code",
   "execution_count": 21,
   "metadata": {},
   "outputs": [
    {
     "data": {
      "text/plain": [
       "<tf.Tensor: shape=(4, 1), dtype=int64, numpy=\n",
       "array([[0],\n",
       "       [1],\n",
       "       [9],\n",
       "       [1]], dtype=int64)>"
      ]
     },
     "execution_count": 21,
     "metadata": {},
     "output_type": "execute_result"
    }
   ],
   "source": [
    "hashing_layer = tf.keras.layers.Hashing(num_bins=10)\n",
    "hashing_layer([['Paris'], ['Tokyo'], ['Auckland'], ['Montreal']])"
   ]
  },
  {
   "cell_type": "markdown",
   "metadata": {},
   "source": [
    "The benefit of this layer is that it does not need to be adapted at all, which may sometimes be useful, especially in an out-of-core setting (when the dataset is too large to fit in memory). However, we once again get a hashing collision: “Tokyo” and “Montreal” are mapped to the same ID, making them indistinguishable by the model. So, it’s usually preferable to stick to the ***StringLookup*** layer.\n",
    "\n",
    "Let's now look at another way to encode categories: trainable embeddings."
   ]
  },
  {
   "cell_type": "markdown",
   "metadata": {},
   "source": [
    "### **Encoding Categorical Features Using Embeddings**\n",
    "An embedding is a dense representation of some higher-dimensional data, such as a category, or a word in a vocabulary. If there are 50,000 possible categories, then one-hot encoding would produce a 50,000-dimensional sparse vector (i.e., containing mostly zeros). In contrast, an embedding would be a comparatively small dense vector; for example, with just 100 dimensions.\n",
    "\n",
    "In deep learning, embeddings are usually initialized randomly, and they are then trained by gradient descent, along with the other model parameters. For example, the \"***NEAR BAY***\" category in the California housing dataset could be represented initially by a random vector such as [***0.131***, ***0.890***], while the \"***NEAR OCEAN***\" category might be represented by another random vector such as [***0.631***, ***0.791***]. In this example, we use **2D** embeddings, but the number of dimensions is a hyperparameter you can tweak.\n",
    "\n",
    "Since these embeddings are trainable, they will gradually improve during training; and as they represent fairly similar categories in this case, gradient descent will certainly end up pushing them closer together, while it will tend to move them away from the \"***INLAND***\" category’s embedding. Indeed, the better the representation, the easier it will be for the neural network to make accurate predictions, so training tends to make embeddings useful representations of the categories. This is called *representation learning* (you will see other types of representation learning in Chapter 17).\n",
    "\n",
    "> #### **WORD EMBEDDINGS**\n",
    "> Not only will embeddings generally be useful representations for the task at hand, but quite often these same embeddings can be reused successfully for other tasks. The most common example of this is word embeddings (i.e., embeddings of individual words): when you are working on a natural language processing task, you are often better off reusing pretrained word embeddings than training your own.\n",
    ">\n",
    "> The idea of using vectors to represent words dates back to the 1960s, and many sophisticated techniques have been used to generate useful vectors, including using neural networks. But things really took off in 2013, when Tomáš Mikolov and other Google researchers published a ***paper***(*https://homl.info/word2vec*)  describing an efficient technique to learn word embeddings using neural networks, significantly outperforming previous attempts. This allowed them to learn embeddings on a very large corpus of text: they trained a neural network to predict the words near any given word and obtained astounding word embeddings. For example, synonyms had very close embeddings, and semantically related words such as *France*, *Spain*, and *Italy* ended up clustered together.\n",
    ">\n",
    "> It’s not just about proximity, though: word embeddings were also organized along meaningful axes in the embedding space. Here is a famous example: if you compute *King* – *Man* + *Woman* (adding and subtracting the embedding vectors of these words), then the result will be very close to the embedding of the word Queen. In other words, the word embeddings encode the concept of gender! Similarly, you can compute *Madrid* – *Spain* + *France*, and the result is close to *Paris*, which seems to show that the notion of capital city was also encoded in the embeddings.\n",
    ">\n",
    "> Unfortunately, word embeddings sometimes capture our worst biases. For example, although they correctly learn that *Man* is to *King as Woman is to Queen*, they also seem to learn that *Man is to Doctor as Woman is to Nurse*: quite a sexist bias! To be fair, this particular example is probably exaggerated, as was pointed out in a ***2019 paper***(*https://homl.info/fairembeds*) by Malvina Nissim et al. Nevertheless, ensuring fairness in deep learning algorithms is an important and active research topic.\n",
    "\n",
    "Keras provides an ***Embedding*** layer, which wraps an *embedding matrix*: this matrix has one row per category and one column per embedding dimension. By default, it is initialized randomly. To convert a category **ID** to an embedding, the ***Embedding*** layer just looks up and returns the row that corresponds to that category. That’s all there is to it! For example, let’s initialize an ***Embedding*** layer with five rows and **2D** embeddings, and use it to encode some categories:"
   ]
  },
  {
   "cell_type": "code",
   "execution_count": 28,
   "metadata": {},
   "outputs": [
    {
     "data": {
      "text/plain": [
       "<tf.Tensor: shape=(3, 2), dtype=float32, numpy=\n",
       "array([[-0.03489258,  0.01165031],\n",
       "       [ 0.01562044, -0.01584639],\n",
       "       [-0.03489258,  0.01165031]], dtype=float32)>"
      ]
     },
     "execution_count": 28,
     "metadata": {},
     "output_type": "execute_result"
    }
   ],
   "source": [
    "tf.random.set_seed(50)\n",
    "embedding_layer = tf.keras.layers.Embedding(input_dim=5, output_dim=2)\n",
    "embedding_layer(np.array([2, 4, 2]))"
   ]
  },
  {
   "cell_type": "markdown",
   "metadata": {},
   "source": [
    "As you can see, category 2 gets encoded (twice) as the 2D vector [***-0.03489258***,  ***0.01165031***], while category 4 gets encoded as [ ***0.01562044***, ***-0.01584639***]. Since the layer is not trained yet, these encodings are just random.\n",
    "\n",
    "> #### **WARNING**\n",
    "> An ***Embedding*** layer is initialized randomly, so it does not make sense to use it outside of a model as a standalone preprocessing layer unless you initialize it with pretrained weights.\n",
    "\n",
    "If you want to embed a categorical text attribute, you can simply chain a ***StringLookup*** layer and an ***Embedding*** layer, like this:"
   ]
  },
  {
   "cell_type": "code",
   "execution_count": 29,
   "metadata": {},
   "outputs": [
    {
     "data": {
      "text/plain": [
       "<tf.Tensor: shape=(3, 1, 2), dtype=float32, numpy=\n",
       "array([[[-0.04113884, -0.00564531]],\n",
       "\n",
       "       [[-0.04500026, -0.02608566]],\n",
       "\n",
       "       [[-0.04113884, -0.00564531]]], dtype=float32)>"
      ]
     },
     "execution_count": 29,
     "metadata": {},
     "output_type": "execute_result"
    }
   ],
   "source": [
    "tf.random.set_seed(50)\n",
    "ocean_prox = ['<1H OCEAN', 'INLAND', 'NEAR OCEAN', 'NEAR BAY', 'ISLAND']\n",
    "str_lookup_layer = tf.keras.layers.StringLookup()\n",
    "str_lookup_layer.adapt(ocean_prox)\n",
    "lookup_and_embed = tf.keras.Sequential([\n",
    "    str_lookup_layer, \n",
    "    tf.keras.layers.Embedding(input_dim=str_lookup_layer.vocabulary_size(), \n",
    "                              output_dim=2)\n",
    "])\n",
    "\n",
    "lookup_and_embed(np.array([['<1H OCEAN'], ['ISLAND'], ['<1H OCEAN']]))"
   ]
  },
  {
   "cell_type": "markdown",
   "metadata": {},
   "source": [
    "Note that the number of rows in the embedding matrix needs to be equal to the vocabulary size: that’s the total number of categories, including the known categories plus the **OOV** buckets (just one by default). The ***vocabulary_size()*** method of the ***StringLookup*** class conveniently returns this number.\n",
    "\n",
    "> #### **TIP**\n",
    ">  In this example we used 2D embeddings, but as a rule of thumb embeddings typically have 10 to 300 dimensions, depending on the task, the vocabulary size, and the size of your training set. You will have to tune this hyperparameter.\n",
    "\n",
    "Putting everything together, we can now create a Keras model that can process a categorical text feature along with regular numerical features and learn an embedding for each category (as well as for each **OOV** bucket):"
   ]
  },
  {
   "cell_type": "code",
   "execution_count": 64,
   "metadata": {},
   "outputs": [],
   "source": [
    "import pandas as pd\n",
    "\n",
    "housing = pd.read_csv(\"D:/CONTENTS/AI/CODE/The Fundamentals of Machine Learning/datasets/housing/housing.csv\")\n",
    "housing['total_bedrooms'] = housing['total_bedrooms'].fillna(housing['total_bedrooms'].median())\n",
    "\n",
    "instances = len(housing)\n",
    "\n",
    "data = housing.drop(columns='median_house_value')\n",
    "label = housing['median_house_value']\n",
    "\n",
    "ratio_1 = int(-(instances * 0.1))\n",
    "x_train_full, x_test, y_train_full, y_test = (\n",
    "    data[:ratio_1], data[ratio_1:], label[:ratio_1], label[ratio_1:]\n",
    ")\n",
    "\n",
    "train_instances = len(x_train_full)\n",
    "ratio_2 = int(-(train_instances * 0.2))\n",
    "\n",
    "x_train, x_valid, y_train, y_valid = (\n",
    "    x_train_full[:ratio_2], x_train_full[ratio_2:], \n",
    "    y_train_full[:ratio_2], y_train_full[ratio_2:]\n",
    ")"
   ]
  },
  {
   "cell_type": "code",
   "execution_count": 84,
   "metadata": {},
   "outputs": [],
   "source": [
    "x_train_num, x_train_cat, y_train = (x_train.drop(columns=\"ocean_proximity\"), \n",
    "                                     x_train['ocean_proximity'], y_train)\n",
    "\n",
    "x_valid_num, x_valid_cat, y_valid = (x_valid.drop(columns='ocean_proximity'), \n",
    "                                     x_valid['ocean_proximity'], y_valid)\n",
    "\n",
    "num_input = tf.keras.layers.Input(shape=[8], name='num')\n",
    "cat_input = tf.keras.layers.Input(shape=[], dtype=tf.string, name='cat')\n",
    "\n",
    "cat_embeddings = lookup_and_embed(cat_input)\n",
    "encoded_inputs = tf.keras.layers.concatenate([num_input, cat_embeddings])\n",
    "\n",
    "outputs_layer = tf.keras.layers.Dense(1)\n",
    "outputs = outputs_layer (encoded_inputs)\n",
    "model = tf.keras.models.Model(inputs=[num_input, cat_input], outputs=[outputs])\n",
    "model.compile(loss='mse', optimizer='sgd')\n"
   ]
  },
  {
   "cell_type": "code",
   "execution_count": 95,
   "metadata": {},
   "outputs": [
    {
     "ename": "ValueError",
     "evalue": "Invalid dtype: object",
     "output_type": "error",
     "traceback": [
      "\u001b[1;31m---------------------------------------------------------------------------\u001b[0m",
      "\u001b[1;31mValueError\u001b[0m                                Traceback (most recent call last)",
      "Cell \u001b[1;32mIn[95], line 1\u001b[0m\n\u001b[1;32m----> 1\u001b[0m history \u001b[38;5;241m=\u001b[39m model\u001b[38;5;241m.\u001b[39mfit({\u001b[38;5;124m\"\u001b[39m\u001b[38;5;124mnum\u001b[39m\u001b[38;5;124m\"\u001b[39m: x_train_num, \u001b[38;5;124m\"\u001b[39m\u001b[38;5;124mcat\u001b[39m\u001b[38;5;124m\"\u001b[39m: x_train_cat}, y_train, epochs\u001b[38;5;241m=\u001b[39m\u001b[38;5;241m5\u001b[39m, \n\u001b[0;32m      2\u001b[0m                     validation_data\u001b[38;5;241m=\u001b[39m({\u001b[38;5;124m'\u001b[39m\u001b[38;5;124mnum\u001b[39m\u001b[38;5;124m'\u001b[39m: x_valid_num,\u001b[38;5;124m'\u001b[39m\u001b[38;5;124mcat\u001b[39m\u001b[38;5;124m'\u001b[39m: x_valid_cat}, y_valid))\n",
      "File \u001b[1;32md:\\CONTENTS\\APPLICATIONS\\New Folder\\Lib\\site-packages\\keras\\src\\utils\\traceback_utils.py:122\u001b[0m, in \u001b[0;36mfilter_traceback.<locals>.error_handler\u001b[1;34m(*args, **kwargs)\u001b[0m\n\u001b[0;32m    119\u001b[0m     filtered_tb \u001b[38;5;241m=\u001b[39m _process_traceback_frames(e\u001b[38;5;241m.\u001b[39m__traceback__)\n\u001b[0;32m    120\u001b[0m     \u001b[38;5;66;03m# To get the full stack trace, call:\u001b[39;00m\n\u001b[0;32m    121\u001b[0m     \u001b[38;5;66;03m# `keras.config.disable_traceback_filtering()`\u001b[39;00m\n\u001b[1;32m--> 122\u001b[0m     \u001b[38;5;28;01mraise\u001b[39;00m e\u001b[38;5;241m.\u001b[39mwith_traceback(filtered_tb) \u001b[38;5;28;01mfrom\u001b[39;00m \u001b[38;5;28;01mNone\u001b[39;00m\n\u001b[0;32m    123\u001b[0m \u001b[38;5;28;01mfinally\u001b[39;00m:\n\u001b[0;32m    124\u001b[0m     \u001b[38;5;28;01mdel\u001b[39;00m filtered_tb\n",
      "File \u001b[1;32md:\\CONTENTS\\APPLICATIONS\\New Folder\\Lib\\site-packages\\optree\\ops.py:766\u001b[0m, in \u001b[0;36mtree_map\u001b[1;34m(func, tree, is_leaf, none_is_leaf, namespace, *rests)\u001b[0m\n\u001b[0;32m    764\u001b[0m leaves, treespec \u001b[38;5;241m=\u001b[39m _C\u001b[38;5;241m.\u001b[39mflatten(tree, is_leaf, none_is_leaf, namespace)\n\u001b[0;32m    765\u001b[0m flat_args \u001b[38;5;241m=\u001b[39m [leaves] \u001b[38;5;241m+\u001b[39m [treespec\u001b[38;5;241m.\u001b[39mflatten_up_to(r) \u001b[38;5;28;01mfor\u001b[39;00m r \u001b[38;5;129;01min\u001b[39;00m rests]\n\u001b[1;32m--> 766\u001b[0m \u001b[38;5;28;01mreturn\u001b[39;00m treespec\u001b[38;5;241m.\u001b[39munflatten(\u001b[38;5;28mmap\u001b[39m(func, \u001b[38;5;241m*\u001b[39mflat_args))\n",
      "\u001b[1;31mValueError\u001b[0m: Invalid dtype: object"
     ]
    }
   ],
   "source": [
    "history = model.fit({\"num\": x_train_num, \"cat\": x_train_cat}, y_train, epochs=5, \n",
    "                    validation_data=({'num': x_valid_num,'cat': x_valid_cat}, y_valid))"
   ]
  },
  {
   "cell_type": "code",
   "execution_count": 70,
   "metadata": {},
   "outputs": [
    {
     "name": "stdout",
     "output_type": "stream",
     "text": [
      "Epoch 1/5\n",
      "\u001b[1m465/465\u001b[0m \u001b[32m━━━━━━━━━━━━━━━━━━━━\u001b[0m\u001b[37m\u001b[0m \u001b[1m5s\u001b[0m 7ms/step - loss: nan - val_loss: nan\n",
      "Epoch 2/5\n",
      "\u001b[1m465/465\u001b[0m \u001b[32m━━━━━━━━━━━━━━━━━━━━\u001b[0m\u001b[37m\u001b[0m \u001b[1m3s\u001b[0m 6ms/step - loss: nan - val_loss: nan\n",
      "Epoch 3/5\n",
      "\u001b[1m465/465\u001b[0m \u001b[32m━━━━━━━━━━━━━━━━━━━━\u001b[0m\u001b[37m\u001b[0m \u001b[1m3s\u001b[0m 7ms/step - loss: nan - val_loss: nan\n",
      "Epoch 4/5\n",
      "\u001b[1m465/465\u001b[0m \u001b[32m━━━━━━━━━━━━━━━━━━━━\u001b[0m\u001b[37m\u001b[0m \u001b[1m4s\u001b[0m 7ms/step - loss: nan - val_loss: nan\n",
      "Epoch 5/5\n",
      "\u001b[1m465/465\u001b[0m \u001b[32m━━━━━━━━━━━━━━━━━━━━\u001b[0m\u001b[37m\u001b[0m \u001b[1m3s\u001b[0m 6ms/step - loss: nan - val_loss: nan\n"
     ]
    }
   ],
   "source": [
    "outputs = tf.keras.layers.Dense(1)(num_input)\n",
    "model = tf.keras.models.Model(inputs=num_input, outputs=[outputs])\n",
    "model.compile(loss='mse', optimizer='sgd')\n",
    "\n",
    "history = model.fit(x_train_num, y_train, epochs=5, \n",
    "                    validation_data=(x_valid_num, y_valid))"
   ]
  },
  {
   "cell_type": "markdown",
   "metadata": {},
   "source": [
    "This model takes two inputs: ***num_input***, which contains eight numerical features per instance, plus ***cat_input***, which contains a single categorical text input per instance. The model uses the ***lookup_and_embed*** model we created earlier to encode each ocean-proximity category as the corresponding trainable embedding. Next, it concatenates the numerical inputs and the embeddings using the ***concatenate()*** function to produce the complete encoded inputs, which are ready to be fed to a neural network. We could add any kind of neural network at this point, but for simplicity we just add a single dense output layer, and then we create theKeras ***Model*** with the inputs and output we’ve just defined. Next we compile the model and train it, passing both the numerical and categorical inputs.\n",
    "\n",
    "As you saw in Chapter 10, since the Input layers are named \"***num***\" and \"***cat***\", we could also have passed the training data to the ***fit()*** method using a dictionary instead of a tuple: ***{\"num\": X_train_num, \"cat\": X_train_cat}***. Alternatively, we could have passed a ***tf.data.Dataset*** containing batches, each represented as (***(X_batch_num, X_batch_cat), y_batch***) or as (***{\"num\": X_batch_num, \"cat\": X_batch_cat}, y_batch***). And of course the same goes for the validation data.\n",
    "\n",
    "> #### **NOTE**\n",
    "> One-hot encoding followed by a ***Dense*** layer (with no activation function and no biases) is equivalent to an ***Embedding*** layer. However, the ***Embedding*** layer uses way fewer computations as it avoids many multiplications by zero—the performance difference becomes clear when the size of the embedding matrix grows. The ***Dense*** layer’s weight matrix plays the role of the embedding matrix. For example, using one-hot vectors of size 20 and a ***Dense*** layer with 10 units is equivalent to using an ***Embedding*** layer with ***input_dim=20*** and ***output_dim=10***. As a result, it would be wasteful to use more embedding dimensions than the number of units in the layer that follows the ***Embedding*** layer.\n",
    "\n",
    "Ok, now that you have learned how to encode categorical features, it's time to turn our attention to text preprocessing."
   ]
  },
  {
   "cell_type": "markdown",
   "metadata": {},
   "source": [
    "### **Text Preprocessing**\n"
   ]
  },
  {
   "cell_type": "markdown",
   "metadata": {},
   "source": [
    "Keras provides a ***TextVectorization*** layer for basic text preprocessing. Much like the ***StringLookup*** layer, you must either pass it a vocabulary upon creation, or let it learn the vocabulary from some training data using the ***adapt()*** method. Let’s look at an example:"
   ]
  },
  {
   "cell_type": "code",
   "execution_count": 97,
   "metadata": {},
   "outputs": [
    {
     "data": {
      "text/plain": [
       "<tf.Tensor: shape=(2, 4), dtype=int64, numpy=\n",
       "array([[2, 1, 0, 0],\n",
       "       [6, 2, 1, 2]], dtype=int64)>"
      ]
     },
     "execution_count": 97,
     "metadata": {},
     "output_type": "execute_result"
    }
   ],
   "source": [
    "train_data = ['To be', \"!(to be)\", \"That's the question\", \"Be, be, be.\"]\n",
    "txt_vec_layer = tf.keras.layers.TextVectorization()\n",
    "txt_vec_layer.adapt(train_data)\n",
    "txt_vec_layer(['Be good!', \"Question: be or be?\"])"
   ]
  },
  {
   "cell_type": "markdown",
   "metadata": {},
   "source": [
    "The two sentences “Be good!” and “Question: be or be?” were encoded as [2, 1, 0, 0] and [6, 2, 1, 2], respectively. The vocabulary was learned from the four sentences in the training data: “be” = 2, “to” = 3, etc. To construct the vocabulary, the adapt() method first converted the training sentences to lowercase and removed punctuation, which is why “Be”, “be”, and “be?” are all encoded as “be” = 2. Next, the sentences were split on whitespace, and the resulting words were sorted by descending frequency, producing the final vocabulary. When encoding sentences, unknown words get encoded as 1s. Lastly, since the first sentence is shorter than the second, it was padded with 0s.\n",
    "\n",
    "> #### **TIP**\n",
    "> The ***TextVectorization*** layer has many options. For example, you can preserve the case and punctuation if you want, by setting ***standardize=None***, or you can pass any standardization function you please as the ***standardize*** argument. You can prevent splitting by setting ***split=None***, or you can pass your own splitting function instead. You can set the ***output_sequence_length*** argument to ensure that the output sequences all get cropped or padded to the desired length, or you can set ***ragged=True*** to get a ragged tensor instead of a regular tensor. Please check out the documentation for more options.\n",
    "\n",
    "The word IDs must be encoded, typically using an ***Embedding*** layer: we will do this in Chapter 16. Alternatively, you can set the ***TextVectorization*** layer’s ***output_mode*** argument to \"***multi_hot***\" or \"***count***\" to get the corresponding encodings. However, simply counting words is usually not ideal: words like “to” and “the” are so frequent that they hardly matter at all, whereas, rarer wordssuch as “basketball” are much more informative. So, rather than setting ***output_mode*** to \"***multi_hot***\" or \"***count***\", it is usually preferable to set it to \"***tf_idf***\", which stands for *term-frequency × inverse-document-frequency* (**TF-IDF**). This is similar to the count encoding, but words that occur frequently in the training data are downweighted, and conversely, rare words are upweighted. For example:"
   ]
  },
  {
   "cell_type": "code",
   "execution_count": 99,
   "metadata": {},
   "outputs": [
    {
     "data": {
      "text/plain": [
       "<tf.Tensor: shape=(2, 6), dtype=float32, numpy=\n",
       "array([[0.96725637, 0.6931472 , 0.        , 0.        , 0.        ,\n",
       "        0.        ],\n",
       "       [0.96725637, 1.3862944 , 0.        , 0.        , 0.        ,\n",
       "        1.0986123 ]], dtype=float32)>"
      ]
     },
     "execution_count": 99,
     "metadata": {},
     "output_type": "execute_result"
    }
   ],
   "source": [
    "text_vec_layer = tf.keras.layers.TextVectorization(output_mode='tf_idf')\n",
    "text_vec_layer.adapt(train_data)\n",
    "text_vec_layer(['Be good!', 'Question: be or be?'])"
   ]
  },
  {
   "cell_type": "markdown",
   "metadata": {},
   "source": [
    "There are many TF-IDF variants, but the way the TextVectorization layer implements it is by multiplying each word count by a weight equal to log(1 + d / (f + 1)), where d is the total number of sentences (a.k.a., documents) in the training data and f counts how many of these training sentences contain the given word. For example, in this case there are d = 4 sentences in the training data, and the word “be” appears in f = 3 of these. Since the word “be” occurs twice in the sentence “Question: be or be?”, it gets encoded as 2 × log(1 + 4 / (1 + 3)) ≈ 1.3862944. The word “question” only appears once, but since it is a less common word, its encoding is almost as high: 1 × log(1 + 4 / (1 + 1)) ≈ 1.0986123. Note that the average weight is used for unknown words.\n",
    "\n",
    "This approach to text encoding is straightforward to use and it can give fairly good results for basic natural language processing tasks, but it has several important limitations: it only works with languages that separate words with spaces, it doesn’t distinguish between homonyms (e.g., “to bear” versus “teddy bear”), it gives no hint to your model that words like “evolution” and “evolutionary” are related, etc. And if you use multi-hot, count, or TF-IDF encoding, then the order of the words is lost. So what are the other options?\n",
    "\n",
    "One option is to use the ***TensorFlow Text library***(*https://tensorflow.org/text*), which provides more advanced text preprocessing features than the ***TextVectorization*** layer. For example, it includes several subword tokenizers capable of splitting the text into tokens smaller than words, which makes it possible for the model to more easily detect that “evolution” and “evolutionary” have something in common (more on subword tokenization in Chapter 16).\n",
    "\n",
    "Yet another option it to use pretrained language model components. Let's look at this now."
   ]
  },
  {
   "cell_type": "markdown",
   "metadata": {},
   "source": [
    "### **Using Pretrained Language Model Components**\n",
    "The ***TensorFlow Hub library***(*https://tensorflow.org/hub*) makes it easy to reuse pretrained model components in your own models, for text, image, audio, and more. These model components are called ***modules***. Simply browse the ***TF Hub repository***(*https://tfhub.dev*), find the one you need, and copy the code example into your project, and the module will be automatically downloaded and bundled into a Keras layer that you can directly include in your model. Modules typically contain both preprocessing code and pretrained weights, and they generally require no extra training (but of course, the rest of your model will certainly require training).\n",
    "\n",
    "For example, some powerful pretrained language models are available. The most powerful are quite large (several gigabytes), so for a quick example let’s use the ***nnlm-en-dim50*** module, version 2, which is a fairly basic module that takes raw text as input and outputs 50-dimensional sentence embeddings. We’ll import TensorFlow Hub and use it to load the module, then use that module to encode two sentences to vectors:"
   ]
  },
  {
   "cell_type": "code",
   "execution_count": 39,
   "metadata": {},
   "outputs": [
    {
     "name": "stdout",
     "output_type": "stream",
     "text": [
      "WARNING:tensorflow:From d:\\CONTENTS\\APPLICATIONS\\New folder\\tf_keras\\src\\losses.py:2976: The name tf.losses.sparse_softmax_cross_entropy is deprecated. Please use tf.compat.v1.losses.sparse_softmax_cross_entropy instead.\n",
      "\n"
     ]
    },
    {
     "name": "stderr",
     "output_type": "stream",
     "text": [
      "WARNING:tensorflow:From d:\\CONTENTS\\APPLICATIONS\\New folder\\tf_keras\\src\\losses.py:2976: The name tf.losses.sparse_softmax_cross_entropy is deprecated. Please use tf.compat.v1.losses.sparse_softmax_cross_entropy instead.\n",
      "\n"
     ]
    },
    {
     "name": "stdout",
     "output_type": "stream",
     "text": [
      "WARNING:tensorflow:From d:\\CONTENTS\\APPLICATIONS\\New folder\\tensorflow_hub\\resolver.py:120: The name tf.gfile.MakeDirs is deprecated. Please use tf.io.gfile.makedirs instead.\n",
      "\n"
     ]
    },
    {
     "name": "stderr",
     "output_type": "stream",
     "text": [
      "WARNING:tensorflow:From d:\\CONTENTS\\APPLICATIONS\\New folder\\tensorflow_hub\\resolver.py:120: The name tf.gfile.MakeDirs is deprecated. Please use tf.io.gfile.makedirs instead.\n",
      "\n"
     ]
    },
    {
     "name": "stdout",
     "output_type": "stream",
     "text": [
      "WARNING:tensorflow:From d:\\CONTENTS\\APPLICATIONS\\New folder\\tensorflow_hub\\module_v2.py:126: The name tf.saved_model.load_v2 is deprecated. Please use tf.compat.v2.saved_model.load instead.\n",
      "\n"
     ]
    },
    {
     "name": "stderr",
     "output_type": "stream",
     "text": [
      "WARNING:tensorflow:From d:\\CONTENTS\\APPLICATIONS\\New folder\\tensorflow_hub\\module_v2.py:126: The name tf.saved_model.load_v2 is deprecated. Please use tf.compat.v2.saved_model.load instead.\n",
      "\n"
     ]
    },
    {
     "name": "stdout",
     "output_type": "stream",
     "text": [
      "WARNING:tensorflow:From d:\\CONTENTS\\APPLICATIONS\\New folder\\tf_keras\\src\\backend.py:873: The name tf.get_default_graph is deprecated. Please use tf.compat.v1.get_default_graph instead.\n",
      "\n"
     ]
    },
    {
     "name": "stderr",
     "output_type": "stream",
     "text": [
      "WARNING:tensorflow:From d:\\CONTENTS\\APPLICATIONS\\New folder\\tf_keras\\src\\backend.py:873: The name tf.get_default_graph is deprecated. Please use tf.compat.v1.get_default_graph instead.\n",
      "\n"
     ]
    },
    {
     "data": {
      "text/plain": [
       "array([[-0.25,  0.28,  0.01,  0.1 ,  0.14,  0.16,  0.25,  0.02,  0.07,\n",
       "         0.13, -0.19,  0.06, -0.04, -0.07,  0.  , -0.08, -0.14, -0.16,\n",
       "         0.02, -0.24,  0.16, -0.16, -0.03,  0.03, -0.14,  0.03, -0.09,\n",
       "        -0.04, -0.14, -0.19,  0.07,  0.15,  0.18, -0.23, -0.07, -0.08,\n",
       "         0.01, -0.01,  0.09,  0.14, -0.03,  0.03,  0.08,  0.1 , -0.01,\n",
       "        -0.03, -0.07, -0.1 ,  0.05,  0.31],\n",
       "       [-0.2 ,  0.2 , -0.08,  0.02,  0.19,  0.05,  0.22, -0.09,  0.02,\n",
       "         0.19, -0.02, -0.14, -0.2 , -0.04,  0.01, -0.07, -0.22, -0.1 ,\n",
       "         0.16, -0.44,  0.31, -0.1 ,  0.23,  0.15, -0.05,  0.15, -0.13,\n",
       "        -0.04, -0.08, -0.16, -0.1 ,  0.13,  0.13, -0.18, -0.04,  0.03,\n",
       "        -0.1 , -0.07,  0.07,  0.03, -0.08,  0.02,  0.05,  0.07, -0.14,\n",
       "        -0.1 , -0.18, -0.13, -0.04,  0.15]], dtype=float32)"
      ]
     },
     "execution_count": 39,
     "metadata": {},
     "output_type": "execute_result"
    }
   ],
   "source": [
    "import tensorflow_hub as hub\n",
    "\n",
    "hub_layer = hub.KerasLayer('https://tfhub.dev/google/nnlm-en-dim50/2')\n",
    "sentence_embeddings = hub_layer(tf.constant(['To be', \"Not to be\"]))\n",
    "sentence_embeddings.numpy().round(2)"
   ]
  },
  {
   "cell_type": "code",
   "execution_count": 35,
   "metadata": {
    "vscode": {
     "languageId": "powershell"
    }
   },
   "outputs": [
    {
     "name": "stdout",
     "output_type": "stream",
     "text": [
      "Collecting tensorflow-hub\n",
      "  Using cached tensorflow_hub-0.16.1-py2.py3-none-any.whl.metadata (1.3 kB)\n",
      "Collecting numpy>=1.12.0 (from tensorflow-hub)\n",
      "  Downloading numpy-2.2.4-cp312-cp312-win_amd64.whl.metadata (60 kB)\n",
      "Collecting protobuf>=3.19.6 (from tensorflow-hub)\n",
      "  Using cached protobuf-6.30.2-cp310-abi3-win_amd64.whl.metadata (593 bytes)\n",
      "Collecting tf-keras>=2.14.1 (from tensorflow-hub)\n",
      "  Using cached tf_keras-2.19.0-py3-none-any.whl.metadata (1.8 kB)\n",
      "Collecting tensorflow<2.20,>=2.19 (from tf-keras>=2.14.1->tensorflow-hub)\n",
      "  Using cached tensorflow-2.19.0-cp312-cp312-win_amd64.whl.metadata (4.1 kB)\n",
      "Collecting absl-py>=1.0.0 (from tensorflow<2.20,>=2.19->tf-keras>=2.14.1->tensorflow-hub)\n",
      "  Downloading absl_py-2.2.2-py3-none-any.whl.metadata (2.6 kB)\n",
      "Collecting astunparse>=1.6.0 (from tensorflow<2.20,>=2.19->tf-keras>=2.14.1->tensorflow-hub)\n",
      "  Using cached astunparse-1.6.3-py2.py3-none-any.whl.metadata (4.4 kB)\n",
      "Collecting flatbuffers>=24.3.25 (from tensorflow<2.20,>=2.19->tf-keras>=2.14.1->tensorflow-hub)\n",
      "  Using cached flatbuffers-25.2.10-py2.py3-none-any.whl.metadata (875 bytes)\n",
      "Collecting gast!=0.5.0,!=0.5.1,!=0.5.2,>=0.2.1 (from tensorflow<2.20,>=2.19->tf-keras>=2.14.1->tensorflow-hub)\n",
      "  Using cached gast-0.6.0-py3-none-any.whl.metadata (1.3 kB)\n",
      "Collecting google-pasta>=0.1.1 (from tensorflow<2.20,>=2.19->tf-keras>=2.14.1->tensorflow-hub)\n",
      "  Using cached google_pasta-0.2.0-py3-none-any.whl.metadata (814 bytes)\n",
      "Collecting libclang>=13.0.0 (from tensorflow<2.20,>=2.19->tf-keras>=2.14.1->tensorflow-hub)\n",
      "  Using cached libclang-18.1.1-py2.py3-none-win_amd64.whl.metadata (5.3 kB)\n",
      "Collecting opt-einsum>=2.3.2 (from tensorflow<2.20,>=2.19->tf-keras>=2.14.1->tensorflow-hub)\n",
      "  Using cached opt_einsum-3.4.0-py3-none-any.whl.metadata (6.3 kB)\n",
      "Collecting packaging (from tensorflow<2.20,>=2.19->tf-keras>=2.14.1->tensorflow-hub)\n",
      "  Downloading packaging-24.2-py3-none-any.whl.metadata (3.2 kB)\n",
      "Collecting protobuf>=3.19.6 (from tensorflow-hub)\n",
      "  Using cached protobuf-5.29.4-cp310-abi3-win_amd64.whl.metadata (592 bytes)\n",
      "Collecting requests<3,>=2.21.0 (from tensorflow<2.20,>=2.19->tf-keras>=2.14.1->tensorflow-hub)\n",
      "  Downloading requests-2.32.3-py3-none-any.whl.metadata (4.6 kB)\n",
      "Collecting setuptools (from tensorflow<2.20,>=2.19->tf-keras>=2.14.1->tensorflow-hub)\n",
      "  Downloading setuptools-78.1.0-py3-none-any.whl.metadata (6.6 kB)\n",
      "Collecting six>=1.12.0 (from tensorflow<2.20,>=2.19->tf-keras>=2.14.1->tensorflow-hub)\n",
      "  Downloading six-1.17.0-py2.py3-none-any.whl.metadata (1.7 kB)\n",
      "Collecting termcolor>=1.1.0 (from tensorflow<2.20,>=2.19->tf-keras>=2.14.1->tensorflow-hub)\n",
      "  Downloading termcolor-3.0.1-py3-none-any.whl.metadata (6.1 kB)\n",
      "Collecting typing-extensions>=3.6.6 (from tensorflow<2.20,>=2.19->tf-keras>=2.14.1->tensorflow-hub)\n",
      "  Downloading typing_extensions-4.13.1-py3-none-any.whl.metadata (3.0 kB)\n",
      "Collecting wrapt>=1.11.0 (from tensorflow<2.20,>=2.19->tf-keras>=2.14.1->tensorflow-hub)\n",
      "  Downloading wrapt-1.17.2-cp312-cp312-win_amd64.whl.metadata (6.5 kB)\n",
      "Collecting grpcio<2.0,>=1.24.3 (from tensorflow<2.20,>=2.19->tf-keras>=2.14.1->tensorflow-hub)\n",
      "  Downloading grpcio-1.71.0-cp312-cp312-win_amd64.whl.metadata (4.0 kB)\n",
      "Collecting tensorboard~=2.19.0 (from tensorflow<2.20,>=2.19->tf-keras>=2.14.1->tensorflow-hub)\n",
      "  Using cached tensorboard-2.19.0-py3-none-any.whl.metadata (1.8 kB)\n",
      "Collecting keras>=3.5.0 (from tensorflow<2.20,>=2.19->tf-keras>=2.14.1->tensorflow-hub)\n",
      "  Downloading keras-3.9.2-py3-none-any.whl.metadata (6.1 kB)\n",
      "Collecting numpy>=1.12.0 (from tensorflow-hub)\n",
      "  Downloading numpy-2.1.3-cp312-cp312-win_amd64.whl.metadata (60 kB)\n",
      "Collecting h5py>=3.11.0 (from tensorflow<2.20,>=2.19->tf-keras>=2.14.1->tensorflow-hub)\n",
      "  Downloading h5py-3.13.0-cp312-cp312-win_amd64.whl.metadata (2.5 kB)\n",
      "Collecting ml-dtypes<1.0.0,>=0.5.1 (from tensorflow<2.20,>=2.19->tf-keras>=2.14.1->tensorflow-hub)\n",
      "  Using cached ml_dtypes-0.5.1-cp312-cp312-win_amd64.whl.metadata (22 kB)\n",
      "Collecting wheel<1.0,>=0.23.0 (from astunparse>=1.6.0->tensorflow<2.20,>=2.19->tf-keras>=2.14.1->tensorflow-hub)\n",
      "  Downloading wheel-0.45.1-py3-none-any.whl.metadata (2.3 kB)\n",
      "Collecting rich (from keras>=3.5.0->tensorflow<2.20,>=2.19->tf-keras>=2.14.1->tensorflow-hub)\n",
      "  Downloading rich-14.0.0-py3-none-any.whl.metadata (18 kB)\n",
      "Collecting namex (from keras>=3.5.0->tensorflow<2.20,>=2.19->tf-keras>=2.14.1->tensorflow-hub)\n",
      "  Using cached namex-0.0.8-py3-none-any.whl.metadata (246 bytes)\n",
      "Collecting optree (from keras>=3.5.0->tensorflow<2.20,>=2.19->tf-keras>=2.14.1->tensorflow-hub)\n",
      "  Using cached optree-0.14.1-cp312-cp312-win_amd64.whl.metadata (50 kB)\n",
      "Collecting charset-normalizer<4,>=2 (from requests<3,>=2.21.0->tensorflow<2.20,>=2.19->tf-keras>=2.14.1->tensorflow-hub)\n",
      "  Downloading charset_normalizer-3.4.1-cp312-cp312-win_amd64.whl.metadata (36 kB)\n",
      "Collecting idna<4,>=2.5 (from requests<3,>=2.21.0->tensorflow<2.20,>=2.19->tf-keras>=2.14.1->tensorflow-hub)\n",
      "  Downloading idna-3.10-py3-none-any.whl.metadata (10 kB)\n",
      "Collecting urllib3<3,>=1.21.1 (from requests<3,>=2.21.0->tensorflow<2.20,>=2.19->tf-keras>=2.14.1->tensorflow-hub)\n",
      "  Downloading urllib3-2.3.0-py3-none-any.whl.metadata (6.5 kB)\n",
      "Collecting certifi>=2017.4.17 (from requests<3,>=2.21.0->tensorflow<2.20,>=2.19->tf-keras>=2.14.1->tensorflow-hub)\n",
      "  Downloading certifi-2025.1.31-py3-none-any.whl.metadata (2.5 kB)\n",
      "Collecting markdown>=2.6.8 (from tensorboard~=2.19.0->tensorflow<2.20,>=2.19->tf-keras>=2.14.1->tensorflow-hub)\n",
      "  Downloading Markdown-3.7-py3-none-any.whl.metadata (7.0 kB)\n",
      "Collecting tensorboard-data-server<0.8.0,>=0.7.0 (from tensorboard~=2.19.0->tensorflow<2.20,>=2.19->tf-keras>=2.14.1->tensorflow-hub)\n",
      "  Using cached tensorboard_data_server-0.7.2-py3-none-any.whl.metadata (1.1 kB)\n",
      "Collecting werkzeug>=1.0.1 (from tensorboard~=2.19.0->tensorflow<2.20,>=2.19->tf-keras>=2.14.1->tensorflow-hub)\n",
      "  Downloading werkzeug-3.1.3-py3-none-any.whl.metadata (3.7 kB)\n",
      "Collecting MarkupSafe>=2.1.1 (from werkzeug>=1.0.1->tensorboard~=2.19.0->tensorflow<2.20,>=2.19->tf-keras>=2.14.1->tensorflow-hub)\n",
      "  Downloading MarkupSafe-3.0.2-cp312-cp312-win_amd64.whl.metadata (4.1 kB)\n",
      "Collecting markdown-it-py>=2.2.0 (from rich->keras>=3.5.0->tensorflow<2.20,>=2.19->tf-keras>=2.14.1->tensorflow-hub)\n",
      "  Downloading markdown_it_py-3.0.0-py3-none-any.whl.metadata (6.9 kB)\n",
      "Collecting pygments<3.0.0,>=2.13.0 (from rich->keras>=3.5.0->tensorflow<2.20,>=2.19->tf-keras>=2.14.1->tensorflow-hub)\n",
      "  Downloading pygments-2.19.1-py3-none-any.whl.metadata (2.5 kB)\n",
      "Collecting mdurl~=0.1 (from markdown-it-py>=2.2.0->rich->keras>=3.5.0->tensorflow<2.20,>=2.19->tf-keras>=2.14.1->tensorflow-hub)\n",
      "  Downloading mdurl-0.1.2-py3-none-any.whl.metadata (1.6 kB)\n",
      "Using cached tensorflow_hub-0.16.1-py2.py3-none-any.whl (30 kB)\n",
      "Using cached tf_keras-2.19.0-py3-none-any.whl (1.7 MB)\n",
      "Downloading tensorflow-2.19.0-cp312-cp312-win_amd64.whl (376.0 MB)\n",
      "   ---------------------------------------- 0.0/376.0 MB ? eta -:--:--\n",
      "   ---------------------------------------- 0.3/376.0 MB ? eta -:--:--\n",
      "   ---------------------------------------- 0.5/376.0 MB 1.9 MB/s eta 0:03:22\n",
      "   ---------------------------------------- 1.0/376.0 MB 2.0 MB/s eta 0:03:07\n",
      "   ---------------------------------------- 1.6/376.0 MB 2.1 MB/s eta 0:02:55\n",
      "   ---------------------------------------- 2.4/376.0 MB 2.4 MB/s eta 0:02:36\n",
      "   ---------------------------------------- 2.9/376.0 MB 2.5 MB/s eta 0:02:30\n",
      "   ---------------------------------------- 3.9/376.0 MB 2.8 MB/s eta 0:02:14\n",
      "    --------------------------------------- 4.7/376.0 MB 3.0 MB/s eta 0:02:04\n",
      "    --------------------------------------- 5.8/376.0 MB 3.2 MB/s eta 0:01:55\n",
      "    --------------------------------------- 7.1/376.0 MB 3.5 MB/s eta 0:01:45\n",
      "    --------------------------------------- 8.4/376.0 MB 3.8 MB/s eta 0:01:37\n",
      "   - -------------------------------------- 10.0/376.0 MB 4.1 MB/s eta 0:01:30\n",
      "   - -------------------------------------- 10.5/376.0 MB 4.1 MB/s eta 0:01:30\n",
      "   - -------------------------------------- 11.5/376.0 MB 4.1 MB/s eta 0:01:30\n",
      "   - -------------------------------------- 11.8/376.0 MB 4.0 MB/s eta 0:01:31\n",
      "   - -------------------------------------- 12.8/376.0 MB 3.9 MB/s eta 0:01:33\n",
      "   - -------------------------------------- 13.6/376.0 MB 3.9 MB/s eta 0:01:32\n",
      "   - -------------------------------------- 14.7/376.0 MB 4.0 MB/s eta 0:01:32\n",
      "   - -------------------------------------- 15.2/376.0 MB 3.9 MB/s eta 0:01:32\n",
      "   - -------------------------------------- 16.0/376.0 MB 3.9 MB/s eta 0:01:34\n",
      "   - -------------------------------------- 16.5/376.0 MB 3.8 MB/s eta 0:01:35\n",
      "   - -------------------------------------- 17.0/376.0 MB 3.7 MB/s eta 0:01:36\n",
      "   - -------------------------------------- 17.6/376.0 MB 3.7 MB/s eta 0:01:37\n",
      "   - -------------------------------------- 18.4/376.0 MB 3.7 MB/s eta 0:01:38\n",
      "   -- ------------------------------------- 19.1/376.0 MB 3.7 MB/s eta 0:01:38\n",
      "   -- ------------------------------------- 19.1/376.0 MB 3.7 MB/s eta 0:01:38\n",
      "   -- ------------------------------------- 19.9/376.0 MB 3.6 MB/s eta 0:01:40\n",
      "   -- ------------------------------------- 20.7/376.0 MB 3.5 MB/s eta 0:01:41\n",
      "   -- ------------------------------------- 21.5/376.0 MB 3.5 MB/s eta 0:01:41\n",
      "   -- ------------------------------------- 22.3/376.0 MB 3.5 MB/s eta 0:01:40\n",
      "   -- ------------------------------------- 23.1/376.0 MB 3.6 MB/s eta 0:01:40\n",
      "   -- ------------------------------------- 23.9/376.0 MB 3.6 MB/s eta 0:01:40\n",
      "   -- ------------------------------------- 24.4/376.0 MB 3.5 MB/s eta 0:01:40\n",
      "   -- ------------------------------------- 25.2/376.0 MB 3.5 MB/s eta 0:01:40\n",
      "   -- ------------------------------------- 26.0/376.0 MB 3.5 MB/s eta 0:01:39\n",
      "   -- ------------------------------------- 26.7/376.0 MB 3.6 MB/s eta 0:01:39\n",
      "   -- ------------------------------------- 27.5/376.0 MB 3.6 MB/s eta 0:01:39\n",
      "   --- ------------------------------------ 28.6/376.0 MB 3.6 MB/s eta 0:01:38\n",
      "   --- ------------------------------------ 29.4/376.0 MB 3.6 MB/s eta 0:01:37\n",
      "   --- ------------------------------------ 30.1/376.0 MB 3.6 MB/s eta 0:01:37\n",
      "   --- ------------------------------------ 31.2/376.0 MB 3.6 MB/s eta 0:01:36\n",
      "   --- ------------------------------------ 31.7/376.0 MB 3.6 MB/s eta 0:01:36\n",
      "   --- ------------------------------------ 32.8/376.0 MB 3.6 MB/s eta 0:01:35\n",
      "   --- ------------------------------------ 33.6/376.0 MB 3.6 MB/s eta 0:01:35\n",
      "   --- ------------------------------------ 34.3/376.0 MB 3.6 MB/s eta 0:01:34\n",
      "   --- ------------------------------------ 35.4/376.0 MB 3.6 MB/s eta 0:01:34\n",
      "   --- ------------------------------------ 36.2/376.0 MB 3.6 MB/s eta 0:01:34\n",
      "   --- ------------------------------------ 37.0/376.0 MB 3.7 MB/s eta 0:01:33\n",
      "   ---- ----------------------------------- 37.7/376.0 MB 3.7 MB/s eta 0:01:33\n",
      "   ---- ----------------------------------- 38.8/376.0 MB 3.7 MB/s eta 0:01:33\n",
      "   ---- ----------------------------------- 39.6/376.0 MB 3.7 MB/s eta 0:01:32\n",
      "   ---- ----------------------------------- 40.4/376.0 MB 3.7 MB/s eta 0:01:32\n",
      "   ---- ----------------------------------- 41.2/376.0 MB 3.7 MB/s eta 0:01:32\n",
      "   ---- ----------------------------------- 41.9/376.0 MB 3.7 MB/s eta 0:01:31\n",
      "   ---- ----------------------------------- 43.0/376.0 MB 3.7 MB/s eta 0:01:31\n",
      "   ---- ----------------------------------- 43.8/376.0 MB 3.7 MB/s eta 0:01:30\n",
      "   ---- ----------------------------------- 44.6/376.0 MB 3.7 MB/s eta 0:01:30\n",
      "   ---- ----------------------------------- 45.4/376.0 MB 3.7 MB/s eta 0:01:30\n",
      "   ---- ----------------------------------- 46.1/376.0 MB 3.7 MB/s eta 0:01:29\n",
      "   ---- ----------------------------------- 46.4/376.0 MB 3.7 MB/s eta 0:01:30\n",
      "   ----- ---------------------------------- 47.2/376.0 MB 3.7 MB/s eta 0:01:30\n",
      "   ----- ---------------------------------- 47.7/376.0 MB 3.6 MB/s eta 0:01:31\n",
      "   ----- ---------------------------------- 48.5/376.0 MB 3.6 MB/s eta 0:01:31\n",
      "   ----- ---------------------------------- 49.0/376.0 MB 3.6 MB/s eta 0:01:31\n",
      "   ----- ---------------------------------- 49.8/376.0 MB 3.6 MB/s eta 0:01:31\n",
      "   ----- ---------------------------------- 50.6/376.0 MB 3.6 MB/s eta 0:01:30\n",
      "   ----- ---------------------------------- 51.1/376.0 MB 3.6 MB/s eta 0:01:30\n",
      "   ----- ---------------------------------- 51.9/376.0 MB 3.6 MB/s eta 0:01:30\n",
      "   ----- ---------------------------------- 52.7/376.0 MB 3.6 MB/s eta 0:01:30\n",
      "   ----- ---------------------------------- 53.7/376.0 MB 3.6 MB/s eta 0:01:30\n",
      "   ----- ---------------------------------- 54.3/376.0 MB 3.6 MB/s eta 0:01:29\n",
      "   ----- ---------------------------------- 55.1/376.0 MB 3.6 MB/s eta 0:01:29\n",
      "   ----- ---------------------------------- 55.8/376.0 MB 3.6 MB/s eta 0:01:29\n",
      "   ------ --------------------------------- 56.9/376.0 MB 3.6 MB/s eta 0:01:29\n",
      "   ------ --------------------------------- 57.7/376.0 MB 3.6 MB/s eta 0:01:28\n",
      "   ------ --------------------------------- 57.9/376.0 MB 3.6 MB/s eta 0:01:28\n",
      "   ------ --------------------------------- 58.7/376.0 MB 3.6 MB/s eta 0:01:29\n",
      "   ------ --------------------------------- 59.2/376.0 MB 3.6 MB/s eta 0:01:29\n",
      "   ------ --------------------------------- 59.8/376.0 MB 3.6 MB/s eta 0:01:29\n",
      "   ------ --------------------------------- 60.6/376.0 MB 3.6 MB/s eta 0:01:29\n",
      "   ------ --------------------------------- 61.3/376.0 MB 3.6 MB/s eta 0:01:29\n",
      "   ------ --------------------------------- 61.9/376.0 MB 3.6 MB/s eta 0:01:29\n",
      "   ------ --------------------------------- 62.7/376.0 MB 3.6 MB/s eta 0:01:29\n",
      "   ------ --------------------------------- 63.2/376.0 MB 3.6 MB/s eta 0:01:29\n",
      "   ------ --------------------------------- 64.0/376.0 MB 3.5 MB/s eta 0:01:29\n",
      "   ------ --------------------------------- 64.7/376.0 MB 3.5 MB/s eta 0:01:28\n",
      "   ------ --------------------------------- 65.3/376.0 MB 3.5 MB/s eta 0:01:28\n",
      "   ------- -------------------------------- 66.1/376.0 MB 3.5 MB/s eta 0:01:28\n",
      "   ------- -------------------------------- 66.8/376.0 MB 3.5 MB/s eta 0:01:28\n",
      "   ------- -------------------------------- 67.4/376.0 MB 3.5 MB/s eta 0:01:28\n",
      "   ------- -------------------------------- 68.2/376.0 MB 3.5 MB/s eta 0:01:28\n",
      "   ------- -------------------------------- 68.9/376.0 MB 3.5 MB/s eta 0:01:28\n",
      "   ------- -------------------------------- 69.7/376.0 MB 3.5 MB/s eta 0:01:27\n",
      "   ------- -------------------------------- 70.3/376.0 MB 3.5 MB/s eta 0:01:27\n",
      "   ------- -------------------------------- 71.0/376.0 MB 3.5 MB/s eta 0:01:27\n",
      "   ------- -------------------------------- 71.8/376.0 MB 3.5 MB/s eta 0:01:27\n",
      "   ------- -------------------------------- 72.4/376.0 MB 3.5 MB/s eta 0:01:27\n",
      "   ------- -------------------------------- 73.1/376.0 MB 3.5 MB/s eta 0:01:27\n",
      "   ------- -------------------------------- 73.9/376.0 MB 3.5 MB/s eta 0:01:27\n",
      "   ------- -------------------------------- 74.7/376.0 MB 3.5 MB/s eta 0:01:26\n",
      "   -------- ------------------------------- 75.5/376.0 MB 3.5 MB/s eta 0:01:26\n",
      "   -------- ------------------------------- 76.0/376.0 MB 3.5 MB/s eta 0:01:26\n",
      "   -------- ------------------------------- 76.8/376.0 MB 3.5 MB/s eta 0:01:26\n",
      "   -------- ------------------------------- 77.6/376.0 MB 3.5 MB/s eta 0:01:26\n",
      "   -------- ------------------------------- 78.1/376.0 MB 3.5 MB/s eta 0:01:26\n",
      "   -------- ------------------------------- 78.1/376.0 MB 3.5 MB/s eta 0:01:26\n",
      "   -------- ------------------------------- 78.6/376.0 MB 3.5 MB/s eta 0:01:27\n",
      "   -------- ------------------------------- 79.2/376.0 MB 3.4 MB/s eta 0:01:27\n",
      "   -------- ------------------------------- 79.4/376.0 MB 3.4 MB/s eta 0:01:27\n",
      "   -------- ------------------------------- 79.4/376.0 MB 3.4 MB/s eta 0:01:27\n",
      "   -------- ------------------------------- 80.0/376.0 MB 3.4 MB/s eta 0:01:28\n",
      "   -------- ------------------------------- 80.2/376.0 MB 3.4 MB/s eta 0:01:28\n",
      "   -------- ------------------------------- 80.5/376.0 MB 3.3 MB/s eta 0:01:29\n",
      "   -------- ------------------------------- 80.7/376.0 MB 3.3 MB/s eta 0:01:29\n",
      "   -------- ------------------------------- 81.0/376.0 MB 3.3 MB/s eta 0:01:29\n",
      "   -------- ------------------------------- 81.3/376.0 MB 3.3 MB/s eta 0:01:30\n",
      "   -------- ------------------------------- 81.8/376.0 MB 3.3 MB/s eta 0:01:30\n",
      "   -------- ------------------------------- 82.1/376.0 MB 3.3 MB/s eta 0:01:30\n",
      "   -------- ------------------------------- 82.3/376.0 MB 3.3 MB/s eta 0:01:31\n",
      "   -------- ------------------------------- 82.6/376.0 MB 3.2 MB/s eta 0:01:31\n",
      "   -------- ------------------------------- 82.8/376.0 MB 3.2 MB/s eta 0:01:31\n",
      "   -------- ------------------------------- 83.1/376.0 MB 3.2 MB/s eta 0:01:32\n",
      "   -------- ------------------------------- 83.4/376.0 MB 3.2 MB/s eta 0:01:32\n",
      "   -------- ------------------------------- 83.9/376.0 MB 3.2 MB/s eta 0:01:33\n",
      "   -------- ------------------------------- 84.1/376.0 MB 3.2 MB/s eta 0:01:33\n",
      "   -------- ------------------------------- 84.4/376.0 MB 3.1 MB/s eta 0:01:33\n",
      "   --------- ------------------------------ 84.7/376.0 MB 3.1 MB/s eta 0:01:33\n",
      "   --------- ------------------------------ 85.2/376.0 MB 3.1 MB/s eta 0:01:34\n",
      "   --------- ------------------------------ 85.5/376.0 MB 3.1 MB/s eta 0:01:34\n",
      "   --------- ------------------------------ 85.7/376.0 MB 3.1 MB/s eta 0:01:34\n",
      "   --------- ------------------------------ 86.2/376.0 MB 3.1 MB/s eta 0:01:34\n",
      "   --------- ------------------------------ 86.5/376.0 MB 3.1 MB/s eta 0:01:34\n",
      "   --------- ------------------------------ 86.8/376.0 MB 3.1 MB/s eta 0:01:35\n",
      "   --------- ------------------------------ 87.3/376.0 MB 3.1 MB/s eta 0:01:35\n",
      "   --------- ------------------------------ 87.6/376.0 MB 3.1 MB/s eta 0:01:35\n",
      "   --------- ------------------------------ 88.1/376.0 MB 3.0 MB/s eta 0:01:35\n",
      "   --------- ------------------------------ 88.3/376.0 MB 3.0 MB/s eta 0:01:35\n",
      "   --------- ------------------------------ 88.9/376.0 MB 3.0 MB/s eta 0:01:35\n",
      "   --------- ------------------------------ 89.1/376.0 MB 3.0 MB/s eta 0:01:36\n",
      "   --------- ------------------------------ 89.7/376.0 MB 3.0 MB/s eta 0:01:36\n",
      "   --------- ------------------------------ 90.2/376.0 MB 3.0 MB/s eta 0:01:36\n",
      "   --------- ------------------------------ 90.4/376.0 MB 3.0 MB/s eta 0:01:36\n",
      "   --------- ------------------------------ 91.0/376.0 MB 3.0 MB/s eta 0:01:36\n",
      "   --------- ------------------------------ 91.2/376.0 MB 3.0 MB/s eta 0:01:36\n",
      "   --------- ------------------------------ 91.8/376.0 MB 3.0 MB/s eta 0:01:36\n",
      "   --------- ------------------------------ 92.3/376.0 MB 3.0 MB/s eta 0:01:36\n",
      "   --------- ------------------------------ 92.8/376.0 MB 3.0 MB/s eta 0:01:36\n",
      "   --------- ------------------------------ 93.1/376.0 MB 3.0 MB/s eta 0:01:36\n",
      "   --------- ------------------------------ 93.6/376.0 MB 2.9 MB/s eta 0:01:37\n",
      "   ---------- ----------------------------- 94.1/376.0 MB 2.9 MB/s eta 0:01:37\n",
      "   ---------- ----------------------------- 94.6/376.0 MB 2.9 MB/s eta 0:01:38\n",
      "   ---------- ----------------------------- 95.2/376.0 MB 2.9 MB/s eta 0:01:39\n",
      "   ---------- ----------------------------- 95.7/376.0 MB 2.8 MB/s eta 0:01:39\n",
      "   ---------- ----------------------------- 95.9/376.0 MB 2.8 MB/s eta 0:01:39\n",
      "   ---------- ----------------------------- 96.5/376.0 MB 2.8 MB/s eta 0:01:39\n",
      "   ---------- ----------------------------- 96.7/376.0 MB 2.8 MB/s eta 0:01:39\n",
      "   ---------- ----------------------------- 97.3/376.0 MB 2.8 MB/s eta 0:01:40\n",
      "   ---------- ----------------------------- 97.8/376.0 MB 2.8 MB/s eta 0:01:41\n",
      "   ---------- ----------------------------- 98.3/376.0 MB 2.8 MB/s eta 0:01:41\n",
      "   ---------- ----------------------------- 98.8/376.0 MB 2.8 MB/s eta 0:01:40\n",
      "   ---------- ----------------------------- 99.4/376.0 MB 2.8 MB/s eta 0:01:40\n",
      "   ---------- ----------------------------- 99.9/376.0 MB 2.8 MB/s eta 0:01:40\n",
      "   ---------- ----------------------------- 100.4/376.0 MB 2.8 MB/s eta 0:01:40\n",
      "   ---------- ----------------------------- 101.2/376.0 MB 2.8 MB/s eta 0:01:40\n",
      "   ---------- ----------------------------- 101.7/376.0 MB 2.8 MB/s eta 0:01:40\n",
      "   ---------- ----------------------------- 102.2/376.0 MB 2.8 MB/s eta 0:01:39\n",
      "   ---------- ----------------------------- 102.8/376.0 MB 2.8 MB/s eta 0:01:39\n",
      "   ----------- ---------------------------- 103.5/376.0 MB 2.8 MB/s eta 0:01:39\n",
      "   ----------- ---------------------------- 103.8/376.0 MB 2.8 MB/s eta 0:01:39\n",
      "   ----------- ---------------------------- 103.8/376.0 MB 2.8 MB/s eta 0:01:39\n",
      "   ----------- ---------------------------- 103.8/376.0 MB 2.8 MB/s eta 0:01:39\n",
      "   ----------- ---------------------------- 104.1/376.0 MB 2.7 MB/s eta 0:01:42\n",
      "   ----------- ---------------------------- 104.9/376.0 MB 2.7 MB/s eta 0:01:41\n",
      "   ----------- ---------------------------- 105.4/376.0 MB 2.7 MB/s eta 0:01:42\n",
      "   ----------- ---------------------------- 105.9/376.0 MB 2.7 MB/s eta 0:01:42\n",
      "   ----------- ---------------------------- 106.2/376.0 MB 2.7 MB/s eta 0:01:42\n",
      "   ----------- ---------------------------- 106.7/376.0 MB 2.6 MB/s eta 0:01:42\n",
      "   ----------- ---------------------------- 107.0/376.0 MB 2.6 MB/s eta 0:01:43\n",
      "   ----------- ---------------------------- 107.2/376.0 MB 2.6 MB/s eta 0:01:43\n",
      "   ----------- ---------------------------- 107.7/376.0 MB 2.6 MB/s eta 0:01:44\n",
      "   ----------- ---------------------------- 108.0/376.0 MB 2.6 MB/s eta 0:01:44\n",
      "   ----------- ---------------------------- 108.5/376.0 MB 2.6 MB/s eta 0:01:45\n",
      "   ----------- ---------------------------- 108.8/376.0 MB 2.6 MB/s eta 0:01:45\n",
      "   ----------- ---------------------------- 109.1/376.0 MB 2.5 MB/s eta 0:01:45\n",
      "   ----------- ---------------------------- 109.6/376.0 MB 2.5 MB/s eta 0:01:46\n",
      "   ----------- ---------------------------- 109.8/376.0 MB 2.5 MB/s eta 0:01:47\n",
      "   ----------- ---------------------------- 110.4/376.0 MB 2.5 MB/s eta 0:01:47\n",
      "   ----------- ---------------------------- 110.6/376.0 MB 2.5 MB/s eta 0:01:48\n",
      "   ----------- ---------------------------- 111.1/376.0 MB 2.5 MB/s eta 0:01:48\n",
      "   ----------- ---------------------------- 111.4/376.0 MB 2.4 MB/s eta 0:01:49\n",
      "   ----------- ---------------------------- 111.9/376.0 MB 2.4 MB/s eta 0:01:49\n",
      "   ----------- ---------------------------- 112.2/376.0 MB 2.4 MB/s eta 0:01:50\n",
      "   ----------- ---------------------------- 112.7/376.0 MB 2.4 MB/s eta 0:01:50\n",
      "   ------------ --------------------------- 113.0/376.0 MB 2.4 MB/s eta 0:01:51\n",
      "   ------------ --------------------------- 113.5/376.0 MB 2.4 MB/s eta 0:01:52\n",
      "   ------------ --------------------------- 113.8/376.0 MB 2.4 MB/s eta 0:01:52\n",
      "   ------------ --------------------------- 114.0/376.0 MB 2.3 MB/s eta 0:01:52\n",
      "   ------------ --------------------------- 114.3/376.0 MB 2.3 MB/s eta 0:01:53\n",
      "   ------------ --------------------------- 114.8/376.0 MB 2.3 MB/s eta 0:01:54\n",
      "   ------------ --------------------------- 115.1/376.0 MB 2.3 MB/s eta 0:01:54\n",
      "   ------------ --------------------------- 115.3/376.0 MB 2.3 MB/s eta 0:01:53\n",
      "   ------------ --------------------------- 115.9/376.0 MB 2.3 MB/s eta 0:01:54\n",
      "   ------------ --------------------------- 116.4/376.0 MB 2.3 MB/s eta 0:01:55\n",
      "   ------------ --------------------------- 116.7/376.0 MB 2.3 MB/s eta 0:01:55\n",
      "   ------------ --------------------------- 117.2/376.0 MB 2.3 MB/s eta 0:01:55\n",
      "   ------------ --------------------------- 117.7/376.0 MB 2.3 MB/s eta 0:01:55\n",
      "   ------------ --------------------------- 118.2/376.0 MB 2.2 MB/s eta 0:01:55\n",
      "   ------------ --------------------------- 118.5/376.0 MB 2.2 MB/s eta 0:01:55\n",
      "   ------------ --------------------------- 118.8/376.0 MB 2.2 MB/s eta 0:01:56\n",
      "   ------------ --------------------------- 119.0/376.0 MB 2.2 MB/s eta 0:01:57\n",
      "   ------------ --------------------------- 119.5/376.0 MB 2.2 MB/s eta 0:01:58\n",
      "   ------------ --------------------------- 119.8/376.0 MB 2.2 MB/s eta 0:01:58\n",
      "   ------------ --------------------------- 120.3/376.0 MB 2.2 MB/s eta 0:01:59\n",
      "   ------------ --------------------------- 120.6/376.0 MB 2.1 MB/s eta 0:02:00\n",
      "   ------------ --------------------------- 121.1/376.0 MB 2.1 MB/s eta 0:02:00\n",
      "   ------------ --------------------------- 121.6/376.0 MB 2.1 MB/s eta 0:02:00\n",
      "   ------------ --------------------------- 121.9/376.0 MB 2.1 MB/s eta 0:02:00\n",
      "   ------------- -------------------------- 122.4/376.0 MB 2.1 MB/s eta 0:02:00\n",
      "   ------------- -------------------------- 122.9/376.0 MB 2.1 MB/s eta 0:02:01\n",
      "   ------------- -------------------------- 123.2/376.0 MB 2.1 MB/s eta 0:02:01\n",
      "   ------------- -------------------------- 123.7/376.0 MB 2.1 MB/s eta 0:02:01\n",
      "   ------------- -------------------------- 124.3/376.0 MB 2.1 MB/s eta 0:02:01\n",
      "   ------------- -------------------------- 124.8/376.0 MB 2.1 MB/s eta 0:02:01\n",
      "   ------------- -------------------------- 125.0/376.0 MB 2.1 MB/s eta 0:02:02\n",
      "   ------------- -------------------------- 125.6/376.0 MB 2.1 MB/s eta 0:02:02\n",
      "   ------------- -------------------------- 126.1/376.0 MB 2.1 MB/s eta 0:02:02\n",
      "   ------------- -------------------------- 126.6/376.0 MB 2.0 MB/s eta 0:02:02\n",
      "   ------------- -------------------------- 127.1/376.0 MB 2.0 MB/s eta 0:02:02\n",
      "   ------------- -------------------------- 127.4/376.0 MB 2.0 MB/s eta 0:02:03\n",
      "   ------------- -------------------------- 127.9/376.0 MB 2.0 MB/s eta 0:02:03\n",
      "   ------------- -------------------------- 128.5/376.0 MB 2.0 MB/s eta 0:02:03\n",
      "   ------------- -------------------------- 129.0/376.0 MB 2.0 MB/s eta 0:02:03\n",
      "   ------------- -------------------------- 129.2/376.0 MB 2.0 MB/s eta 0:02:04\n",
      "   ------------- -------------------------- 129.8/376.0 MB 2.0 MB/s eta 0:02:04\n",
      "   ------------- -------------------------- 129.8/376.0 MB 2.0 MB/s eta 0:02:04\n",
      "   ------------- -------------------------- 130.0/376.0 MB 2.0 MB/s eta 0:02:06\n",
      "   ------------- -------------------------- 130.3/376.0 MB 2.0 MB/s eta 0:02:06\n",
      "   ------------- -------------------------- 130.8/376.0 MB 1.9 MB/s eta 0:02:07\n",
      "   ------------- -------------------------- 131.1/376.0 MB 1.9 MB/s eta 0:02:07\n",
      "   -------------- ------------------------- 131.6/376.0 MB 1.9 MB/s eta 0:02:08\n",
      "   -------------- ------------------------- 132.1/376.0 MB 1.9 MB/s eta 0:02:08\n",
      "   -------------- ------------------------- 132.4/376.0 MB 1.9 MB/s eta 0:02:09\n",
      "   -------------- ------------------------- 132.6/376.0 MB 1.9 MB/s eta 0:02:09\n",
      "   -------------- ------------------------- 132.9/376.0 MB 1.9 MB/s eta 0:02:10\n",
      "   -------------- ------------------------- 133.4/376.0 MB 1.9 MB/s eta 0:02:11\n",
      "   -------------- ------------------------- 133.4/376.0 MB 1.9 MB/s eta 0:02:11\n",
      "   -------------- ------------------------- 133.7/376.0 MB 1.9 MB/s eta 0:02:11\n",
      "   -------------- ------------------------- 133.7/376.0 MB 1.9 MB/s eta 0:02:11\n",
      "   -------------- ------------------------- 134.0/376.0 MB 1.8 MB/s eta 0:02:12\n",
      "   -------------- ------------------------- 134.2/376.0 MB 1.8 MB/s eta 0:02:12\n",
      "   -------------- ------------------------- 134.5/376.0 MB 1.8 MB/s eta 0:02:12\n",
      "   -------------- ------------------------- 134.5/376.0 MB 1.8 MB/s eta 0:02:12\n",
      "   -------------- ------------------------- 134.7/376.0 MB 1.8 MB/s eta 0:02:13\n",
      "   -------------- ------------------------- 135.0/376.0 MB 1.8 MB/s eta 0:02:13\n",
      "   -------------- ------------------------- 135.3/376.0 MB 1.8 MB/s eta 0:02:13\n",
      "   -------------- ------------------------- 135.3/376.0 MB 1.8 MB/s eta 0:02:13\n",
      "   -------------- ------------------------- 135.5/376.0 MB 1.8 MB/s eta 0:02:13\n",
      "   -------------- ------------------------- 135.8/376.0 MB 1.8 MB/s eta 0:02:14\n",
      "   -------------- ------------------------- 135.8/376.0 MB 1.8 MB/s eta 0:02:14\n",
      "   -------------- ------------------------- 136.1/376.0 MB 1.8 MB/s eta 0:02:14\n",
      "   -------------- ------------------------- 136.1/376.0 MB 1.8 MB/s eta 0:02:14\n",
      "   -------------- ------------------------- 136.3/376.0 MB 1.8 MB/s eta 0:02:15\n",
      "   -------------- ------------------------- 136.6/376.0 MB 1.8 MB/s eta 0:02:15\n",
      "   -------------- ------------------------- 136.6/376.0 MB 1.8 MB/s eta 0:02:15\n",
      "   -------------- ------------------------- 136.8/376.0 MB 1.8 MB/s eta 0:02:15\n",
      "   -------------- ------------------------- 137.1/376.0 MB 1.8 MB/s eta 0:02:16\n",
      "   -------------- ------------------------- 137.4/376.0 MB 1.8 MB/s eta 0:02:15\n",
      "   -------------- ------------------------- 137.9/376.0 MB 1.8 MB/s eta 0:02:15\n",
      "   -------------- ------------------------- 138.1/376.0 MB 1.8 MB/s eta 0:02:15\n",
      "   -------------- ------------------------- 138.4/376.0 MB 1.8 MB/s eta 0:02:15\n",
      "   -------------- ------------------------- 138.7/376.0 MB 1.8 MB/s eta 0:02:15\n",
      "   -------------- ------------------------- 138.7/376.0 MB 1.8 MB/s eta 0:02:15\n",
      "   -------------- ------------------------- 138.9/376.0 MB 1.8 MB/s eta 0:02:16\n",
      "   -------------- ------------------------- 139.2/376.0 MB 1.7 MB/s eta 0:02:16\n",
      "   -------------- ------------------------- 139.5/376.0 MB 1.7 MB/s eta 0:02:16\n",
      "   -------------- ------------------------- 139.7/376.0 MB 1.7 MB/s eta 0:02:16\n",
      "   -------------- ------------------------- 140.0/376.0 MB 1.7 MB/s eta 0:02:16\n",
      "   -------------- ------------------------- 140.5/376.0 MB 1.7 MB/s eta 0:02:16\n",
      "   -------------- ------------------------- 140.8/376.0 MB 1.7 MB/s eta 0:02:17\n",
      "   --------------- ------------------------ 141.0/376.0 MB 1.7 MB/s eta 0:02:17\n",
      "   --------------- ------------------------ 141.3/376.0 MB 1.7 MB/s eta 0:02:17\n",
      "   --------------- ------------------------ 141.6/376.0 MB 1.7 MB/s eta 0:02:17\n",
      "   --------------- ------------------------ 142.1/376.0 MB 1.7 MB/s eta 0:02:17\n",
      "   --------------- ------------------------ 142.3/376.0 MB 1.7 MB/s eta 0:02:17\n",
      "   --------------- ------------------------ 142.6/376.0 MB 1.7 MB/s eta 0:02:17\n",
      "   --------------- ------------------------ 142.9/376.0 MB 1.7 MB/s eta 0:02:18\n",
      "   --------------- ------------------------ 143.1/376.0 MB 1.7 MB/s eta 0:02:18\n",
      "   --------------- ------------------------ 143.4/376.0 MB 1.7 MB/s eta 0:02:18\n",
      "   --------------- ------------------------ 143.7/376.0 MB 1.7 MB/s eta 0:02:18\n",
      "   --------------- ------------------------ 144.2/376.0 MB 1.7 MB/s eta 0:02:19\n",
      "   --------------- ------------------------ 144.4/376.0 MB 1.7 MB/s eta 0:02:19\n",
      "   --------------- ------------------------ 144.7/376.0 MB 1.7 MB/s eta 0:02:19\n",
      "   --------------- ------------------------ 145.2/376.0 MB 1.7 MB/s eta 0:02:19\n",
      "   --------------- ------------------------ 145.5/376.0 MB 1.7 MB/s eta 0:02:20\n",
      "   --------------- ------------------------ 146.0/376.0 MB 1.7 MB/s eta 0:02:19\n",
      "   --------------- ------------------------ 146.3/376.0 MB 1.7 MB/s eta 0:02:19\n",
      "   --------------- ------------------------ 146.8/376.0 MB 1.7 MB/s eta 0:02:19\n",
      "   --------------- ------------------------ 147.1/376.0 MB 1.7 MB/s eta 0:02:19\n",
      "   --------------- ------------------------ 147.3/376.0 MB 1.6 MB/s eta 0:02:19\n",
      "   --------------- ------------------------ 147.8/376.0 MB 1.6 MB/s eta 0:02:19\n",
      "   --------------- ------------------------ 148.1/376.0 MB 1.6 MB/s eta 0:02:20\n",
      "   --------------- ------------------------ 148.6/376.0 MB 1.6 MB/s eta 0:02:20\n",
      "   --------------- ------------------------ 148.9/376.0 MB 1.6 MB/s eta 0:02:20\n",
      "   --------------- ------------------------ 149.4/376.0 MB 1.6 MB/s eta 0:02:21\n",
      "   --------------- ------------------------ 149.7/376.0 MB 1.6 MB/s eta 0:02:21\n",
      "   --------------- ------------------------ 150.2/376.0 MB 1.6 MB/s eta 0:02:21\n",
      "   ---------------- ----------------------- 150.5/376.0 MB 1.6 MB/s eta 0:02:21\n",
      "   ---------------- ----------------------- 150.7/376.0 MB 1.6 MB/s eta 0:02:22\n",
      "   ---------------- ----------------------- 151.0/376.0 MB 1.6 MB/s eta 0:02:21\n",
      "   ---------------- ----------------------- 151.3/376.0 MB 1.6 MB/s eta 0:02:21\n",
      "   ---------------- ----------------------- 151.3/376.0 MB 1.6 MB/s eta 0:02:21\n",
      "   ---------------- ----------------------- 151.5/376.0 MB 1.6 MB/s eta 0:02:22\n",
      "   ---------------- ----------------------- 151.8/376.0 MB 1.6 MB/s eta 0:02:23\n",
      "   ---------------- ----------------------- 152.0/376.0 MB 1.6 MB/s eta 0:02:24\n",
      "   ---------------- ----------------------- 152.3/376.0 MB 1.6 MB/s eta 0:02:24\n",
      "   ---------------- ----------------------- 152.6/376.0 MB 1.5 MB/s eta 0:02:25\n",
      "   ---------------- ----------------------- 152.8/376.0 MB 1.5 MB/s eta 0:02:25\n",
      "   ---------------- ----------------------- 153.1/376.0 MB 1.5 MB/s eta 0:02:25\n",
      "   ---------------- ----------------------- 153.4/376.0 MB 1.5 MB/s eta 0:02:25\n",
      "   ---------------- ----------------------- 153.6/376.0 MB 1.5 MB/s eta 0:02:25\n",
      "   ---------------- ----------------------- 153.9/376.0 MB 1.5 MB/s eta 0:02:25\n",
      "   ---------------- ----------------------- 154.1/376.0 MB 1.5 MB/s eta 0:02:26\n",
      "   ---------------- ----------------------- 154.1/376.0 MB 1.5 MB/s eta 0:02:26\n",
      "   ---------------- ----------------------- 154.4/376.0 MB 1.5 MB/s eta 0:02:27\n",
      "   ---------------- ----------------------- 154.7/376.0 MB 1.5 MB/s eta 0:02:27\n",
      "   ---------------- ----------------------- 154.9/376.0 MB 1.5 MB/s eta 0:02:27\n",
      "   ---------------- ----------------------- 155.2/376.0 MB 1.5 MB/s eta 0:02:27\n",
      "   ---------------- ----------------------- 155.5/376.0 MB 1.5 MB/s eta 0:02:28\n",
      "   ---------------- ----------------------- 156.0/376.0 MB 1.5 MB/s eta 0:02:28\n",
      "   ---------------- ----------------------- 156.0/376.0 MB 1.5 MB/s eta 0:02:28\n",
      "   ---------------- ----------------------- 156.2/376.0 MB 1.5 MB/s eta 0:02:28\n",
      "   ---------------- ----------------------- 156.5/376.0 MB 1.5 MB/s eta 0:02:29\n",
      "   ---------------- ----------------------- 157.0/376.0 MB 1.5 MB/s eta 0:02:29\n",
      "   ---------------- ----------------------- 157.3/376.0 MB 1.5 MB/s eta 0:02:29\n",
      "   ---------------- ----------------------- 157.5/376.0 MB 1.5 MB/s eta 0:02:29\n",
      "   ---------------- ----------------------- 157.8/376.0 MB 1.5 MB/s eta 0:02:29\n",
      "   ---------------- ----------------------- 158.3/376.0 MB 1.5 MB/s eta 0:02:28\n",
      "   ---------------- ----------------------- 158.6/376.0 MB 1.5 MB/s eta 0:02:28\n",
      "   ---------------- ----------------------- 158.9/376.0 MB 1.5 MB/s eta 0:02:28\n",
      "   ---------------- ----------------------- 159.1/376.0 MB 1.5 MB/s eta 0:02:28\n",
      "   ---------------- ----------------------- 159.6/376.0 MB 1.5 MB/s eta 0:02:27\n",
      "   ----------------- ---------------------- 159.9/376.0 MB 1.5 MB/s eta 0:02:27\n",
      "   ----------------- ---------------------- 160.2/376.0 MB 1.5 MB/s eta 0:02:27\n",
      "   ----------------- ---------------------- 160.4/376.0 MB 1.5 MB/s eta 0:02:28\n",
      "   ----------------- ---------------------- 160.7/376.0 MB 1.5 MB/s eta 0:02:29\n",
      "   ----------------- ---------------------- 161.0/376.0 MB 1.4 MB/s eta 0:02:29\n",
      "   ----------------- ---------------------- 161.2/376.0 MB 1.4 MB/s eta 0:02:30\n",
      "   ----------------- ---------------------- 161.5/376.0 MB 1.4 MB/s eta 0:02:31\n",
      "   ----------------- ---------------------- 161.7/376.0 MB 1.4 MB/s eta 0:02:30\n",
      "   ----------------- ---------------------- 162.3/376.0 MB 1.4 MB/s eta 0:02:29\n",
      "   ----------------- ---------------------- 162.5/376.0 MB 1.4 MB/s eta 0:02:29\n",
      "   ----------------- ---------------------- 163.1/376.0 MB 1.4 MB/s eta 0:02:28\n",
      "   ----------------- ---------------------- 163.6/376.0 MB 1.4 MB/s eta 0:02:27\n",
      "   ----------------- ---------------------- 164.1/376.0 MB 1.5 MB/s eta 0:02:26\n",
      "   ----------------- ---------------------- 164.6/376.0 MB 1.5 MB/s eta 0:02:26\n",
      "   ----------------- ---------------------- 164.9/376.0 MB 1.5 MB/s eta 0:02:25\n",
      "   ----------------- ---------------------- 165.4/376.0 MB 1.5 MB/s eta 0:02:26\n",
      "   ----------------- ---------------------- 165.7/376.0 MB 1.4 MB/s eta 0:02:26\n",
      "   ----------------- ---------------------- 165.9/376.0 MB 1.4 MB/s eta 0:02:26\n",
      "   ----------------- ---------------------- 166.2/376.0 MB 1.4 MB/s eta 0:02:26\n",
      "   ----------------- ---------------------- 166.5/376.0 MB 1.4 MB/s eta 0:02:27\n",
      "   ----------------- ---------------------- 166.7/376.0 MB 1.4 MB/s eta 0:02:27\n",
      "   ----------------- ---------------------- 166.7/376.0 MB 1.4 MB/s eta 0:02:27\n",
      "   ----------------- ---------------------- 167.0/376.0 MB 1.4 MB/s eta 0:02:29\n",
      "   ----------------- ---------------------- 167.0/376.0 MB 1.4 MB/s eta 0:02:29\n",
      "   ----------------- ---------------------- 167.0/376.0 MB 1.4 MB/s eta 0:02:29\n",
      "   ----------------- ---------------------- 167.2/376.0 MB 1.4 MB/s eta 0:02:33\n",
      "   ----------------- ---------------------- 167.2/376.0 MB 1.4 MB/s eta 0:02:33\n",
      "   ----------------- ---------------------- 167.2/376.0 MB 1.4 MB/s eta 0:02:33\n",
      "   ----------------- ---------------------- 167.2/376.0 MB 1.4 MB/s eta 0:02:33\n",
      "   ----------------- ---------------------- 167.2/376.0 MB 1.4 MB/s eta 0:02:33\n",
      "   ----------------- ---------------------- 167.2/376.0 MB 1.4 MB/s eta 0:02:33\n",
      "   ----------------- ---------------------- 167.2/376.0 MB 1.4 MB/s eta 0:02:33\n",
      "   ----------------- ---------------------- 167.2/376.0 MB 1.4 MB/s eta 0:02:33\n",
      "   ----------------- ---------------------- 167.5/376.0 MB 1.3 MB/s eta 0:02:46\n",
      "   ----------------- ---------------------- 167.5/376.0 MB 1.3 MB/s eta 0:02:46\n",
      "   ----------------- ---------------------- 167.5/376.0 MB 1.3 MB/s eta 0:02:46\n",
      "   ----------------- ---------------------- 167.5/376.0 MB 1.3 MB/s eta 0:02:46\n",
      "   ----------------- ---------------------- 167.5/376.0 MB 1.3 MB/s eta 0:02:46\n",
      "   ----------------- ---------------------- 167.5/376.0 MB 1.3 MB/s eta 0:02:46\n",
      "   ----------------- ---------------------- 167.8/376.0 MB 1.2 MB/s eta 0:02:53\n",
      "   ----------------- ---------------------- 167.8/376.0 MB 1.2 MB/s eta 0:02:53\n",
      "   ----------------- ---------------------- 167.8/376.0 MB 1.2 MB/s eta 0:02:53\n",
      "   ----------------- ---------------------- 168.0/376.0 MB 1.2 MB/s eta 0:02:58\n",
      "   ----------------- ---------------------- 168.0/376.0 MB 1.2 MB/s eta 0:02:58\n",
      "   ----------------- ---------------------- 168.0/376.0 MB 1.2 MB/s eta 0:02:58\n",
      "   ----------------- ---------------------- 168.0/376.0 MB 1.2 MB/s eta 0:02:58\n",
      "   ----------------- ---------------------- 168.3/376.0 MB 1.2 MB/s eta 0:03:00\n",
      "   ----------------- ---------------------- 168.3/376.0 MB 1.2 MB/s eta 0:03:00\n",
      "   ----------------- ---------------------- 168.3/376.0 MB 1.2 MB/s eta 0:03:00\n",
      "   ----------------- ---------------------- 168.3/376.0 MB 1.2 MB/s eta 0:03:00\n",
      "   ----------------- ---------------------- 168.6/376.0 MB 1.1 MB/s eta 0:03:03\n",
      "   ----------------- ---------------------- 168.6/376.0 MB 1.1 MB/s eta 0:03:03\n",
      "   ----------------- ---------------------- 168.6/376.0 MB 1.1 MB/s eta 0:03:03\n",
      "   ----------------- ---------------------- 168.6/376.0 MB 1.1 MB/s eta 0:03:03\n",
      "Note: you may need to restart the kernel to use updated packages.\n",
      "   ----------------- ---------------------- 168.8/376.0 MB 1.1 MB/s eta 0:03:05\n",
      "   ----------------- ---------------------- 168.8/376.0 MB 1.1 MB/s eta 0:03:05\n",
      "   ----------------- ---------------------- 168.8/376.0 MB 1.1 MB/s eta 0:03:05\n",
      "   ----------------- ---------------------- 169.1/376.0 MB 1.1 MB/s eta 0:03:07\n",
      "   ----------------- ---------------------- 169.1/376.0 MB 1.1 MB/s eta 0:03:07\n",
      "   ------------------ --------------------- 169.3/376.0 MB 1.1 MB/s eta 0:03:07\n",
      "   ------------------ --------------------- 169.3/376.0 MB 1.1 MB/s eta 0:03:07\n",
      "   ------------------ --------------------- 169.6/376.0 MB 1.1 MB/s eta 0:03:07\n",
      "   ------------------ --------------------- 169.6/376.0 MB 1.1 MB/s eta 0:03:07\n",
      "   ------------------ --------------------- 169.9/376.0 MB 1.1 MB/s eta 0:03:07\n",
      "   ------------------ --------------------- 170.1/376.0 MB 1.1 MB/s eta 0:03:06\n",
      "   ------------------ --------------------- 170.4/376.0 MB 1.1 MB/s eta 0:03:06\n",
      "   ------------------ --------------------- 170.7/376.0 MB 1.1 MB/s eta 0:03:06\n",
      "   ------------------ --------------------- 170.9/376.0 MB 1.1 MB/s eta 0:03:07\n",
      "   ------------------ --------------------- 171.2/376.0 MB 1.1 MB/s eta 0:03:07\n",
      "   ------------------ --------------------- 171.4/376.0 MB 1.1 MB/s eta 0:03:07\n",
      "   ------------------ --------------------- 171.7/376.0 MB 1.1 MB/s eta 0:03:06\n",
      "   ------------------ --------------------- 172.0/376.0 MB 1.1 MB/s eta 0:03:05\n",
      "   ------------------ --------------------- 172.2/376.0 MB 1.1 MB/s eta 0:03:05\n",
      "   ------------------ --------------------- 172.5/376.0 MB 1.1 MB/s eta 0:03:04\n",
      "   ------------------ --------------------- 172.8/376.0 MB 1.1 MB/s eta 0:03:05\n",
      "   ------------------ --------------------- 172.8/376.0 MB 1.1 MB/s eta 0:03:05\n",
      "   ------------------ --------------------- 173.0/376.0 MB 1.1 MB/s eta 0:03:06\n",
      "   ------------------ --------------------- 173.0/376.0 MB 1.1 MB/s eta 0:03:06\n",
      "   ------------------ --------------------- 173.3/376.0 MB 1.1 MB/s eta 0:03:07\n",
      "   ------------------ --------------------- 173.3/376.0 MB 1.1 MB/s eta 0:03:07\n",
      "   ------------------ --------------------- 173.5/376.0 MB 1.1 MB/s eta 0:03:09\n",
      "   ------------------ --------------------- 173.8/376.0 MB 1.1 MB/s eta 0:03:09\n",
      "   ------------------ --------------------- 174.1/376.0 MB 1.1 MB/s eta 0:03:09\n",
      "   ------------------ --------------------- 174.3/376.0 MB 1.1 MB/s eta 0:03:09\n",
      "   ------------------ --------------------- 174.3/376.0 MB 1.1 MB/s eta 0:03:09\n",
      "   ------------------ --------------------- 174.6/376.0 MB 1.1 MB/s eta 0:03:10\n",
      "   ------------------ --------------------- 174.6/376.0 MB 1.1 MB/s eta 0:03:10\n",
      "   ------------------ --------------------- 174.9/376.0 MB 1.1 MB/s eta 0:03:12\n",
      "   ------------------ --------------------- 174.9/376.0 MB 1.1 MB/s eta 0:03:12\n",
      "   ------------------ --------------------- 175.1/376.0 MB 1.0 MB/s eta 0:03:15\n",
      "   ------------------ --------------------- 175.4/376.0 MB 1.0 MB/s eta 0:03:15\n",
      "   ------------------ --------------------- 175.4/376.0 MB 1.0 MB/s eta 0:03:15\n",
      "   ------------------ --------------------- 175.6/376.0 MB 1.0 MB/s eta 0:03:17\n",
      "   ------------------ --------------------- 175.9/376.0 MB 1.0 MB/s eta 0:03:19\n",
      "   ------------------ --------------------- 176.2/376.0 MB 1.0 MB/s eta 0:03:19\n",
      "   ----------------- -------------------- 176.4/376.0 MB 999.3 kB/s eta 0:03:20\n",
      "   ----------------- -------------------- 176.4/376.0 MB 999.3 kB/s eta 0:03:20\n",
      "   ----------------- -------------------- 176.7/376.0 MB 988.4 kB/s eta 0:03:22\n",
      "   ----------------- -------------------- 176.7/376.0 MB 988.4 kB/s eta 0:03:22\n",
      "   ----------------- -------------------- 176.9/376.0 MB 970.9 kB/s eta 0:03:25\n",
      "   ----------------- -------------------- 176.9/376.0 MB 970.9 kB/s eta 0:03:25\n",
      "   ----------------- -------------------- 177.2/376.0 MB 952.9 kB/s eta 0:03:29\n",
      "   ----------------- -------------------- 177.2/376.0 MB 952.9 kB/s eta 0:03:29\n",
      "   ----------------- -------------------- 177.5/376.0 MB 935.0 kB/s eta 0:03:33\n",
      "   ----------------- -------------------- 177.5/376.0 MB 935.0 kB/s eta 0:03:33\n",
      "   ----------------- -------------------- 177.7/376.0 MB 917.5 kB/s eta 0:03:37\n",
      "   ----------------- -------------------- 177.7/376.0 MB 917.5 kB/s eta 0:03:37\n",
      "   ----------------- -------------------- 178.0/376.0 MB 907.6 kB/s eta 0:03:39\n",
      "   ----------------- -------------------- 178.0/376.0 MB 907.6 kB/s eta 0:03:39\n",
      "   ------------------ ------------------- 178.3/376.0 MB 902.4 kB/s eta 0:03:40\n",
      "   ------------------ ------------------- 178.3/376.0 MB 902.4 kB/s eta 0:03:40\n",
      "   ------------------ ------------------- 178.5/376.0 MB 897.4 kB/s eta 0:03:41\n",
      "   ------------------ ------------------- 178.5/376.0 MB 897.4 kB/s eta 0:03:41\n",
      "   ------------------ ------------------- 178.8/376.0 MB 891.3 kB/s eta 0:03:42\n",
      "   ------------------ ------------------- 178.8/376.0 MB 891.3 kB/s eta 0:03:42\n",
      "   ------------------ ------------------- 179.0/376.0 MB 886.2 kB/s eta 0:03:43\n",
      "   ------------------ ------------------- 179.3/376.0 MB 883.9 kB/s eta 0:03:43\n",
      "   ------------------ ------------------- 179.3/376.0 MB 883.9 kB/s eta 0:03:43\n",
      "   ------------------ ------------------- 179.6/376.0 MB 875.2 kB/s eta 0:03:45\n",
      "   ------------------ ------------------- 179.6/376.0 MB 875.2 kB/s eta 0:03:45\n",
      "   ------------------ ------------------- 179.8/376.0 MB 866.9 kB/s eta 0:03:47\n",
      "   ------------------ ------------------- 179.8/376.0 MB 866.9 kB/s eta 0:03:47\n",
      "   ------------------ ------------------- 180.1/376.0 MB 864.9 kB/s eta 0:03:47\n",
      "   ------------------ ------------------- 180.4/376.0 MB 861.3 kB/s eta 0:03:48\n",
      "   ------------------ ------------------- 180.4/376.0 MB 861.3 kB/s eta 0:03:48\n",
      "   ------------------ ------------------- 180.9/376.0 MB 859.5 kB/s eta 0:03:47\n",
      "   ------------------ ------------------- 180.9/376.0 MB 859.5 kB/s eta 0:03:47\n",
      "   ------------------ ------------------- 181.1/376.0 MB 848.1 kB/s eta 0:03:50\n",
      "   ------------------ ------------------- 181.1/376.0 MB 848.1 kB/s eta 0:03:50\n",
      "   ------------------ ------------------- 181.4/376.0 MB 845.0 kB/s eta 0:03:51\n",
      "   ------------------ ------------------- 181.7/376.0 MB 843.7 kB/s eta 0:03:51\n",
      "   ------------------ ------------------- 181.7/376.0 MB 843.7 kB/s eta 0:03:51\n",
      "   ------------------ ------------------- 181.9/376.0 MB 832.7 kB/s eta 0:03:54\n",
      "   ------------------ ------------------- 181.9/376.0 MB 832.7 kB/s eta 0:03:54\n",
      "   ------------------ ------------------- 182.2/376.0 MB 823.1 kB/s eta 0:03:56\n",
      "   ------------------ ------------------- 182.5/376.0 MB 821.4 kB/s eta 0:03:56\n",
      "   ------------------ ------------------- 182.7/376.0 MB 815.6 kB/s eta 0:03:57\n",
      "   ------------------ ------------------- 183.0/376.0 MB 813.5 kB/s eta 0:03:58\n",
      "   ------------------ ------------------- 183.0/376.0 MB 813.5 kB/s eta 0:03:58\n",
      "   ------------------ ------------------- 183.2/376.0 MB 796.4 kB/s eta 0:04:02\n",
      "   ------------------ ------------------- 183.5/376.0 MB 790.1 kB/s eta 0:04:04\n",
      "   ------------------ ------------------- 183.8/376.0 MB 786.4 kB/s eta 0:04:05\n",
      "   ------------------ ------------------- 183.8/376.0 MB 786.4 kB/s eta 0:04:05\n",
      "   ------------------ ------------------- 184.0/376.0 MB 783.4 kB/s eta 0:04:06\n",
      "   ------------------ ------------------- 184.3/376.0 MB 782.6 kB/s eta 0:04:05\n",
      "   ------------------ ------------------- 184.5/376.0 MB 783.0 kB/s eta 0:04:05\n",
      "   ------------------ ------------------- 184.8/376.0 MB 782.6 kB/s eta 0:04:05\n",
      "   ------------------ ------------------- 184.8/376.0 MB 782.6 kB/s eta 0:04:05\n",
      "   ------------------ ------------------- 185.1/376.0 MB 780.1 kB/s eta 0:04:05\n",
      "   ------------------ ------------------- 185.3/376.0 MB 777.7 kB/s eta 0:04:06\n",
      "   ------------------ ------------------- 185.6/376.0 MB 769.3 kB/s eta 0:04:08\n",
      "   ------------------ ------------------- 185.9/376.0 MB 760.6 kB/s eta 0:04:10\n",
      "   ------------------ ------------------- 186.1/376.0 MB 751.9 kB/s eta 0:04:13\n",
      "   ------------------ ------------------- 186.4/376.0 MB 736.3 kB/s eta 0:04:18\n",
      "   ------------------ ------------------- 186.6/376.0 MB 726.4 kB/s eta 0:04:21\n",
      "   ------------------ ------------------- 186.9/376.0 MB 727.2 kB/s eta 0:04:20\n",
      "   ------------------ ------------------- 187.2/376.0 MB 720.3 kB/s eta 0:04:23\n",
      "   ------------------ ------------------- 187.4/376.0 MB 719.1 kB/s eta 0:04:23\n",
      "   ------------------ ------------------- 187.7/376.0 MB 718.8 kB/s eta 0:04:22\n",
      "   ------------------ ------------------- 188.0/376.0 MB 719.9 kB/s eta 0:04:22\n",
      "   ------------------ ------------------- 188.0/376.0 MB 719.9 kB/s eta 0:04:22\n",
      "   ------------------- ------------------ 188.2/376.0 MB 715.2 kB/s eta 0:04:23\n",
      "   ------------------- ------------------ 188.5/376.0 MB 717.6 kB/s eta 0:04:22\n",
      "   ------------------- ------------------ 188.7/376.0 MB 726.7 kB/s eta 0:04:18\n",
      "   ------------------- ------------------ 189.0/376.0 MB 729.4 kB/s eta 0:04:17\n",
      "   ------------------- ------------------ 189.0/376.0 MB 729.4 kB/s eta 0:04:17\n",
      "   ------------------- ------------------ 189.3/376.0 MB 766.8 kB/s eta 0:04:04\n",
      "   ------------------- ------------------ 189.5/376.0 MB 769.7 kB/s eta 0:04:03\n",
      "   ------------------- ------------------ 189.8/376.0 MB 772.9 kB/s eta 0:04:01\n",
      "   ------------------- ------------------ 190.1/376.0 MB 776.6 kB/s eta 0:04:00\n",
      "   ------------------- ------------------ 190.3/376.0 MB 780.1 kB/s eta 0:03:58\n",
      "   ------------------- ------------------ 190.6/376.0 MB 783.2 kB/s eta 0:03:57\n",
      "   ------------------- ------------------ 190.8/376.0 MB 786.7 kB/s eta 0:03:56\n",
      "   ------------------- ------------------ 191.1/376.0 MB 789.7 kB/s eta 0:03:55\n",
      "   ------------------- ------------------ 191.4/376.0 MB 814.0 kB/s eta 0:03:47\n",
      "   ------------------- ------------------ 191.4/376.0 MB 814.0 kB/s eta 0:03:47\n",
      "   ------------------- ------------------ 191.6/376.0 MB 812.1 kB/s eta 0:03:47\n",
      "   ------------------- ------------------ 191.9/376.0 MB 814.1 kB/s eta 0:03:47\n",
      "   ------------------- ------------------ 192.2/376.0 MB 816.5 kB/s eta 0:03:46\n",
      "   ------------------- ------------------ 192.4/376.0 MB 830.4 kB/s eta 0:03:42\n",
      "   ------------------- ------------------ 192.7/376.0 MB 833.1 kB/s eta 0:03:41\n",
      "   ------------------- ------------------ 192.9/376.0 MB 836.2 kB/s eta 0:03:39\n",
      "   ------------------- ------------------ 193.2/376.0 MB 838.9 kB/s eta 0:03:38\n",
      "   ------------------- ------------------ 193.5/376.0 MB 857.6 kB/s eta 0:03:33\n",
      "   ------------------- ------------------ 193.7/376.0 MB 860.6 kB/s eta 0:03:32\n",
      "   ------------------- ------------------ 194.0/376.0 MB 863.5 kB/s eta 0:03:31\n",
      "   ------------------- ------------------ 194.2/376.0 MB 866.4 kB/s eta 0:03:30\n",
      "   ------------------- ------------------ 194.5/376.0 MB 886.3 kB/s eta 0:03:25\n",
      "   ------------------- ------------------ 194.8/376.0 MB 888.6 kB/s eta 0:03:24\n",
      "   ------------------- ------------------ 195.0/376.0 MB 891.9 kB/s eta 0:03:23\n",
      "   ------------------- ------------------ 195.3/376.0 MB 895.0 kB/s eta 0:03:22\n",
      "   ------------------- ------------------ 195.6/376.0 MB 913.1 kB/s eta 0:03:18\n",
      "   ------------------- ------------------ 196.1/376.0 MB 918.3 kB/s eta 0:03:16\n",
      "   ------------------- ------------------ 196.3/376.0 MB 921.3 kB/s eta 0:03:15\n",
      "   ------------------- ------------------ 196.6/376.0 MB 933.1 kB/s eta 0:03:13\n",
      "   ------------------- ------------------ 196.9/376.0 MB 936.0 kB/s eta 0:03:12\n",
      "   ------------------- ------------------ 197.1/376.0 MB 938.9 kB/s eta 0:03:11\n",
      "   ------------------- ------------------ 197.4/376.0 MB 948.3 kB/s eta 0:03:09\n",
      "   ------------------- ------------------ 197.7/376.0 MB 951.1 kB/s eta 0:03:08\n",
      "   -------------------- ----------------- 197.9/376.0 MB 953.0 kB/s eta 0:03:07\n",
      "   -------------------- ----------------- 198.2/376.0 MB 956.4 kB/s eta 0:03:06\n",
      "   -------------------- ----------------- 198.4/376.0 MB 962.5 kB/s eta 0:03:05\n",
      "   -------------------- ----------------- 198.7/376.0 MB 964.2 kB/s eta 0:03:04\n",
      "   -------------------- ----------------- 199.0/376.0 MB 961.2 kB/s eta 0:03:05\n",
      "   -------------------- ----------------- 199.2/376.0 MB 962.2 kB/s eta 0:03:04\n",
      "   -------------------- ----------------- 199.5/376.0 MB 963.7 kB/s eta 0:03:04\n",
      "   -------------------- ----------------- 199.5/376.0 MB 963.7 kB/s eta 0:03:04\n",
      "   -------------------- ----------------- 199.8/376.0 MB 955.9 kB/s eta 0:03:05\n",
      "   -------------------- ----------------- 200.0/376.0 MB 956.4 kB/s eta 0:03:04\n",
      "   -------------------- ----------------- 200.3/376.0 MB 954.9 kB/s eta 0:03:04\n",
      "   -------------------- ----------------- 200.5/376.0 MB 953.5 kB/s eta 0:03:04\n",
      "   -------------------- ----------------- 200.8/376.0 MB 949.2 kB/s eta 0:03:05\n",
      "   -------------------- ----------------- 201.1/376.0 MB 951.6 kB/s eta 0:03:04\n",
      "   -------------------- ----------------- 201.1/376.0 MB 951.6 kB/s eta 0:03:04\n",
      "   -------------------- ----------------- 201.3/376.0 MB 952.5 kB/s eta 0:03:04\n",
      "   -------------------- ----------------- 201.6/376.0 MB 956.4 kB/s eta 0:03:03\n",
      "   -------------------- ----------------- 201.9/376.0 MB 963.5 kB/s eta 0:03:01\n",
      "   -------------------- ----------------- 202.1/376.0 MB 964.7 kB/s eta 0:03:01\n",
      "   -------------------- ----------------- 202.4/376.0 MB 967.7 kB/s eta 0:03:00\n",
      "   -------------------- ----------------- 202.6/376.0 MB 969.9 kB/s eta 0:02:59\n",
      "   -------------------- ----------------- 202.9/376.0 MB 970.4 kB/s eta 0:02:59\n",
      "   -------------------- ----------------- 203.2/376.0 MB 970.5 kB/s eta 0:02:59\n",
      "   -------------------- ----------------- 203.4/376.0 MB 970.3 kB/s eta 0:02:58\n",
      "   -------------------- ----------------- 203.7/376.0 MB 972.5 kB/s eta 0:02:58\n",
      "   -------------------- ----------------- 203.9/376.0 MB 979.6 kB/s eta 0:02:56\n",
      "   -------------------- ----------------- 204.2/376.0 MB 981.7 kB/s eta 0:02:55\n",
      "   -------------------- ----------------- 204.5/376.0 MB 990.5 kB/s eta 0:02:54\n",
      "   -------------------- ----------------- 204.7/376.0 MB 992.6 kB/s eta 0:02:53\n",
      "   -------------------- ----------------- 205.0/376.0 MB 995.2 kB/s eta 0:02:52\n",
      "   -------------------- ----------------- 205.3/376.0 MB 998.2 kB/s eta 0:02:52\n",
      "   --------------------- ------------------ 205.5/376.0 MB 1.0 MB/s eta 0:02:50\n",
      "   --------------------- ------------------ 206.0/376.0 MB 1.0 MB/s eta 0:02:49\n",
      "   --------------------- ------------------ 206.3/376.0 MB 1.0 MB/s eta 0:02:48\n",
      "   --------------------- ------------------ 206.6/376.0 MB 1.0 MB/s eta 0:02:47\n",
      "   ---------------------- ----------------- 206.8/376.0 MB 1.0 MB/s eta 0:02:47\n",
      "   ---------------------- ----------------- 207.4/376.0 MB 1.0 MB/s eta 0:02:45\n",
      "   ---------------------- ----------------- 207.6/376.0 MB 1.0 MB/s eta 0:02:43\n",
      "   ---------------------- ----------------- 207.9/376.0 MB 1.0 MB/s eta 0:02:42\n",
      "   ---------------------- ----------------- 208.4/376.0 MB 1.1 MB/s eta 0:02:39\n",
      "   ---------------------- ----------------- 208.7/376.0 MB 1.1 MB/s eta 0:02:39\n",
      "   ---------------------- ----------------- 208.9/376.0 MB 1.1 MB/s eta 0:02:38\n",
      "   ---------------------- ----------------- 209.5/376.0 MB 1.1 MB/s eta 0:02:35\n",
      "   ---------------------- ----------------- 209.7/376.0 MB 1.1 MB/s eta 0:02:35\n",
      "   ---------------------- ----------------- 210.2/376.0 MB 1.1 MB/s eta 0:02:32\n",
      "   ---------------------- ----------------- 210.5/376.0 MB 1.1 MB/s eta 0:02:32\n",
      "   ---------------------- ----------------- 211.0/376.0 MB 1.1 MB/s eta 0:02:29\n",
      "   ---------------------- ----------------- 211.6/376.0 MB 1.1 MB/s eta 0:02:27\n",
      "   ---------------------- ----------------- 211.8/376.0 MB 1.1 MB/s eta 0:02:26\n",
      "   ---------------------- ----------------- 212.3/376.0 MB 1.1 MB/s eta 0:02:24\n",
      "   ---------------------- ----------------- 212.9/376.0 MB 1.2 MB/s eta 0:02:22\n",
      "   ---------------------- ----------------- 213.4/376.0 MB 1.2 MB/s eta 0:02:20\n",
      "   ---------------------- ----------------- 214.2/376.0 MB 1.2 MB/s eta 0:02:17\n",
      "   ---------------------- ----------------- 214.7/376.0 MB 1.2 MB/s eta 0:02:15\n",
      "   ---------------------- ----------------- 215.5/376.0 MB 1.2 MB/s eta 0:02:12\n",
      "   ----------------------- ---------------- 216.3/376.0 MB 1.2 MB/s eta 0:02:10\n",
      "   ----------------------- ---------------- 217.1/376.0 MB 1.3 MB/s eta 0:02:06\n",
      "   ----------------------- ---------------- 217.8/376.0 MB 1.3 MB/s eta 0:02:04\n",
      "   ----------------------- ---------------- 218.9/376.0 MB 1.3 MB/s eta 0:02:00\n",
      "   ----------------------- ---------------- 219.7/376.0 MB 1.3 MB/s eta 0:01:58\n",
      "   ----------------------- ---------------- 220.7/376.0 MB 1.4 MB/s eta 0:01:54\n",
      "   ----------------------- ---------------- 221.8/376.0 MB 1.4 MB/s eta 0:01:51\n",
      "   ----------------------- ---------------- 222.8/376.0 MB 1.4 MB/s eta 0:01:48\n",
      "   ----------------------- ---------------- 223.9/376.0 MB 1.5 MB/s eta 0:01:45\n",
      "   ----------------------- ---------------- 225.2/376.0 MB 1.5 MB/s eta 0:01:42\n",
      "   ------------------------ --------------- 226.2/376.0 MB 1.5 MB/s eta 0:01:39\n",
      "   ------------------------ --------------- 227.5/376.0 MB 1.6 MB/s eta 0:01:36\n",
      "   ------------------------ --------------- 228.6/376.0 MB 1.6 MB/s eta 0:01:34\n",
      "   ------------------------ --------------- 229.4/376.0 MB 1.6 MB/s eta 0:01:32\n",
      "   ------------------------ --------------- 230.7/376.0 MB 1.6 MB/s eta 0:01:29\n",
      "   ------------------------ --------------- 231.7/376.0 MB 1.7 MB/s eta 0:01:26\n",
      "   ------------------------ --------------- 232.8/376.0 MB 1.7 MB/s eta 0:01:25\n",
      "   ------------------------ --------------- 233.8/376.0 MB 1.7 MB/s eta 0:01:22\n",
      "   ------------------------- -------------- 235.1/376.0 MB 1.8 MB/s eta 0:01:20\n",
      "   ------------------------- -------------- 236.5/376.0 MB 1.8 MB/s eta 0:01:18\n",
      "   ------------------------- -------------- 237.5/376.0 MB 1.8 MB/s eta 0:01:16\n",
      "   ------------------------- -------------- 238.8/376.0 MB 1.9 MB/s eta 0:01:14\n",
      "   ------------------------- -------------- 240.1/376.0 MB 1.9 MB/s eta 0:01:11\n",
      "   ------------------------- -------------- 241.4/376.0 MB 1.9 MB/s eta 0:01:10\n",
      "   ------------------------- -------------- 242.5/376.0 MB 2.0 MB/s eta 0:01:08\n",
      "   ------------------------- -------------- 243.8/376.0 MB 2.0 MB/s eta 0:01:06\n",
      "   -------------------------- ------------- 245.1/376.0 MB 2.0 MB/s eta 0:01:04\n",
      "   -------------------------- ------------- 246.4/376.0 MB 2.1 MB/s eta 0:01:03\n",
      "   -------------------------- ------------- 247.7/376.0 MB 2.1 MB/s eta 0:01:01\n",
      "   -------------------------- ------------- 249.0/376.0 MB 2.2 MB/s eta 0:00:59\n",
      "   -------------------------- ------------- 250.3/376.0 MB 2.2 MB/s eta 0:00:58\n",
      "   -------------------------- ------------- 251.7/376.0 MB 2.2 MB/s eta 0:00:56\n",
      "   -------------------------- ------------- 253.0/376.0 MB 2.3 MB/s eta 0:00:55\n",
      "   --------------------------- ------------ 254.3/376.0 MB 2.3 MB/s eta 0:00:53\n",
      "   --------------------------- ------------ 255.6/376.0 MB 2.3 MB/s eta 0:00:52\n",
      "   --------------------------- ------------ 256.6/376.0 MB 2.4 MB/s eta 0:00:51\n",
      "   --------------------------- ------------ 257.4/376.0 MB 2.4 MB/s eta 0:00:50\n",
      "   --------------------------- ------------ 258.5/376.0 MB 2.4 MB/s eta 0:00:49\n",
      "   --------------------------- ------------ 259.5/376.0 MB 2.4 MB/s eta 0:00:48\n",
      "   --------------------------- ------------ 260.6/376.0 MB 2.5 MB/s eta 0:00:47\n",
      "   --------------------------- ------------ 261.9/376.0 MB 2.5 MB/s eta 0:00:46\n",
      "   --------------------------- ------------ 262.9/376.0 MB 2.5 MB/s eta 0:00:45\n",
      "   ---------------------------- ----------- 264.0/376.0 MB 2.6 MB/s eta 0:00:44\n",
      "   ---------------------------- ----------- 265.0/376.0 MB 2.6 MB/s eta 0:00:43\n",
      "   ---------------------------- ----------- 266.1/376.0 MB 2.6 MB/s eta 0:00:42\n",
      "   ---------------------------- ----------- 267.4/376.0 MB 2.6 MB/s eta 0:00:41\n",
      "   ---------------------------- ----------- 268.4/376.0 MB 2.7 MB/s eta 0:00:41\n",
      "   ---------------------------- ----------- 269.5/376.0 MB 2.7 MB/s eta 0:00:40\n",
      "   ---------------------------- ----------- 270.5/376.0 MB 2.7 MB/s eta 0:00:39\n",
      "   ---------------------------- ----------- 271.8/376.0 MB 2.8 MB/s eta 0:00:38\n",
      "   ----------------------------- ---------- 272.9/376.0 MB 2.8 MB/s eta 0:00:37\n",
      "   ----------------------------- ---------- 273.9/376.0 MB 2.8 MB/s eta 0:00:37\n",
      "   ----------------------------- ---------- 275.0/376.0 MB 2.9 MB/s eta 0:00:36\n",
      "   ----------------------------- ---------- 276.3/376.0 MB 2.9 MB/s eta 0:00:35\n",
      "   ----------------------------- ---------- 277.3/376.0 MB 2.9 MB/s eta 0:00:34\n",
      "   ----------------------------- ---------- 278.4/376.0 MB 2.9 MB/s eta 0:00:34\n",
      "   ----------------------------- ---------- 279.7/376.0 MB 3.0 MB/s eta 0:00:33\n",
      "   ----------------------------- ---------- 280.8/376.0 MB 3.0 MB/s eta 0:00:32\n",
      "   ----------------------------- ---------- 281.8/376.0 MB 3.0 MB/s eta 0:00:32\n",
      "   ------------------------------ --------- 283.1/376.0 MB 3.1 MB/s eta 0:00:31\n",
      "   ------------------------------ --------- 284.2/376.0 MB 3.1 MB/s eta 0:00:30\n",
      "   ------------------------------ --------- 285.2/376.0 MB 3.1 MB/s eta 0:00:30\n",
      "   ------------------------------ --------- 286.5/376.0 MB 3.2 MB/s eta 0:00:29\n",
      "   ------------------------------ --------- 287.6/376.0 MB 3.2 MB/s eta 0:00:28\n",
      "   ------------------------------ --------- 288.6/376.0 MB 3.2 MB/s eta 0:00:28\n",
      "   ------------------------------ --------- 289.7/376.0 MB 3.2 MB/s eta 0:00:27\n",
      "   ------------------------------ --------- 291.0/376.0 MB 3.3 MB/s eta 0:00:26\n",
      "   ------------------------------- -------- 292.0/376.0 MB 3.3 MB/s eta 0:00:26\n",
      "   ------------------------------- -------- 293.1/376.0 MB 3.3 MB/s eta 0:00:25\n",
      "   ------------------------------- -------- 294.4/376.0 MB 3.4 MB/s eta 0:00:25\n",
      "   ------------------------------- -------- 295.7/376.0 MB 3.4 MB/s eta 0:00:24\n",
      "   ------------------------------- -------- 296.7/376.0 MB 3.4 MB/s eta 0:00:24\n",
      "   ------------------------------- -------- 297.8/376.0 MB 3.4 MB/s eta 0:00:23\n",
      "   ------------------------------- -------- 299.1/376.0 MB 3.5 MB/s eta 0:00:23\n",
      "   ------------------------------- -------- 300.2/376.0 MB 3.5 MB/s eta 0:00:22\n",
      "   -------------------------------- ------- 301.5/376.0 MB 3.5 MB/s eta 0:00:22\n",
      "   -------------------------------- ------- 302.5/376.0 MB 3.6 MB/s eta 0:00:21\n",
      "   -------------------------------- ------- 303.8/376.0 MB 3.6 MB/s eta 0:00:21\n",
      "   -------------------------------- ------- 304.9/376.0 MB 3.6 MB/s eta 0:00:20\n",
      "   -------------------------------- ------- 306.2/376.0 MB 3.7 MB/s eta 0:00:20\n",
      "   -------------------------------- ------- 307.5/376.0 MB 3.7 MB/s eta 0:00:19\n",
      "   -------------------------------- ------- 308.8/376.0 MB 3.7 MB/s eta 0:00:19\n",
      "   -------------------------------- ------- 310.1/376.0 MB 3.8 MB/s eta 0:00:18\n",
      "   --------------------------------- ------ 311.4/376.0 MB 3.8 MB/s eta 0:00:18\n",
      "   --------------------------------- ------ 313.0/376.0 MB 3.8 MB/s eta 0:00:17\n",
      "   --------------------------------- ------ 314.3/376.0 MB 3.9 MB/s eta 0:00:16\n",
      "   --------------------------------- ------ 315.6/376.0 MB 3.9 MB/s eta 0:00:16\n",
      "   --------------------------------- ------ 317.2/376.0 MB 4.0 MB/s eta 0:00:15\n",
      "   --------------------------------- ------ 318.5/376.0 MB 4.0 MB/s eta 0:00:15\n",
      "   ---------------------------------- ----- 319.8/376.0 MB 4.0 MB/s eta 0:00:14\n",
      "   ---------------------------------- ----- 321.1/376.0 MB 4.1 MB/s eta 0:00:14\n",
      "   ---------------------------------- ----- 323.0/376.0 MB 4.1 MB/s eta 0:00:13\n",
      "   ---------------------------------- ----- 324.5/376.0 MB 4.2 MB/s eta 0:00:13\n",
      "   ---------------------------------- ----- 325.8/376.0 MB 4.2 MB/s eta 0:00:12\n",
      "   ---------------------------------- ----- 327.4/376.0 MB 4.3 MB/s eta 0:00:12\n",
      "   ---------------------------------- ----- 328.2/376.0 MB 4.3 MB/s eta 0:00:12\n",
      "   ----------------------------------- ---- 329.8/376.0 MB 4.3 MB/s eta 0:00:11\n",
      "   ----------------------------------- ---- 331.6/376.0 MB 4.4 MB/s eta 0:00:11\n",
      "   ----------------------------------- ---- 333.2/376.0 MB 4.4 MB/s eta 0:00:10\n",
      "   ----------------------------------- ---- 335.3/376.0 MB 4.5 MB/s eta 0:00:10\n",
      "   ----------------------------------- ---- 336.9/376.0 MB 4.5 MB/s eta 0:00:09\n",
      "   ------------------------------------ --- 338.7/376.0 MB 4.6 MB/s eta 0:00:09\n",
      "   ------------------------------------ --- 340.5/376.0 MB 4.6 MB/s eta 0:00:08\n",
      "   ------------------------------------ --- 342.6/376.0 MB 4.7 MB/s eta 0:00:08\n",
      "   ------------------------------------ --- 344.5/376.0 MB 4.7 MB/s eta 0:00:07\n",
      "   ------------------------------------ --- 346.6/376.0 MB 4.8 MB/s eta 0:00:07\n",
      "   ------------------------------------- -- 348.4/376.0 MB 4.9 MB/s eta 0:00:06\n",
      "   ------------------------------------- -- 350.7/376.0 MB 4.9 MB/s eta 0:00:06\n",
      "   ------------------------------------- -- 352.6/376.0 MB 5.0 MB/s eta 0:00:05\n",
      "   ------------------------------------- -- 354.7/376.0 MB 5.0 MB/s eta 0:00:05\n",
      "   ------------------------------------- -- 355.2/376.0 MB 5.1 MB/s eta 0:00:05\n",
      "   -------------------------------------- - 358.4/376.0 MB 5.1 MB/s eta 0:00:04\n",
      "   -------------------------------------- - 359.9/376.0 MB 5.2 MB/s eta 0:00:04\n",
      "   -------------------------------------- - 361.5/376.0 MB 5.2 MB/s eta 0:00:03\n",
      "   -------------------------------------- - 362.8/376.0 MB 5.3 MB/s eta 0:00:03\n",
      "   -------------------------------------- - 364.4/376.0 MB 5.3 MB/s eta 0:00:03\n",
      "   -------------------------------------- - 366.2/376.0 MB 5.4 MB/s eta 0:00:02\n",
      "   ---------------------------------------  367.8/376.0 MB 5.4 MB/s eta 0:00:02\n",
      "   ---------------------------------------  369.1/376.0 MB 5.4 MB/s eta 0:00:02\n",
      "   ---------------------------------------  370.7/376.0 MB 5.5 MB/s eta 0:00:01\n",
      "   ---------------------------------------  372.2/376.0 MB 5.5 MB/s eta 0:00:01\n",
      "   ---------------------------------------  373.8/376.0 MB 5.6 MB/s eta 0:00:01\n",
      "   ---------------------------------------  375.4/376.0 MB 5.6 MB/s eta 0:00:01\n",
      "   ---------------------------------------  375.9/376.0 MB 5.6 MB/s eta 0:00:01\n",
      "   ---------------------------------------  375.9/376.0 MB 5.6 MB/s eta 0:00:01\n",
      "   ---------------------------------------  375.9/376.0 MB 5.6 MB/s eta 0:00:01\n",
      "   ---------------------------------------  375.9/376.0 MB 5.6 MB/s eta 0:00:01\n",
      "   ---------------------------------------  375.9/376.0 MB 5.6 MB/s eta 0:00:01\n",
      "   ---------------------------------------- 376.0/376.0 MB 5.5 MB/s eta 0:00:00\n",
      "Downloading numpy-2.1.3-cp312-cp312-win_amd64.whl (12.6 MB)\n",
      "   ---------------------------------------- 0.0/12.6 MB ? eta -:--:--\n",
      "   ---- ----------------------------------- 1.3/12.6 MB 7.5 MB/s eta 0:00:02\n",
      "   ---------- ----------------------------- 3.1/12.6 MB 7.4 MB/s eta 0:00:02\n",
      "   --------------- ------------------------ 5.0/12.6 MB 7.7 MB/s eta 0:00:01\n",
      "   -------------------- ------------------- 6.6/12.6 MB 7.9 MB/s eta 0:00:01\n",
      "   -------------------------- ------------- 8.4/12.6 MB 7.9 MB/s eta 0:00:01\n",
      "   -------------------------------- ------- 10.2/12.6 MB 8.1 MB/s eta 0:00:01\n",
      "   -------------------------------------- - 12.1/12.6 MB 8.1 MB/s eta 0:00:01\n",
      "   ---------------------------------------- 12.6/12.6 MB 8.0 MB/s eta 0:00:00\n",
      "Using cached protobuf-5.29.4-cp310-abi3-win_amd64.whl (434 kB)\n",
      "Downloading absl_py-2.2.2-py3-none-any.whl (135 kB)\n",
      "Using cached astunparse-1.6.3-py2.py3-none-any.whl (12 kB)\n",
      "Using cached flatbuffers-25.2.10-py2.py3-none-any.whl (30 kB)\n",
      "Using cached gast-0.6.0-py3-none-any.whl (21 kB)\n",
      "Using cached google_pasta-0.2.0-py3-none-any.whl (57 kB)\n",
      "Downloading grpcio-1.71.0-cp312-cp312-win_amd64.whl (4.3 MB)\n",
      "   ---------------------------------------- 0.0/4.3 MB ? eta -:--:--\n",
      "   -------------- ------------------------- 1.6/4.3 MB 8.4 MB/s eta 0:00:01\n",
      "   ------------------------ --------------- 2.6/4.3 MB 6.3 MB/s eta 0:00:01\n",
      "   ---------------------------------------  4.2/4.3 MB 7.0 MB/s eta 0:00:01\n",
      "   ---------------------------------------- 4.3/4.3 MB 6.6 MB/s eta 0:00:00\n",
      "Downloading h5py-3.13.0-cp312-cp312-win_amd64.whl (3.0 MB)\n",
      "   ---------------------------------------- 0.0/3.0 MB ? eta -:--:--\n",
      "   --------------------- ------------------ 1.6/3.0 MB 7.0 MB/s eta 0:00:01\n",
      "   ---------------------------------------- 3.0/3.0 MB 7.2 MB/s eta 0:00:00\n",
      "Downloading keras-3.9.2-py3-none-any.whl (1.3 MB)\n",
      "   ---------------------------------------- 0.0/1.3 MB ? eta -:--:--\n",
      "   ---------------------------------------- 1.3/1.3 MB 8.6 MB/s eta 0:00:00\n",
      "Using cached libclang-18.1.1-py2.py3-none-win_amd64.whl (26.4 MB)\n",
      "Downloading ml_dtypes-0.5.1-cp312-cp312-win_amd64.whl (210 kB)\n",
      "Using cached opt_einsum-3.4.0-py3-none-any.whl (71 kB)\n",
      "Downloading requests-2.32.3-py3-none-any.whl (64 kB)\n",
      "Downloading six-1.17.0-py2.py3-none-any.whl (11 kB)\n",
      "Downloading tensorboard-2.19.0-py3-none-any.whl (5.5 MB)\n",
      "   ---------------------------------------- 0.0/5.5 MB ? eta -:--:--\n",
      "   ----------- ---------------------------- 1.6/5.5 MB 8.4 MB/s eta 0:00:01\n",
      "   ------------------------ --------------- 3.4/5.5 MB 8.4 MB/s eta 0:00:01\n",
      "   ------------------------------------ --- 5.0/5.5 MB 8.2 MB/s eta 0:00:01\n",
      "   ---------------------------------------- 5.5/5.5 MB 7.6 MB/s eta 0:00:00\n",
      "Downloading setuptools-78.1.0-py3-none-any.whl (1.3 MB)\n",
      "   ---------------------------------------- 0.0/1.3 MB ? eta -:--:--\n",
      "   ---------------------------------------- 1.3/1.3 MB 7.0 MB/s eta 0:00:00\n",
      "Downloading termcolor-3.0.1-py3-none-any.whl (7.2 kB)\n",
      "Downloading typing_extensions-4.13.1-py3-none-any.whl (45 kB)\n",
      "Downloading wrapt-1.17.2-cp312-cp312-win_amd64.whl (38 kB)\n",
      "Downloading packaging-24.2-py3-none-any.whl (65 kB)\n",
      "Downloading certifi-2025.1.31-py3-none-any.whl (166 kB)\n",
      "Downloading charset_normalizer-3.4.1-cp312-cp312-win_amd64.whl (102 kB)\n",
      "Downloading idna-3.10-py3-none-any.whl (70 kB)\n",
      "Downloading Markdown-3.7-py3-none-any.whl (106 kB)\n",
      "Using cached tensorboard_data_server-0.7.2-py3-none-any.whl (2.4 kB)\n",
      "Downloading urllib3-2.3.0-py3-none-any.whl (128 kB)\n",
      "Downloading werkzeug-3.1.3-py3-none-any.whl (224 kB)\n",
      "Downloading wheel-0.45.1-py3-none-any.whl (72 kB)\n",
      "Using cached namex-0.0.8-py3-none-any.whl (5.8 kB)\n",
      "Using cached optree-0.14.1-cp312-cp312-win_amd64.whl (306 kB)\n",
      "Downloading rich-14.0.0-py3-none-any.whl (243 kB)\n",
      "Downloading markdown_it_py-3.0.0-py3-none-any.whl (87 kB)\n",
      "Downloading MarkupSafe-3.0.2-cp312-cp312-win_amd64.whl (15 kB)\n",
      "Downloading pygments-2.19.1-py3-none-any.whl (1.2 MB)\n",
      "   ---------------------------------------- 0.0/1.2 MB ? eta -:--:--\n",
      "   ---------------------------------------- 1.2/1.2 MB 6.9 MB/s eta 0:00:00\n",
      "Downloading mdurl-0.1.2-py3-none-any.whl (10.0 kB)\n",
      "Installing collected packages: namex, libclang, flatbuffers, wrapt, wheel, urllib3, typing-extensions, termcolor, tensorboard-data-server, six, setuptools, pygments, protobuf, packaging, opt-einsum, numpy, mdurl, MarkupSafe, markdown, idna, grpcio, gast, charset-normalizer, certifi, absl-py, werkzeug, requests, optree, ml-dtypes, markdown-it-py, h5py, google-pasta, astunparse, tensorboard, rich, keras, tensorflow, tf-keras, tensorflow-hub\n",
      "Successfully installed MarkupSafe-3.0.2 absl-py-2.2.2 astunparse-1.6.3 certifi-2025.1.31 charset-normalizer-3.4.1 flatbuffers-25.2.10 gast-0.6.0 google-pasta-0.2.0 grpcio-1.71.0 h5py-3.13.0 idna-3.10 keras-3.9.2 libclang-18.1.1 markdown-3.7 markdown-it-py-3.0.0 mdurl-0.1.2 ml-dtypes-0.5.1 namex-0.0.8 numpy-2.1.3 opt-einsum-3.4.0 optree-0.14.1 packaging-24.2 protobuf-5.29.4 pygments-2.19.1 requests-2.32.3 rich-14.0.0 setuptools-78.1.0 six-1.17.0 tensorboard-2.19.0 tensorboard-data-server-0.7.2 tensorflow-2.19.0 tensorflow-hub-0.16.1 termcolor-3.0.1 tf-keras-2.19.0 typing-extensions-4.13.1 urllib3-2.3.0 werkzeug-3.1.3 wheel-0.45.1 wrapt-1.17.2\n"
     ]
    },
    {
     "name": "stderr",
     "output_type": "stream",
     "text": [
      "ERROR: pip's dependency resolver does not currently take into account all the packages that are installed. This behaviour is the source of the following dependency conflicts.\n",
      "contourpy 1.2.0 requires numpy<2.0,>=1.20, but you have numpy 2.1.3 which is incompatible.\n",
      "mdit-py-plugins 0.3.0 requires markdown-it-py<3.0.0,>=1.0.0, but you have markdown-it-py 3.0.0 which is incompatible.\n",
      "numba 0.59.1 requires numpy<1.27,>=1.22, but you have numpy 2.1.3 which is incompatible.\n",
      "pywavelets 1.5.0 requires numpy<2.0,>=1.22.4, but you have numpy 2.1.3 which is incompatible.\n",
      "streamlit 1.32.0 requires numpy<2,>=1.19.3, but you have numpy 2.1.3 which is incompatible.\n",
      "streamlit 1.32.0 requires packaging<24,>=16.8, but you have packaging 24.2 which is incompatible.\n",
      "streamlit 1.32.0 requires protobuf<5,>=3.20, but you have protobuf 5.29.4 which is incompatible.\n",
      "streamlit 1.32.0 requires rich<14,>=10.14.0, but you have rich 14.0.0 which is incompatible.\n",
      "tensorboard-plugin-profile 2.19.0 requires protobuf<5.0.0dev,>=3.19.6, but you have protobuf 5.29.4 which is incompatible.\n",
      "tensorflow-intel 2.18.0 requires ml-dtypes<0.5.0,>=0.4.0, but you have ml-dtypes 0.5.1 which is incompatible.\n",
      "tensorflow-intel 2.18.0 requires numpy<2.1.0,>=1.26.0, but you have numpy 2.1.3 which is incompatible.\n",
      "tensorflow-intel 2.18.0 requires tensorboard<2.19,>=2.18, but you have tensorboard 2.19.0 which is incompatible.\n"
     ]
    }
   ],
   "source": [
    "pip install tensorflow-hub --target \"D:\\CONTENTS\\APPLICATIONS\\New Folder\"\n"
   ]
  },
  {
   "cell_type": "code",
   "execution_count": 36,
   "metadata": {
    "vscode": {
     "languageId": "powershell"
    }
   },
   "outputs": [
    {
     "name": "stdout",
     "output_type": "stream",
     "text": [
      "Collecting tensorflow-hub\n",
      "  Using cached tensorflow_hub-0.16.1-py2.py3-none-any.whl.metadata (1.3 kB)\n",
      "Collecting numpy>=1.12.0 (from tensorflow-hub)\n",
      "  Using cached numpy-2.2.4-cp312-cp312-win_amd64.whl.metadata (60 kB)\n",
      "Collecting protobuf>=3.19.6 (from tensorflow-hub)\n",
      "  Using cached protobuf-6.30.2-cp310-abi3-win_amd64.whl.metadata (593 bytes)\n",
      "Collecting tf-keras>=2.14.1 (from tensorflow-hub)\n",
      "  Using cached tf_keras-2.19.0-py3-none-any.whl.metadata (1.8 kB)\n",
      "Collecting tensorflow<2.20,>=2.19 (from tf-keras>=2.14.1->tensorflow-hub)\n",
      "  Using cached tensorflow-2.19.0-cp312-cp312-win_amd64.whl.metadata (4.1 kB)\n",
      "Collecting absl-py>=1.0.0 (from tensorflow<2.20,>=2.19->tf-keras>=2.14.1->tensorflow-hub)\n",
      "  Using cached absl_py-2.2.2-py3-none-any.whl.metadata (2.6 kB)\n",
      "Collecting astunparse>=1.6.0 (from tensorflow<2.20,>=2.19->tf-keras>=2.14.1->tensorflow-hub)\n",
      "  Using cached astunparse-1.6.3-py2.py3-none-any.whl.metadata (4.4 kB)\n",
      "Collecting flatbuffers>=24.3.25 (from tensorflow<2.20,>=2.19->tf-keras>=2.14.1->tensorflow-hub)\n",
      "  Using cached flatbuffers-25.2.10-py2.py3-none-any.whl.metadata (875 bytes)\n",
      "Collecting gast!=0.5.0,!=0.5.1,!=0.5.2,>=0.2.1 (from tensorflow<2.20,>=2.19->tf-keras>=2.14.1->tensorflow-hub)\n",
      "  Using cached gast-0.6.0-py3-none-any.whl.metadata (1.3 kB)\n",
      "Collecting google-pasta>=0.1.1 (from tensorflow<2.20,>=2.19->tf-keras>=2.14.1->tensorflow-hub)\n",
      "  Using cached google_pasta-0.2.0-py3-none-any.whl.metadata (814 bytes)\n",
      "Collecting libclang>=13.0.0 (from tensorflow<2.20,>=2.19->tf-keras>=2.14.1->tensorflow-hub)\n",
      "  Using cached libclang-18.1.1-py2.py3-none-win_amd64.whl.metadata (5.3 kB)\n",
      "Collecting opt-einsum>=2.3.2 (from tensorflow<2.20,>=2.19->tf-keras>=2.14.1->tensorflow-hub)\n",
      "  Using cached opt_einsum-3.4.0-py3-none-any.whl.metadata (6.3 kB)\n",
      "Collecting packaging (from tensorflow<2.20,>=2.19->tf-keras>=2.14.1->tensorflow-hub)\n",
      "  Using cached packaging-24.2-py3-none-any.whl.metadata (3.2 kB)\n",
      "Collecting protobuf>=3.19.6 (from tensorflow-hub)\n",
      "  Using cached protobuf-5.29.4-cp310-abi3-win_amd64.whl.metadata (592 bytes)\n",
      "Collecting requests<3,>=2.21.0 (from tensorflow<2.20,>=2.19->tf-keras>=2.14.1->tensorflow-hub)\n",
      "  Using cached requests-2.32.3-py3-none-any.whl.metadata (4.6 kB)\n",
      "Collecting setuptools (from tensorflow<2.20,>=2.19->tf-keras>=2.14.1->tensorflow-hub)\n",
      "  Using cached setuptools-78.1.0-py3-none-any.whl.metadata (6.6 kB)\n",
      "Collecting six>=1.12.0 (from tensorflow<2.20,>=2.19->tf-keras>=2.14.1->tensorflow-hub)\n",
      "  Using cached six-1.17.0-py2.py3-none-any.whl.metadata (1.7 kB)\n",
      "Collecting termcolor>=1.1.0 (from tensorflow<2.20,>=2.19->tf-keras>=2.14.1->tensorflow-hub)\n",
      "  Using cached termcolor-3.0.1-py3-none-any.whl.metadata (6.1 kB)\n",
      "Collecting typing-extensions>=3.6.6 (from tensorflow<2.20,>=2.19->tf-keras>=2.14.1->tensorflow-hub)\n",
      "  Using cached typing_extensions-4.13.1-py3-none-any.whl.metadata (3.0 kB)\n",
      "Collecting wrapt>=1.11.0 (from tensorflow<2.20,>=2.19->tf-keras>=2.14.1->tensorflow-hub)\n",
      "  Using cached wrapt-1.17.2-cp312-cp312-win_amd64.whl.metadata (6.5 kB)\n",
      "Collecting grpcio<2.0,>=1.24.3 (from tensorflow<2.20,>=2.19->tf-keras>=2.14.1->tensorflow-hub)\n",
      "  Using cached grpcio-1.71.0-cp312-cp312-win_amd64.whl.metadata (4.0 kB)\n",
      "Collecting tensorboard~=2.19.0 (from tensorflow<2.20,>=2.19->tf-keras>=2.14.1->tensorflow-hub)\n",
      "  Using cached tensorboard-2.19.0-py3-none-any.whl.metadata (1.8 kB)\n",
      "Collecting keras>=3.5.0 (from tensorflow<2.20,>=2.19->tf-keras>=2.14.1->tensorflow-hub)\n",
      "  Using cached keras-3.9.2-py3-none-any.whl.metadata (6.1 kB)\n",
      "Collecting numpy>=1.12.0 (from tensorflow-hub)\n",
      "  Using cached numpy-2.1.3-cp312-cp312-win_amd64.whl.metadata (60 kB)\n",
      "Collecting h5py>=3.11.0 (from tensorflow<2.20,>=2.19->tf-keras>=2.14.1->tensorflow-hub)\n",
      "  Using cached h5py-3.13.0-cp312-cp312-win_amd64.whl.metadata (2.5 kB)\n",
      "Collecting ml-dtypes<1.0.0,>=0.5.1 (from tensorflow<2.20,>=2.19->tf-keras>=2.14.1->tensorflow-hub)\n",
      "  Using cached ml_dtypes-0.5.1-cp312-cp312-win_amd64.whl.metadata (22 kB)\n",
      "Collecting wheel<1.0,>=0.23.0 (from astunparse>=1.6.0->tensorflow<2.20,>=2.19->tf-keras>=2.14.1->tensorflow-hub)\n",
      "  Using cached wheel-0.45.1-py3-none-any.whl.metadata (2.3 kB)\n",
      "Collecting rich (from keras>=3.5.0->tensorflow<2.20,>=2.19->tf-keras>=2.14.1->tensorflow-hub)\n",
      "  Using cached rich-14.0.0-py3-none-any.whl.metadata (18 kB)\n",
      "Collecting namex (from keras>=3.5.0->tensorflow<2.20,>=2.19->tf-keras>=2.14.1->tensorflow-hub)\n",
      "  Using cached namex-0.0.8-py3-none-any.whl.metadata (246 bytes)\n",
      "Collecting optree (from keras>=3.5.0->tensorflow<2.20,>=2.19->tf-keras>=2.14.1->tensorflow-hub)\n",
      "  Using cached optree-0.14.1-cp312-cp312-win_amd64.whl.metadata (50 kB)\n",
      "Collecting charset-normalizer<4,>=2 (from requests<3,>=2.21.0->tensorflow<2.20,>=2.19->tf-keras>=2.14.1->tensorflow-hub)\n",
      "  Using cached charset_normalizer-3.4.1-cp312-cp312-win_amd64.whl.metadata (36 kB)\n",
      "Collecting idna<4,>=2.5 (from requests<3,>=2.21.0->tensorflow<2.20,>=2.19->tf-keras>=2.14.1->tensorflow-hub)\n",
      "  Using cached idna-3.10-py3-none-any.whl.metadata (10 kB)\n",
      "Collecting urllib3<3,>=1.21.1 (from requests<3,>=2.21.0->tensorflow<2.20,>=2.19->tf-keras>=2.14.1->tensorflow-hub)\n",
      "  Using cached urllib3-2.3.0-py3-none-any.whl.metadata (6.5 kB)\n",
      "Collecting certifi>=2017.4.17 (from requests<3,>=2.21.0->tensorflow<2.20,>=2.19->tf-keras>=2.14.1->tensorflow-hub)\n",
      "  Using cached certifi-2025.1.31-py3-none-any.whl.metadata (2.5 kB)\n",
      "Collecting markdown>=2.6.8 (from tensorboard~=2.19.0->tensorflow<2.20,>=2.19->tf-keras>=2.14.1->tensorflow-hub)\n",
      "  Using cached Markdown-3.7-py3-none-any.whl.metadata (7.0 kB)\n",
      "Collecting tensorboard-data-server<0.8.0,>=0.7.0 (from tensorboard~=2.19.0->tensorflow<2.20,>=2.19->tf-keras>=2.14.1->tensorflow-hub)\n",
      "  Using cached tensorboard_data_server-0.7.2-py3-none-any.whl.metadata (1.1 kB)\n",
      "Collecting werkzeug>=1.0.1 (from tensorboard~=2.19.0->tensorflow<2.20,>=2.19->tf-keras>=2.14.1->tensorflow-hub)\n",
      "  Using cached werkzeug-3.1.3-py3-none-any.whl.metadata (3.7 kB)\n",
      "Collecting MarkupSafe>=2.1.1 (from werkzeug>=1.0.1->tensorboard~=2.19.0->tensorflow<2.20,>=2.19->tf-keras>=2.14.1->tensorflow-hub)\n",
      "  Using cached MarkupSafe-3.0.2-cp312-cp312-win_amd64.whl.metadata (4.1 kB)\n",
      "Collecting markdown-it-py>=2.2.0 (from rich->keras>=3.5.0->tensorflow<2.20,>=2.19->tf-keras>=2.14.1->tensorflow-hub)\n",
      "  Using cached markdown_it_py-3.0.0-py3-none-any.whl.metadata (6.9 kB)\n",
      "Collecting pygments<3.0.0,>=2.13.0 (from rich->keras>=3.5.0->tensorflow<2.20,>=2.19->tf-keras>=2.14.1->tensorflow-hub)\n",
      "  Using cached pygments-2.19.1-py3-none-any.whl.metadata (2.5 kB)\n",
      "Collecting mdurl~=0.1 (from markdown-it-py>=2.2.0->rich->keras>=3.5.0->tensorflow<2.20,>=2.19->tf-keras>=2.14.1->tensorflow-hub)\n",
      "  Using cached mdurl-0.1.2-py3-none-any.whl.metadata (1.6 kB)\n",
      "Using cached tensorflow_hub-0.16.1-py2.py3-none-any.whl (30 kB)\n",
      "Using cached tf_keras-2.19.0-py3-none-any.whl (1.7 MB)\n",
      "Using cached tensorflow-2.19.0-cp312-cp312-win_amd64.whl (376.0 MB)\n",
      "Using cached numpy-2.1.3-cp312-cp312-win_amd64.whl (12.6 MB)\n",
      "Using cached protobuf-5.29.4-cp310-abi3-win_amd64.whl (434 kB)\n",
      "Using cached absl_py-2.2.2-py3-none-any.whl (135 kB)\n",
      "Using cached astunparse-1.6.3-py2.py3-none-any.whl (12 kB)\n",
      "Using cached flatbuffers-25.2.10-py2.py3-none-any.whl (30 kB)\n",
      "Using cached gast-0.6.0-py3-none-any.whl (21 kB)\n",
      "Using cached google_pasta-0.2.0-py3-none-any.whl (57 kB)\n",
      "Using cached grpcio-1.71.0-cp312-cp312-win_amd64.whl (4.3 MB)\n",
      "Using cached h5py-3.13.0-cp312-cp312-win_amd64.whl (3.0 MB)\n",
      "Using cached keras-3.9.2-py3-none-any.whl (1.3 MB)\n",
      "Using cached libclang-18.1.1-py2.py3-none-win_amd64.whl (26.4 MB)\n",
      "Using cached ml_dtypes-0.5.1-cp312-cp312-win_amd64.whl (210 kB)\n",
      "Using cached opt_einsum-3.4.0-py3-none-any.whl (71 kB)\n",
      "Using cached requests-2.32.3-py3-none-any.whl (64 kB)\n",
      "Using cached six-1.17.0-py2.py3-none-any.whl (11 kB)\n",
      "Using cached tensorboard-2.19.0-py3-none-any.whl (5.5 MB)\n",
      "Using cached setuptools-78.1.0-py3-none-any.whl (1.3 MB)\n",
      "Using cached termcolor-3.0.1-py3-none-any.whl (7.2 kB)\n",
      "Using cached typing_extensions-4.13.1-py3-none-any.whl (45 kB)\n",
      "Using cached wrapt-1.17.2-cp312-cp312-win_amd64.whl (38 kB)\n",
      "Using cached packaging-24.2-py3-none-any.whl (65 kB)\n",
      "Using cached certifi-2025.1.31-py3-none-any.whl (166 kB)\n",
      "Using cached charset_normalizer-3.4.1-cp312-cp312-win_amd64.whl (102 kB)\n",
      "Using cached idna-3.10-py3-none-any.whl (70 kB)\n",
      "Using cached Markdown-3.7-py3-none-any.whl (106 kB)\n",
      "Using cached tensorboard_data_server-0.7.2-py3-none-any.whl (2.4 kB)\n",
      "Using cached urllib3-2.3.0-py3-none-any.whl (128 kB)\n",
      "Using cached werkzeug-3.1.3-py3-none-any.whl (224 kB)\n",
      "Using cached wheel-0.45.1-py3-none-any.whl (72 kB)\n",
      "Using cached namex-0.0.8-py3-none-any.whl (5.8 kB)\n",
      "Using cached optree-0.14.1-cp312-cp312-win_amd64.whl (306 kB)\n",
      "Using cached rich-14.0.0-py3-none-any.whl (243 kB)\n",
      "Using cached markdown_it_py-3.0.0-py3-none-any.whl (87 kB)\n",
      "Using cached MarkupSafe-3.0.2-cp312-cp312-win_amd64.whl (15 kB)\n",
      "Using cached pygments-2.19.1-py3-none-any.whl (1.2 MB)\n",
      "Using cached mdurl-0.1.2-py3-none-any.whl (10.0 kB)\n",
      "Installing collected packages: namex, libclang, flatbuffers, wrapt, wheel, urllib3, typing-extensions, termcolor, tensorboard-data-server, six, setuptools, pygments, protobuf, packaging, opt-einsum, numpy, mdurl, MarkupSafe, markdown, idna, grpcio, gast, charset-normalizer, certifi, absl-py, werkzeug, requests, optree, ml-dtypes, markdown-it-py, h5py, google-pasta, astunparse, tensorboard, rich, keras, tensorflow, tf-keras, tensorflow-hub\n",
      "Successfully installed MarkupSafe-3.0.2 absl-py-2.2.2 astunparse-1.6.3 certifi-2025.1.31 charset-normalizer-3.4.1 flatbuffers-25.2.10 gast-0.6.0 google-pasta-0.2.0 grpcio-1.71.0 h5py-3.13.0 idna-3.10 keras-3.9.2 libclang-18.1.1 markdown-3.7 markdown-it-py-3.0.0 mdurl-0.1.2 ml-dtypes-0.5.1 namex-0.0.8 numpy-2.1.3 opt-einsum-3.4.0 optree-0.14.1 packaging-24.2 protobuf-5.29.4 pygments-2.19.1 requests-2.32.3 rich-14.0.0 setuptools-78.1.0 six-1.17.0 tensorboard-2.19.0 tensorboard-data-server-0.7.2 tensorflow-2.19.0 tensorflow-hub-0.16.1 termcolor-3.0.1 tf-keras-2.19.0 typing-extensions-4.13.1 urllib3-2.3.0 werkzeug-3.1.3 wheel-0.45.1 wrapt-1.17.2\n",
      "Note: you may need to restart the kernel to use updated packages.\n"
     ]
    },
    {
     "name": "stderr",
     "output_type": "stream",
     "text": [
      "ERROR: pip's dependency resolver does not currently take into account all the packages that are installed. This behaviour is the source of the following dependency conflicts.\n",
      "contourpy 1.2.0 requires numpy<2.0,>=1.20, but you have numpy 2.1.3 which is incompatible.\n",
      "mdit-py-plugins 0.3.0 requires markdown-it-py<3.0.0,>=1.0.0, but you have markdown-it-py 3.0.0 which is incompatible.\n",
      "numba 0.59.1 requires numpy<1.27,>=1.22, but you have numpy 2.1.3 which is incompatible.\n",
      "pywavelets 1.5.0 requires numpy<2.0,>=1.22.4, but you have numpy 2.1.3 which is incompatible.\n",
      "streamlit 1.32.0 requires numpy<2,>=1.19.3, but you have numpy 2.1.3 which is incompatible.\n",
      "streamlit 1.32.0 requires packaging<24,>=16.8, but you have packaging 24.2 which is incompatible.\n",
      "streamlit 1.32.0 requires protobuf<5,>=3.20, but you have protobuf 5.29.4 which is incompatible.\n",
      "streamlit 1.32.0 requires rich<14,>=10.14.0, but you have rich 14.0.0 which is incompatible.\n",
      "tensorboard-plugin-profile 2.19.0 requires protobuf<5.0.0dev,>=3.19.6, but you have protobuf 5.29.4 which is incompatible.\n",
      "tensorflow-intel 2.18.0 requires ml-dtypes<0.5.0,>=0.4.0, but you have ml-dtypes 0.5.1 which is incompatible.\n",
      "tensorflow-intel 2.18.0 requires numpy<2.1.0,>=1.26.0, but you have numpy 2.1.3 which is incompatible.\n",
      "tensorflow-intel 2.18.0 requires tensorboard<2.19,>=2.18, but you have tensorboard 2.19.0 which is incompatible.\n",
      "WARNING: Target directory D:\\CONTENTS\\APPLICATIONS\\New Folder\\absl already exists. Specify --upgrade to force replacement.\n",
      "WARNING: Target directory D:\\CONTENTS\\APPLICATIONS\\New Folder\\absl_py-2.2.2.dist-info already exists. Specify --upgrade to force replacement.\n",
      "WARNING: Target directory D:\\CONTENTS\\APPLICATIONS\\New Folder\\astunparse already exists. Specify --upgrade to force replacement.\n",
      "WARNING: Target directory D:\\CONTENTS\\APPLICATIONS\\New Folder\\astunparse-1.6.3.dist-info already exists. Specify --upgrade to force replacement.\n",
      "WARNING: Target directory D:\\CONTENTS\\APPLICATIONS\\New Folder\\certifi already exists. Specify --upgrade to force replacement.\n",
      "WARNING: Target directory D:\\CONTENTS\\APPLICATIONS\\New Folder\\certifi-2025.1.31.dist-info already exists. Specify --upgrade to force replacement.\n",
      "WARNING: Target directory D:\\CONTENTS\\APPLICATIONS\\New Folder\\charset_normalizer already exists. Specify --upgrade to force replacement.\n",
      "WARNING: Target directory D:\\CONTENTS\\APPLICATIONS\\New Folder\\charset_normalizer-3.4.1.dist-info already exists. Specify --upgrade to force replacement.\n",
      "WARNING: Target directory D:\\CONTENTS\\APPLICATIONS\\New Folder\\clang already exists. Specify --upgrade to force replacement.\n",
      "WARNING: Target directory D:\\CONTENTS\\APPLICATIONS\\New Folder\\distutils-precedence.pth already exists. Specify --upgrade to force replacement.\n",
      "WARNING: Target directory D:\\CONTENTS\\APPLICATIONS\\New Folder\\flatbuffers already exists. Specify --upgrade to force replacement.\n",
      "WARNING: Target directory D:\\CONTENTS\\APPLICATIONS\\New Folder\\flatbuffers-25.2.10.dist-info already exists. Specify --upgrade to force replacement.\n",
      "WARNING: Target directory D:\\CONTENTS\\APPLICATIONS\\New Folder\\gast already exists. Specify --upgrade to force replacement.\n",
      "WARNING: Target directory D:\\CONTENTS\\APPLICATIONS\\New Folder\\gast-0.6.0.dist-info already exists. Specify --upgrade to force replacement.\n",
      "WARNING: Target directory D:\\CONTENTS\\APPLICATIONS\\New Folder\\google already exists. Specify --upgrade to force replacement.\n",
      "WARNING: Target directory D:\\CONTENTS\\APPLICATIONS\\New Folder\\google_pasta-0.2.0.dist-info already exists. Specify --upgrade to force replacement.\n",
      "WARNING: Target directory D:\\CONTENTS\\APPLICATIONS\\New Folder\\grpc already exists. Specify --upgrade to force replacement.\n",
      "WARNING: Target directory D:\\CONTENTS\\APPLICATIONS\\New Folder\\grpcio-1.71.0.dist-info already exists. Specify --upgrade to force replacement.\n",
      "WARNING: Target directory D:\\CONTENTS\\APPLICATIONS\\New Folder\\h5py already exists. Specify --upgrade to force replacement.\n",
      "WARNING: Target directory D:\\CONTENTS\\APPLICATIONS\\New Folder\\h5py-3.13.0.dist-info already exists. Specify --upgrade to force replacement.\n",
      "WARNING: Target directory D:\\CONTENTS\\APPLICATIONS\\New Folder\\idna already exists. Specify --upgrade to force replacement.\n",
      "WARNING: Target directory D:\\CONTENTS\\APPLICATIONS\\New Folder\\idna-3.10.dist-info already exists. Specify --upgrade to force replacement.\n",
      "WARNING: Target directory D:\\CONTENTS\\APPLICATIONS\\New Folder\\keras already exists. Specify --upgrade to force replacement.\n",
      "WARNING: Target directory D:\\CONTENTS\\APPLICATIONS\\New Folder\\keras-3.9.2.dist-info already exists. Specify --upgrade to force replacement.\n",
      "WARNING: Target directory D:\\CONTENTS\\APPLICATIONS\\New Folder\\libclang-18.1.1.dist-info already exists. Specify --upgrade to force replacement.\n",
      "WARNING: Target directory D:\\CONTENTS\\APPLICATIONS\\New Folder\\markdown already exists. Specify --upgrade to force replacement.\n",
      "WARNING: Target directory D:\\CONTENTS\\APPLICATIONS\\New Folder\\Markdown-3.7.dist-info already exists. Specify --upgrade to force replacement.\n",
      "WARNING: Target directory D:\\CONTENTS\\APPLICATIONS\\New Folder\\markdown_it already exists. Specify --upgrade to force replacement.\n",
      "WARNING: Target directory D:\\CONTENTS\\APPLICATIONS\\New Folder\\markdown_it_py-3.0.0.dist-info already exists. Specify --upgrade to force replacement.\n",
      "WARNING: Target directory D:\\CONTENTS\\APPLICATIONS\\New Folder\\markupsafe already exists. Specify --upgrade to force replacement.\n",
      "WARNING: Target directory D:\\CONTENTS\\APPLICATIONS\\New Folder\\MarkupSafe-3.0.2.dist-info already exists. Specify --upgrade to force replacement.\n",
      "WARNING: Target directory D:\\CONTENTS\\APPLICATIONS\\New Folder\\mdurl already exists. Specify --upgrade to force replacement.\n",
      "WARNING: Target directory D:\\CONTENTS\\APPLICATIONS\\New Folder\\mdurl-0.1.2.dist-info already exists. Specify --upgrade to force replacement.\n",
      "WARNING: Target directory D:\\CONTENTS\\APPLICATIONS\\New Folder\\ml_dtypes already exists. Specify --upgrade to force replacement.\n",
      "WARNING: Target directory D:\\CONTENTS\\APPLICATIONS\\New Folder\\ml_dtypes-0.5.1.dist-info already exists. Specify --upgrade to force replacement.\n",
      "WARNING: Target directory D:\\CONTENTS\\APPLICATIONS\\New Folder\\namex already exists. Specify --upgrade to force replacement.\n",
      "WARNING: Target directory D:\\CONTENTS\\APPLICATIONS\\New Folder\\namex-0.0.8.dist-info already exists. Specify --upgrade to force replacement.\n",
      "WARNING: Target directory D:\\CONTENTS\\APPLICATIONS\\New Folder\\numpy already exists. Specify --upgrade to force replacement.\n",
      "WARNING: Target directory D:\\CONTENTS\\APPLICATIONS\\New Folder\\numpy-2.1.3-cp312-cp312-win_amd64.whl already exists. Specify --upgrade to force replacement.\n",
      "WARNING: Target directory D:\\CONTENTS\\APPLICATIONS\\New Folder\\numpy-2.1.3.dist-info already exists. Specify --upgrade to force replacement.\n",
      "WARNING: Target directory D:\\CONTENTS\\APPLICATIONS\\New Folder\\numpy.libs already exists. Specify --upgrade to force replacement.\n",
      "WARNING: Target directory D:\\CONTENTS\\APPLICATIONS\\New Folder\\optree already exists. Specify --upgrade to force replacement.\n",
      "WARNING: Target directory D:\\CONTENTS\\APPLICATIONS\\New Folder\\optree-0.14.1.dist-info already exists. Specify --upgrade to force replacement.\n",
      "WARNING: Target directory D:\\CONTENTS\\APPLICATIONS\\New Folder\\opt_einsum already exists. Specify --upgrade to force replacement.\n",
      "WARNING: Target directory D:\\CONTENTS\\APPLICATIONS\\New Folder\\opt_einsum-3.4.0.dist-info already exists. Specify --upgrade to force replacement.\n",
      "WARNING: Target directory D:\\CONTENTS\\APPLICATIONS\\New Folder\\packaging already exists. Specify --upgrade to force replacement.\n",
      "WARNING: Target directory D:\\CONTENTS\\APPLICATIONS\\New Folder\\packaging-24.2.dist-info already exists. Specify --upgrade to force replacement.\n",
      "WARNING: Target directory D:\\CONTENTS\\APPLICATIONS\\New Folder\\pasta already exists. Specify --upgrade to force replacement.\n",
      "WARNING: Target directory D:\\CONTENTS\\APPLICATIONS\\New Folder\\pkg_resources already exists. Specify --upgrade to force replacement.\n",
      "WARNING: Target directory D:\\CONTENTS\\APPLICATIONS\\New Folder\\protobuf-5.29.4.dist-info already exists. Specify --upgrade to force replacement.\n",
      "WARNING: Target directory D:\\CONTENTS\\APPLICATIONS\\New Folder\\pygments already exists. Specify --upgrade to force replacement.\n",
      "WARNING: Target directory D:\\CONTENTS\\APPLICATIONS\\New Folder\\pygments-2.19.1.dist-info already exists. Specify --upgrade to force replacement.\n",
      "WARNING: Target directory D:\\CONTENTS\\APPLICATIONS\\New Folder\\requests already exists. Specify --upgrade to force replacement.\n",
      "WARNING: Target directory D:\\CONTENTS\\APPLICATIONS\\New Folder\\requests-2.32.3.dist-info already exists. Specify --upgrade to force replacement.\n",
      "WARNING: Target directory D:\\CONTENTS\\APPLICATIONS\\New Folder\\rich already exists. Specify --upgrade to force replacement.\n",
      "WARNING: Target directory D:\\CONTENTS\\APPLICATIONS\\New Folder\\rich-14.0.0.dist-info already exists. Specify --upgrade to force replacement.\n",
      "WARNING: Target directory D:\\CONTENTS\\APPLICATIONS\\New Folder\\setuptools already exists. Specify --upgrade to force replacement.\n",
      "WARNING: Target directory D:\\CONTENTS\\APPLICATIONS\\New Folder\\setuptools-78.1.0.dist-info already exists. Specify --upgrade to force replacement.\n",
      "WARNING: Target directory D:\\CONTENTS\\APPLICATIONS\\New Folder\\six-1.17.0.dist-info already exists. Specify --upgrade to force replacement.\n",
      "WARNING: Target directory D:\\CONTENTS\\APPLICATIONS\\New Folder\\six.py already exists. Specify --upgrade to force replacement.\n",
      "WARNING: Target directory D:\\CONTENTS\\APPLICATIONS\\New Folder\\tensorboard already exists. Specify --upgrade to force replacement.\n",
      "WARNING: Target directory D:\\CONTENTS\\APPLICATIONS\\New Folder\\tensorboard-2.19.0.dist-info already exists. Specify --upgrade to force replacement.\n",
      "WARNING: Target directory D:\\CONTENTS\\APPLICATIONS\\New Folder\\tensorboard_data_server already exists. Specify --upgrade to force replacement.\n",
      "WARNING: Target directory D:\\CONTENTS\\APPLICATIONS\\New Folder\\tensorboard_data_server-0.7.2.dist-info already exists. Specify --upgrade to force replacement.\n",
      "WARNING: Target directory D:\\CONTENTS\\APPLICATIONS\\New Folder\\tensorflow already exists. Specify --upgrade to force replacement.\n",
      "WARNING: Target directory D:\\CONTENTS\\APPLICATIONS\\New Folder\\tensorflow-2.19.0.dist-info already exists. Specify --upgrade to force replacement.\n",
      "WARNING: Target directory D:\\CONTENTS\\APPLICATIONS\\New Folder\\tensorflow_hub already exists. Specify --upgrade to force replacement.\n",
      "WARNING: Target directory D:\\CONTENTS\\APPLICATIONS\\New Folder\\tensorflow_hub-0.16.1.dist-info already exists. Specify --upgrade to force replacement.\n",
      "WARNING: Target directory D:\\CONTENTS\\APPLICATIONS\\New Folder\\termcolor already exists. Specify --upgrade to force replacement.\n",
      "WARNING: Target directory D:\\CONTENTS\\APPLICATIONS\\New Folder\\termcolor-3.0.1.dist-info already exists. Specify --upgrade to force replacement.\n",
      "WARNING: Target directory D:\\CONTENTS\\APPLICATIONS\\New Folder\\tf_keras already exists. Specify --upgrade to force replacement.\n",
      "WARNING: Target directory D:\\CONTENTS\\APPLICATIONS\\New Folder\\tf_keras-2.19.0.dist-info already exists. Specify --upgrade to force replacement.\n",
      "WARNING: Target directory D:\\CONTENTS\\APPLICATIONS\\New Folder\\typing_extensions-4.13.1.dist-info already exists. Specify --upgrade to force replacement.\n",
      "WARNING: Target directory D:\\CONTENTS\\APPLICATIONS\\New Folder\\typing_extensions.py already exists. Specify --upgrade to force replacement.\n",
      "WARNING: Target directory D:\\CONTENTS\\APPLICATIONS\\New Folder\\urllib3 already exists. Specify --upgrade to force replacement.\n",
      "WARNING: Target directory D:\\CONTENTS\\APPLICATIONS\\New Folder\\urllib3-2.3.0.dist-info already exists. Specify --upgrade to force replacement.\n",
      "WARNING: Target directory D:\\CONTENTS\\APPLICATIONS\\New Folder\\werkzeug already exists. Specify --upgrade to force replacement.\n",
      "WARNING: Target directory D:\\CONTENTS\\APPLICATIONS\\New Folder\\werkzeug-3.1.3.dist-info already exists. Specify --upgrade to force replacement.\n",
      "WARNING: Target directory D:\\CONTENTS\\APPLICATIONS\\New Folder\\wheel already exists. Specify --upgrade to force replacement.\n",
      "WARNING: Target directory D:\\CONTENTS\\APPLICATIONS\\New Folder\\wheel-0.45.1.dist-info already exists. Specify --upgrade to force replacement.\n",
      "WARNING: Target directory D:\\CONTENTS\\APPLICATIONS\\New Folder\\wrapt already exists. Specify --upgrade to force replacement.\n",
      "WARNING: Target directory D:\\CONTENTS\\APPLICATIONS\\New Folder\\wrapt-1.17.2.dist-info already exists. Specify --upgrade to force replacement.\n",
      "WARNING: Target directory D:\\CONTENTS\\APPLICATIONS\\New Folder\\_distutils_hack already exists. Specify --upgrade to force replacement.\n",
      "WARNING: Target directory D:\\CONTENTS\\APPLICATIONS\\New Folder\\__pycache__ already exists. Specify --upgrade to force replacement.\n",
      "WARNING: Target directory D:\\CONTENTS\\APPLICATIONS\\New Folder\\bin already exists. Specify --upgrade to force replacement.\n"
     ]
    }
   ],
   "source": [
    "pip --default-timeout=100 install tensorflow-hub --target \"D:\\CONTENTS\\APPLICATIONS\\New Folder\"\n"
   ]
  },
  {
   "cell_type": "code",
   "execution_count": 37,
   "metadata": {
    "vscode": {
     "languageId": "powershell"
    }
   },
   "outputs": [
    {
     "name": "stdout",
     "output_type": "stream",
     "text": [
      "Collecting tensorflow-hub\n",
      "  Using cached tensorflow_hub-0.16.1-py2.py3-none-any.whl.metadata (1.3 kB)\n",
      "Collecting numpy>=1.12.0 (from tensorflow-hub)\n",
      "  Using cached numpy-2.2.4-cp312-cp312-win_amd64.whl.metadata (60 kB)\n",
      "Collecting protobuf>=3.19.6 (from tensorflow-hub)\n",
      "  Using cached protobuf-6.30.2-cp310-abi3-win_amd64.whl.metadata (593 bytes)\n",
      "Collecting tf-keras>=2.14.1 (from tensorflow-hub)\n",
      "  Using cached tf_keras-2.19.0-py3-none-any.whl.metadata (1.8 kB)\n",
      "Collecting tensorflow<2.20,>=2.19 (from tf-keras>=2.14.1->tensorflow-hub)\n",
      "  Using cached tensorflow-2.19.0-cp312-cp312-win_amd64.whl.metadata (4.1 kB)\n",
      "Collecting absl-py>=1.0.0 (from tensorflow<2.20,>=2.19->tf-keras>=2.14.1->tensorflow-hub)\n",
      "  Using cached absl_py-2.2.2-py3-none-any.whl.metadata (2.6 kB)\n",
      "Collecting astunparse>=1.6.0 (from tensorflow<2.20,>=2.19->tf-keras>=2.14.1->tensorflow-hub)\n",
      "  Using cached astunparse-1.6.3-py2.py3-none-any.whl.metadata (4.4 kB)\n",
      "Collecting flatbuffers>=24.3.25 (from tensorflow<2.20,>=2.19->tf-keras>=2.14.1->tensorflow-hub)\n",
      "  Using cached flatbuffers-25.2.10-py2.py3-none-any.whl.metadata (875 bytes)\n",
      "Collecting gast!=0.5.0,!=0.5.1,!=0.5.2,>=0.2.1 (from tensorflow<2.20,>=2.19->tf-keras>=2.14.1->tensorflow-hub)\n",
      "  Using cached gast-0.6.0-py3-none-any.whl.metadata (1.3 kB)\n",
      "Collecting google-pasta>=0.1.1 (from tensorflow<2.20,>=2.19->tf-keras>=2.14.1->tensorflow-hub)\n",
      "  Using cached google_pasta-0.2.0-py3-none-any.whl.metadata (814 bytes)\n",
      "Collecting libclang>=13.0.0 (from tensorflow<2.20,>=2.19->tf-keras>=2.14.1->tensorflow-hub)\n",
      "  Using cached libclang-18.1.1-py2.py3-none-win_amd64.whl.metadata (5.3 kB)\n",
      "Collecting opt-einsum>=2.3.2 (from tensorflow<2.20,>=2.19->tf-keras>=2.14.1->tensorflow-hub)\n",
      "  Using cached opt_einsum-3.4.0-py3-none-any.whl.metadata (6.3 kB)\n",
      "Collecting packaging (from tensorflow<2.20,>=2.19->tf-keras>=2.14.1->tensorflow-hub)\n",
      "  Using cached packaging-24.2-py3-none-any.whl.metadata (3.2 kB)\n",
      "Collecting protobuf>=3.19.6 (from tensorflow-hub)\n",
      "  Using cached protobuf-5.29.4-cp310-abi3-win_amd64.whl.metadata (592 bytes)\n",
      "Collecting requests<3,>=2.21.0 (from tensorflow<2.20,>=2.19->tf-keras>=2.14.1->tensorflow-hub)\n",
      "  Using cached requests-2.32.3-py3-none-any.whl.metadata (4.6 kB)\n",
      "Collecting setuptools (from tensorflow<2.20,>=2.19->tf-keras>=2.14.1->tensorflow-hub)\n",
      "  Using cached setuptools-78.1.0-py3-none-any.whl.metadata (6.6 kB)\n",
      "Collecting six>=1.12.0 (from tensorflow<2.20,>=2.19->tf-keras>=2.14.1->tensorflow-hub)\n",
      "  Using cached six-1.17.0-py2.py3-none-any.whl.metadata (1.7 kB)\n",
      "Collecting termcolor>=1.1.0 (from tensorflow<2.20,>=2.19->tf-keras>=2.14.1->tensorflow-hub)\n",
      "  Using cached termcolor-3.0.1-py3-none-any.whl.metadata (6.1 kB)\n",
      "Collecting typing-extensions>=3.6.6 (from tensorflow<2.20,>=2.19->tf-keras>=2.14.1->tensorflow-hub)\n",
      "  Using cached typing_extensions-4.13.1-py3-none-any.whl.metadata (3.0 kB)\n",
      "Collecting wrapt>=1.11.0 (from tensorflow<2.20,>=2.19->tf-keras>=2.14.1->tensorflow-hub)\n",
      "  Using cached wrapt-1.17.2-cp312-cp312-win_amd64.whl.metadata (6.5 kB)\n",
      "Collecting grpcio<2.0,>=1.24.3 (from tensorflow<2.20,>=2.19->tf-keras>=2.14.1->tensorflow-hub)\n",
      "  Using cached grpcio-1.71.0-cp312-cp312-win_amd64.whl.metadata (4.0 kB)\n",
      "Collecting tensorboard~=2.19.0 (from tensorflow<2.20,>=2.19->tf-keras>=2.14.1->tensorflow-hub)\n",
      "  Using cached tensorboard-2.19.0-py3-none-any.whl.metadata (1.8 kB)\n",
      "Collecting keras>=3.5.0 (from tensorflow<2.20,>=2.19->tf-keras>=2.14.1->tensorflow-hub)\n",
      "  Using cached keras-3.9.2-py3-none-any.whl.metadata (6.1 kB)\n",
      "Collecting numpy>=1.12.0 (from tensorflow-hub)\n",
      "  Using cached numpy-2.1.3-cp312-cp312-win_amd64.whl.metadata (60 kB)\n",
      "Collecting h5py>=3.11.0 (from tensorflow<2.20,>=2.19->tf-keras>=2.14.1->tensorflow-hub)\n",
      "  Using cached h5py-3.13.0-cp312-cp312-win_amd64.whl.metadata (2.5 kB)\n",
      "Collecting ml-dtypes<1.0.0,>=0.5.1 (from tensorflow<2.20,>=2.19->tf-keras>=2.14.1->tensorflow-hub)\n",
      "  Using cached ml_dtypes-0.5.1-cp312-cp312-win_amd64.whl.metadata (22 kB)\n",
      "Collecting wheel<1.0,>=0.23.0 (from astunparse>=1.6.0->tensorflow<2.20,>=2.19->tf-keras>=2.14.1->tensorflow-hub)\n",
      "  Using cached wheel-0.45.1-py3-none-any.whl.metadata (2.3 kB)\n",
      "Collecting rich (from keras>=3.5.0->tensorflow<2.20,>=2.19->tf-keras>=2.14.1->tensorflow-hub)\n",
      "  Using cached rich-14.0.0-py3-none-any.whl.metadata (18 kB)\n",
      "Collecting namex (from keras>=3.5.0->tensorflow<2.20,>=2.19->tf-keras>=2.14.1->tensorflow-hub)\n",
      "  Using cached namex-0.0.8-py3-none-any.whl.metadata (246 bytes)\n",
      "Collecting optree (from keras>=3.5.0->tensorflow<2.20,>=2.19->tf-keras>=2.14.1->tensorflow-hub)\n",
      "  Using cached optree-0.14.1-cp312-cp312-win_amd64.whl.metadata (50 kB)\n",
      "Collecting charset-normalizer<4,>=2 (from requests<3,>=2.21.0->tensorflow<2.20,>=2.19->tf-keras>=2.14.1->tensorflow-hub)\n",
      "  Using cached charset_normalizer-3.4.1-cp312-cp312-win_amd64.whl.metadata (36 kB)\n",
      "Collecting idna<4,>=2.5 (from requests<3,>=2.21.0->tensorflow<2.20,>=2.19->tf-keras>=2.14.1->tensorflow-hub)\n",
      "  Using cached idna-3.10-py3-none-any.whl.metadata (10 kB)\n",
      "Collecting urllib3<3,>=1.21.1 (from requests<3,>=2.21.0->tensorflow<2.20,>=2.19->tf-keras>=2.14.1->tensorflow-hub)\n",
      "  Using cached urllib3-2.3.0-py3-none-any.whl.metadata (6.5 kB)\n",
      "Collecting certifi>=2017.4.17 (from requests<3,>=2.21.0->tensorflow<2.20,>=2.19->tf-keras>=2.14.1->tensorflow-hub)\n",
      "  Using cached certifi-2025.1.31-py3-none-any.whl.metadata (2.5 kB)\n",
      "Collecting markdown>=2.6.8 (from tensorboard~=2.19.0->tensorflow<2.20,>=2.19->tf-keras>=2.14.1->tensorflow-hub)\n",
      "  Using cached Markdown-3.7-py3-none-any.whl.metadata (7.0 kB)\n",
      "Collecting tensorboard-data-server<0.8.0,>=0.7.0 (from tensorboard~=2.19.0->tensorflow<2.20,>=2.19->tf-keras>=2.14.1->tensorflow-hub)\n",
      "  Using cached tensorboard_data_server-0.7.2-py3-none-any.whl.metadata (1.1 kB)\n",
      "Collecting werkzeug>=1.0.1 (from tensorboard~=2.19.0->tensorflow<2.20,>=2.19->tf-keras>=2.14.1->tensorflow-hub)\n",
      "  Using cached werkzeug-3.1.3-py3-none-any.whl.metadata (3.7 kB)\n",
      "Collecting MarkupSafe>=2.1.1 (from werkzeug>=1.0.1->tensorboard~=2.19.0->tensorflow<2.20,>=2.19->tf-keras>=2.14.1->tensorflow-hub)\n",
      "  Using cached MarkupSafe-3.0.2-cp312-cp312-win_amd64.whl.metadata (4.1 kB)\n",
      "Collecting markdown-it-py>=2.2.0 (from rich->keras>=3.5.0->tensorflow<2.20,>=2.19->tf-keras>=2.14.1->tensorflow-hub)\n",
      "  Using cached markdown_it_py-3.0.0-py3-none-any.whl.metadata (6.9 kB)\n",
      "Collecting pygments<3.0.0,>=2.13.0 (from rich->keras>=3.5.0->tensorflow<2.20,>=2.19->tf-keras>=2.14.1->tensorflow-hub)\n",
      "  Using cached pygments-2.19.1-py3-none-any.whl.metadata (2.5 kB)\n",
      "Collecting mdurl~=0.1 (from markdown-it-py>=2.2.0->rich->keras>=3.5.0->tensorflow<2.20,>=2.19->tf-keras>=2.14.1->tensorflow-hub)\n",
      "  Using cached mdurl-0.1.2-py3-none-any.whl.metadata (1.6 kB)\n",
      "Using cached tensorflow_hub-0.16.1-py2.py3-none-any.whl (30 kB)\n",
      "Using cached tf_keras-2.19.0-py3-none-any.whl (1.7 MB)\n",
      "Using cached tensorflow-2.19.0-cp312-cp312-win_amd64.whl (376.0 MB)\n",
      "Using cached numpy-2.1.3-cp312-cp312-win_amd64.whl (12.6 MB)\n",
      "Using cached protobuf-5.29.4-cp310-abi3-win_amd64.whl (434 kB)\n",
      "Using cached absl_py-2.2.2-py3-none-any.whl (135 kB)\n",
      "Using cached astunparse-1.6.3-py2.py3-none-any.whl (12 kB)\n",
      "Using cached flatbuffers-25.2.10-py2.py3-none-any.whl (30 kB)\n",
      "Using cached gast-0.6.0-py3-none-any.whl (21 kB)\n",
      "Using cached google_pasta-0.2.0-py3-none-any.whl (57 kB)\n",
      "Using cached grpcio-1.71.0-cp312-cp312-win_amd64.whl (4.3 MB)\n",
      "Using cached h5py-3.13.0-cp312-cp312-win_amd64.whl (3.0 MB)\n",
      "Using cached keras-3.9.2-py3-none-any.whl (1.3 MB)\n",
      "Using cached libclang-18.1.1-py2.py3-none-win_amd64.whl (26.4 MB)\n",
      "Using cached ml_dtypes-0.5.1-cp312-cp312-win_amd64.whl (210 kB)\n",
      "Using cached opt_einsum-3.4.0-py3-none-any.whl (71 kB)\n",
      "Using cached requests-2.32.3-py3-none-any.whl (64 kB)\n",
      "Using cached six-1.17.0-py2.py3-none-any.whl (11 kB)\n",
      "Using cached tensorboard-2.19.0-py3-none-any.whl (5.5 MB)\n",
      "Using cached setuptools-78.1.0-py3-none-any.whl (1.3 MB)\n",
      "Using cached termcolor-3.0.1-py3-none-any.whl (7.2 kB)\n",
      "Using cached typing_extensions-4.13.1-py3-none-any.whl (45 kB)\n",
      "Using cached wrapt-1.17.2-cp312-cp312-win_amd64.whl (38 kB)\n",
      "Using cached packaging-24.2-py3-none-any.whl (65 kB)\n",
      "Using cached certifi-2025.1.31-py3-none-any.whl (166 kB)\n",
      "Using cached charset_normalizer-3.4.1-cp312-cp312-win_amd64.whl (102 kB)\n",
      "Using cached idna-3.10-py3-none-any.whl (70 kB)\n",
      "Using cached Markdown-3.7-py3-none-any.whl (106 kB)\n",
      "Using cached tensorboard_data_server-0.7.2-py3-none-any.whl (2.4 kB)\n",
      "Using cached urllib3-2.3.0-py3-none-any.whl (128 kB)\n",
      "Using cached werkzeug-3.1.3-py3-none-any.whl (224 kB)\n",
      "Using cached wheel-0.45.1-py3-none-any.whl (72 kB)\n",
      "Using cached namex-0.0.8-py3-none-any.whl (5.8 kB)\n",
      "Using cached optree-0.14.1-cp312-cp312-win_amd64.whl (306 kB)\n",
      "Using cached rich-14.0.0-py3-none-any.whl (243 kB)\n",
      "Using cached markdown_it_py-3.0.0-py3-none-any.whl (87 kB)\n",
      "Using cached MarkupSafe-3.0.2-cp312-cp312-win_amd64.whl (15 kB)\n",
      "Using cached pygments-2.19.1-py3-none-any.whl (1.2 MB)\n",
      "Using cached mdurl-0.1.2-py3-none-any.whl (10.0 kB)\n",
      "Installing collected packages: namex, libclang, flatbuffers, wrapt, wheel, urllib3, typing-extensions, termcolor, tensorboard-data-server, six, setuptools, pygments, protobuf, packaging, opt-einsum, numpy, mdurl, MarkupSafe, markdown, idna, grpcio, gast, charset-normalizer, certifi, absl-py, werkzeug, requests, optree, ml-dtypes, markdown-it-py, h5py, google-pasta, astunparse, tensorboard, rich, keras, tensorflow, tf-keras, tensorflow-hub\n",
      "Successfully installed MarkupSafe-3.0.2 absl-py-2.2.2 astunparse-1.6.3 certifi-2025.1.31 charset-normalizer-3.4.1 flatbuffers-25.2.10 gast-0.6.0 google-pasta-0.2.0 grpcio-1.71.0 h5py-3.13.0 idna-3.10 keras-3.9.2 libclang-18.1.1 markdown-3.7 markdown-it-py-3.0.0 mdurl-0.1.2 ml-dtypes-0.5.1 namex-0.0.8 numpy-2.1.3 opt-einsum-3.4.0 optree-0.14.1 packaging-24.2 protobuf-5.29.4 pygments-2.19.1 requests-2.32.3 rich-14.0.0 setuptools-78.1.0 six-1.17.0 tensorboard-2.19.0 tensorboard-data-server-0.7.2 tensorflow-2.19.0 tensorflow-hub-0.16.1 termcolor-3.0.1 tf-keras-2.19.0 typing-extensions-4.13.1 urllib3-2.3.0 werkzeug-3.1.3 wheel-0.45.1 wrapt-1.17.2\n",
      "Note: you may need to restart the kernel to use updated packages.\n"
     ]
    },
    {
     "name": "stderr",
     "output_type": "stream",
     "text": [
      "ERROR: pip's dependency resolver does not currently take into account all the packages that are installed. This behaviour is the source of the following dependency conflicts.\n",
      "contourpy 1.2.0 requires numpy<2.0,>=1.20, but you have numpy 2.1.3 which is incompatible.\n",
      "mdit-py-plugins 0.3.0 requires markdown-it-py<3.0.0,>=1.0.0, but you have markdown-it-py 3.0.0 which is incompatible.\n",
      "numba 0.59.1 requires numpy<1.27,>=1.22, but you have numpy 2.1.3 which is incompatible.\n",
      "pywavelets 1.5.0 requires numpy<2.0,>=1.22.4, but you have numpy 2.1.3 which is incompatible.\n",
      "streamlit 1.32.0 requires numpy<2,>=1.19.3, but you have numpy 2.1.3 which is incompatible.\n",
      "streamlit 1.32.0 requires packaging<24,>=16.8, but you have packaging 24.2 which is incompatible.\n",
      "streamlit 1.32.0 requires protobuf<5,>=3.20, but you have protobuf 5.29.4 which is incompatible.\n",
      "streamlit 1.32.0 requires rich<14,>=10.14.0, but you have rich 14.0.0 which is incompatible.\n",
      "tensorboard-plugin-profile 2.19.0 requires protobuf<5.0.0dev,>=3.19.6, but you have protobuf 5.29.4 which is incompatible.\n",
      "tensorflow-intel 2.18.0 requires ml-dtypes<0.5.0,>=0.4.0, but you have ml-dtypes 0.5.1 which is incompatible.\n",
      "tensorflow-intel 2.18.0 requires numpy<2.1.0,>=1.26.0, but you have numpy 2.1.3 which is incompatible.\n",
      "tensorflow-intel 2.18.0 requires tensorboard<2.19,>=2.18, but you have tensorboard 2.19.0 which is incompatible.\n",
      "WARNING: Target directory D:\\CONTENTS\\APPLICATIONS\\New Folder\\absl already exists. Specify --upgrade to force replacement.\n",
      "WARNING: Target directory D:\\CONTENTS\\APPLICATIONS\\New Folder\\absl_py-2.2.2.dist-info already exists. Specify --upgrade to force replacement.\n",
      "WARNING: Target directory D:\\CONTENTS\\APPLICATIONS\\New Folder\\astunparse already exists. Specify --upgrade to force replacement.\n",
      "WARNING: Target directory D:\\CONTENTS\\APPLICATIONS\\New Folder\\astunparse-1.6.3.dist-info already exists. Specify --upgrade to force replacement.\n",
      "WARNING: Target directory D:\\CONTENTS\\APPLICATIONS\\New Folder\\certifi already exists. Specify --upgrade to force replacement.\n",
      "WARNING: Target directory D:\\CONTENTS\\APPLICATIONS\\New Folder\\certifi-2025.1.31.dist-info already exists. Specify --upgrade to force replacement.\n",
      "WARNING: Target directory D:\\CONTENTS\\APPLICATIONS\\New Folder\\charset_normalizer already exists. Specify --upgrade to force replacement.\n",
      "WARNING: Target directory D:\\CONTENTS\\APPLICATIONS\\New Folder\\charset_normalizer-3.4.1.dist-info already exists. Specify --upgrade to force replacement.\n",
      "WARNING: Target directory D:\\CONTENTS\\APPLICATIONS\\New Folder\\clang already exists. Specify --upgrade to force replacement.\n",
      "WARNING: Target directory D:\\CONTENTS\\APPLICATIONS\\New Folder\\distutils-precedence.pth already exists. Specify --upgrade to force replacement.\n",
      "WARNING: Target directory D:\\CONTENTS\\APPLICATIONS\\New Folder\\flatbuffers already exists. Specify --upgrade to force replacement.\n",
      "WARNING: Target directory D:\\CONTENTS\\APPLICATIONS\\New Folder\\flatbuffers-25.2.10.dist-info already exists. Specify --upgrade to force replacement.\n",
      "WARNING: Target directory D:\\CONTENTS\\APPLICATIONS\\New Folder\\gast already exists. Specify --upgrade to force replacement.\n",
      "WARNING: Target directory D:\\CONTENTS\\APPLICATIONS\\New Folder\\gast-0.6.0.dist-info already exists. Specify --upgrade to force replacement.\n",
      "WARNING: Target directory D:\\CONTENTS\\APPLICATIONS\\New Folder\\google already exists. Specify --upgrade to force replacement.\n",
      "WARNING: Target directory D:\\CONTENTS\\APPLICATIONS\\New Folder\\google_pasta-0.2.0.dist-info already exists. Specify --upgrade to force replacement.\n",
      "WARNING: Target directory D:\\CONTENTS\\APPLICATIONS\\New Folder\\grpc already exists. Specify --upgrade to force replacement.\n",
      "WARNING: Target directory D:\\CONTENTS\\APPLICATIONS\\New Folder\\grpcio-1.71.0.dist-info already exists. Specify --upgrade to force replacement.\n",
      "WARNING: Target directory D:\\CONTENTS\\APPLICATIONS\\New Folder\\h5py already exists. Specify --upgrade to force replacement.\n",
      "WARNING: Target directory D:\\CONTENTS\\APPLICATIONS\\New Folder\\h5py-3.13.0.dist-info already exists. Specify --upgrade to force replacement.\n",
      "WARNING: Target directory D:\\CONTENTS\\APPLICATIONS\\New Folder\\idna already exists. Specify --upgrade to force replacement.\n",
      "WARNING: Target directory D:\\CONTENTS\\APPLICATIONS\\New Folder\\idna-3.10.dist-info already exists. Specify --upgrade to force replacement.\n",
      "WARNING: Target directory D:\\CONTENTS\\APPLICATIONS\\New Folder\\keras already exists. Specify --upgrade to force replacement.\n",
      "WARNING: Target directory D:\\CONTENTS\\APPLICATIONS\\New Folder\\keras-3.9.2.dist-info already exists. Specify --upgrade to force replacement.\n",
      "WARNING: Target directory D:\\CONTENTS\\APPLICATIONS\\New Folder\\libclang-18.1.1.dist-info already exists. Specify --upgrade to force replacement.\n",
      "WARNING: Target directory D:\\CONTENTS\\APPLICATIONS\\New Folder\\markdown already exists. Specify --upgrade to force replacement.\n",
      "WARNING: Target directory D:\\CONTENTS\\APPLICATIONS\\New Folder\\Markdown-3.7.dist-info already exists. Specify --upgrade to force replacement.\n",
      "WARNING: Target directory D:\\CONTENTS\\APPLICATIONS\\New Folder\\markdown_it already exists. Specify --upgrade to force replacement.\n",
      "WARNING: Target directory D:\\CONTENTS\\APPLICATIONS\\New Folder\\markdown_it_py-3.0.0.dist-info already exists. Specify --upgrade to force replacement.\n",
      "WARNING: Target directory D:\\CONTENTS\\APPLICATIONS\\New Folder\\markupsafe already exists. Specify --upgrade to force replacement.\n",
      "WARNING: Target directory D:\\CONTENTS\\APPLICATIONS\\New Folder\\MarkupSafe-3.0.2.dist-info already exists. Specify --upgrade to force replacement.\n",
      "WARNING: Target directory D:\\CONTENTS\\APPLICATIONS\\New Folder\\mdurl already exists. Specify --upgrade to force replacement.\n",
      "WARNING: Target directory D:\\CONTENTS\\APPLICATIONS\\New Folder\\mdurl-0.1.2.dist-info already exists. Specify --upgrade to force replacement.\n",
      "WARNING: Target directory D:\\CONTENTS\\APPLICATIONS\\New Folder\\ml_dtypes already exists. Specify --upgrade to force replacement.\n",
      "WARNING: Target directory D:\\CONTENTS\\APPLICATIONS\\New Folder\\ml_dtypes-0.5.1.dist-info already exists. Specify --upgrade to force replacement.\n",
      "WARNING: Target directory D:\\CONTENTS\\APPLICATIONS\\New Folder\\namex already exists. Specify --upgrade to force replacement.\n",
      "WARNING: Target directory D:\\CONTENTS\\APPLICATIONS\\New Folder\\namex-0.0.8.dist-info already exists. Specify --upgrade to force replacement.\n",
      "WARNING: Target directory D:\\CONTENTS\\APPLICATIONS\\New Folder\\numpy already exists. Specify --upgrade to force replacement.\n",
      "WARNING: Target directory D:\\CONTENTS\\APPLICATIONS\\New Folder\\numpy-2.1.3-cp312-cp312-win_amd64.whl already exists. Specify --upgrade to force replacement.\n",
      "WARNING: Target directory D:\\CONTENTS\\APPLICATIONS\\New Folder\\numpy-2.1.3.dist-info already exists. Specify --upgrade to force replacement.\n",
      "WARNING: Target directory D:\\CONTENTS\\APPLICATIONS\\New Folder\\numpy.libs already exists. Specify --upgrade to force replacement.\n",
      "WARNING: Target directory D:\\CONTENTS\\APPLICATIONS\\New Folder\\optree already exists. Specify --upgrade to force replacement.\n",
      "WARNING: Target directory D:\\CONTENTS\\APPLICATIONS\\New Folder\\optree-0.14.1.dist-info already exists. Specify --upgrade to force replacement.\n",
      "WARNING: Target directory D:\\CONTENTS\\APPLICATIONS\\New Folder\\opt_einsum already exists. Specify --upgrade to force replacement.\n",
      "WARNING: Target directory D:\\CONTENTS\\APPLICATIONS\\New Folder\\opt_einsum-3.4.0.dist-info already exists. Specify --upgrade to force replacement.\n",
      "WARNING: Target directory D:\\CONTENTS\\APPLICATIONS\\New Folder\\packaging already exists. Specify --upgrade to force replacement.\n",
      "WARNING: Target directory D:\\CONTENTS\\APPLICATIONS\\New Folder\\packaging-24.2.dist-info already exists. Specify --upgrade to force replacement.\n",
      "WARNING: Target directory D:\\CONTENTS\\APPLICATIONS\\New Folder\\pasta already exists. Specify --upgrade to force replacement.\n",
      "WARNING: Target directory D:\\CONTENTS\\APPLICATIONS\\New Folder\\pkg_resources already exists. Specify --upgrade to force replacement.\n",
      "WARNING: Target directory D:\\CONTENTS\\APPLICATIONS\\New Folder\\protobuf-5.29.4.dist-info already exists. Specify --upgrade to force replacement.\n",
      "WARNING: Target directory D:\\CONTENTS\\APPLICATIONS\\New Folder\\pygments already exists. Specify --upgrade to force replacement.\n",
      "WARNING: Target directory D:\\CONTENTS\\APPLICATIONS\\New Folder\\pygments-2.19.1.dist-info already exists. Specify --upgrade to force replacement.\n",
      "WARNING: Target directory D:\\CONTENTS\\APPLICATIONS\\New Folder\\requests already exists. Specify --upgrade to force replacement.\n",
      "WARNING: Target directory D:\\CONTENTS\\APPLICATIONS\\New Folder\\requests-2.32.3.dist-info already exists. Specify --upgrade to force replacement.\n",
      "WARNING: Target directory D:\\CONTENTS\\APPLICATIONS\\New Folder\\rich already exists. Specify --upgrade to force replacement.\n",
      "WARNING: Target directory D:\\CONTENTS\\APPLICATIONS\\New Folder\\rich-14.0.0.dist-info already exists. Specify --upgrade to force replacement.\n",
      "WARNING: Target directory D:\\CONTENTS\\APPLICATIONS\\New Folder\\setuptools already exists. Specify --upgrade to force replacement.\n",
      "WARNING: Target directory D:\\CONTENTS\\APPLICATIONS\\New Folder\\setuptools-78.1.0.dist-info already exists. Specify --upgrade to force replacement.\n",
      "WARNING: Target directory D:\\CONTENTS\\APPLICATIONS\\New Folder\\six-1.17.0.dist-info already exists. Specify --upgrade to force replacement.\n",
      "WARNING: Target directory D:\\CONTENTS\\APPLICATIONS\\New Folder\\six.py already exists. Specify --upgrade to force replacement.\n",
      "WARNING: Target directory D:\\CONTENTS\\APPLICATIONS\\New Folder\\tensorboard already exists. Specify --upgrade to force replacement.\n",
      "WARNING: Target directory D:\\CONTENTS\\APPLICATIONS\\New Folder\\tensorboard-2.19.0.dist-info already exists. Specify --upgrade to force replacement.\n",
      "WARNING: Target directory D:\\CONTENTS\\APPLICATIONS\\New Folder\\tensorboard_data_server already exists. Specify --upgrade to force replacement.\n",
      "WARNING: Target directory D:\\CONTENTS\\APPLICATIONS\\New Folder\\tensorboard_data_server-0.7.2.dist-info already exists. Specify --upgrade to force replacement.\n",
      "WARNING: Target directory D:\\CONTENTS\\APPLICATIONS\\New Folder\\tensorflow already exists. Specify --upgrade to force replacement.\n",
      "WARNING: Target directory D:\\CONTENTS\\APPLICATIONS\\New Folder\\tensorflow-2.19.0.dist-info already exists. Specify --upgrade to force replacement.\n",
      "WARNING: Target directory D:\\CONTENTS\\APPLICATIONS\\New Folder\\tensorflow_hub already exists. Specify --upgrade to force replacement.\n",
      "WARNING: Target directory D:\\CONTENTS\\APPLICATIONS\\New Folder\\tensorflow_hub-0.16.1.dist-info already exists. Specify --upgrade to force replacement.\n",
      "WARNING: Target directory D:\\CONTENTS\\APPLICATIONS\\New Folder\\termcolor already exists. Specify --upgrade to force replacement.\n",
      "WARNING: Target directory D:\\CONTENTS\\APPLICATIONS\\New Folder\\termcolor-3.0.1.dist-info already exists. Specify --upgrade to force replacement.\n",
      "WARNING: Target directory D:\\CONTENTS\\APPLICATIONS\\New Folder\\tf_keras already exists. Specify --upgrade to force replacement.\n",
      "WARNING: Target directory D:\\CONTENTS\\APPLICATIONS\\New Folder\\tf_keras-2.19.0.dist-info already exists. Specify --upgrade to force replacement.\n",
      "WARNING: Target directory D:\\CONTENTS\\APPLICATIONS\\New Folder\\typing_extensions-4.13.1.dist-info already exists. Specify --upgrade to force replacement.\n",
      "WARNING: Target directory D:\\CONTENTS\\APPLICATIONS\\New Folder\\typing_extensions.py already exists. Specify --upgrade to force replacement.\n",
      "WARNING: Target directory D:\\CONTENTS\\APPLICATIONS\\New Folder\\urllib3 already exists. Specify --upgrade to force replacement.\n",
      "WARNING: Target directory D:\\CONTENTS\\APPLICATIONS\\New Folder\\urllib3-2.3.0.dist-info already exists. Specify --upgrade to force replacement.\n",
      "WARNING: Target directory D:\\CONTENTS\\APPLICATIONS\\New Folder\\werkzeug already exists. Specify --upgrade to force replacement.\n",
      "WARNING: Target directory D:\\CONTENTS\\APPLICATIONS\\New Folder\\werkzeug-3.1.3.dist-info already exists. Specify --upgrade to force replacement.\n",
      "WARNING: Target directory D:\\CONTENTS\\APPLICATIONS\\New Folder\\wheel already exists. Specify --upgrade to force replacement.\n",
      "WARNING: Target directory D:\\CONTENTS\\APPLICATIONS\\New Folder\\wheel-0.45.1.dist-info already exists. Specify --upgrade to force replacement.\n",
      "WARNING: Target directory D:\\CONTENTS\\APPLICATIONS\\New Folder\\wrapt already exists. Specify --upgrade to force replacement.\n",
      "WARNING: Target directory D:\\CONTENTS\\APPLICATIONS\\New Folder\\wrapt-1.17.2.dist-info already exists. Specify --upgrade to force replacement.\n",
      "WARNING: Target directory D:\\CONTENTS\\APPLICATIONS\\New Folder\\_distutils_hack already exists. Specify --upgrade to force replacement.\n",
      "WARNING: Target directory D:\\CONTENTS\\APPLICATIONS\\New Folder\\__pycache__ already exists. Specify --upgrade to force replacement.\n",
      "WARNING: Target directory D:\\CONTENTS\\APPLICATIONS\\New Folder\\bin already exists. Specify --upgrade to force replacement.\n"
     ]
    }
   ],
   "source": [
    "pip --default-timeout=200 install tensorflow-hub --target \"D:\\CONTENTS\\APPLICATIONS\\New Folder\"\n"
   ]
  },
  {
   "cell_type": "markdown",
   "metadata": {},
   "source": [
    "The ***hub.KerasLayer*** layer downloads the module from the given **URL**. This particular module is a *sentence encoder*: it takes strings as input and encodes each one as a single vector (in this case, a 50-dimensional vector). Internally, it parses the string (splitting words on spaces) and embeds each word using an embedding matrix that was pretrained on a huge corpus: the Google News 7B corpus (seven billion words long!). Then it computes the mean of all the word embeddings, and the result is the sentence embedding.\n",
    "\n",
    "You just need to include this ***hub_layer*** in your model, and you’re ready to go. Note that this particular language model was trained on the English language, but many other languages are available, as well as multilingual models.\n",
    "\n",
    "Last but not least, the excellent open source [Transformers library by Hugging Face](https://huggingface.co/docs/transformers) also makes it easy to include powerful language model components inside your own models. You can browse the [Hugging Face Hub](https://huggingface.co/model), choose the model you want, and use the provided code examples to get started. It used to contain only language models, but it has now expanded to include image models and more.\n",
    "\n",
    "We will come back to natural language processing in more depth in Chapter 16. Let’s now look at Keras’s image preprocessing layers."
   ]
  },
  {
   "cell_type": "markdown",
   "metadata": {},
   "source": [
    "### **Image Preprocessing Layers**\n",
    "The keras preprocessing API includes three image preprocessing layers:\n",
    "- ***tf.keras.layers.Resizing*** resizes the input images to the desired size. For example, ***Resizing(height=100***, ***width=200***) resizes each image to 100 × 200, possibly distorting the image. If you set ***crop_to_aspect_ratio=True***, then the image will be cropped to the target image ratio, to avoid distortion.\n",
    "\n",
    "- tf.keras.layers.Rescaling rescales the pixel values. For example, Rescal ing (scale=2/255, offset=-1) scales the values from 0 → 255 to –1 → 1.\n",
    "\n",
    "- ***tf.keras.layers.CenterCrop*** crops the image, keeping only a center patch of the desired height and width.\n",
    "\n",
    "For example, let’s load a couple of sample images and center-crop them. For this, we will use Scikit-Learn’s ***load_sample_images()*** function; this loads two color images, one of a Chinese temple and the other of a flower (this requires the Pillow library, which should already be installed if you are using Colab or if you followed the installation instructions):"
   ]
  },
  {
   "cell_type": "code",
   "execution_count": 16,
   "metadata": {},
   "outputs": [
    {
     "data": {
      "text/plain": [
       "<tf.Tensor: shape=(100, 100, 3), dtype=float32, numpy=\n",
       "array([[[ 27.,  41.,  44.],\n",
       "        [ 27.,  49.,  46.],\n",
       "        [ 28.,  48.,  47.],\n",
       "        ...,\n",
       "        [231., 230., 236.],\n",
       "        [231., 230., 236.],\n",
       "        [232., 231., 237.]],\n",
       "\n",
       "       [[ 36.,  39.,  46.],\n",
       "        [ 20.,  31.,  33.],\n",
       "        [ 51.,  58.,  64.],\n",
       "        ...,\n",
       "        [232., 231., 237.],\n",
       "        [232., 231., 237.],\n",
       "        [232., 231., 237.]],\n",
       "\n",
       "       [[ 24.,  38.,  39.],\n",
       "        [ 29.,  44.,  51.],\n",
       "        [ 16.,  26.,  28.],\n",
       "        ...,\n",
       "        [232., 231., 236.],\n",
       "        [232., 231., 237.],\n",
       "        [232., 231., 236.]],\n",
       "\n",
       "       ...,\n",
       "\n",
       "       [[ 70.,  13.,   0.],\n",
       "        [180.,  90.,  27.],\n",
       "        [255., 176., 116.],\n",
       "        ...,\n",
       "        [192., 203., 199.],\n",
       "        [192., 203., 199.],\n",
       "        [193., 204., 200.]],\n",
       "\n",
       "       [[101.,  52.,  22.],\n",
       "        [135.,  38.,   3.],\n",
       "        [252., 151.,  83.],\n",
       "        ...,\n",
       "        [194., 205., 201.],\n",
       "        [194., 206., 202.],\n",
       "        [194., 206., 202.]],\n",
       "\n",
       "       [[145., 102.,  49.],\n",
       "        [101.,  14.,   4.],\n",
       "        [225., 121.,  68.],\n",
       "        ...,\n",
       "        [193., 203., 202.],\n",
       "        [193., 203., 202.],\n",
       "        [192., 202., 201.]]], dtype=float32)>"
      ]
     },
     "execution_count": 16,
     "metadata": {},
     "output_type": "execute_result"
    }
   ],
   "source": [
    "from sklearn.datasets import load_sample_images\n",
    "import matplotlib.pyplot as plt\n",
    "\n",
    "images = load_sample_images()['images']\n",
    "crop_image_layer = tf.keras.layers.CenterCrop(height=100, width=100)\n",
    "crop_images = crop_image_layer(images)\n",
    "\n",
    "crop_images[0]\n"
   ]
  },
  {
   "cell_type": "code",
   "execution_count": 25,
   "metadata": {},
   "outputs": [
    {
     "data": {
      "image/png": "[encoded data removed]",
      "text/plain": [
       "<Figure size 640x480 with 1 Axes>"
      ]
     },
     "metadata": {},
     "output_type": "display_data"
    }
   ],
   "source": [
    "import numpy as np\n",
    "import matplotlib.pyplot as plt\n",
    "\n",
    "# Given array size\n",
    "size = 819840\n",
    "\n",
    "# possible dimensions (x, y)\n",
    "possible_x = [i for i in range(1, int(np.sqrt(size)) + 1) if size % i == 0]\n",
    "possible_shapes = [(x, size // x) for x in possible_x]\n",
    "\n",
    "# Selecting the most square-like shape\n",
    "x, y = min(possible_shapes, key=lambda s: abs(s[0] - s[1]))\n",
    "\n",
    "image, picture = images[0], images[1]\n",
    "new_image_0 = image.reshape((x, y))\n",
    "new_image_1 = picture.reshape((x, y))\n",
    " \n",
    "plt.imshow(new_image_0)\n",
    "plt.axis('off')\n",
    "plt.show()"
   ]
  },
  {
   "cell_type": "code",
   "execution_count": 24,
   "metadata": {},
   "outputs": [
    {
     "data": {
      "text/plain": [
       "<matplotlib.image.AxesImage at 0x16943d16a80>"
      ]
     },
     "execution_count": 24,
     "metadata": {},
     "output_type": "execute_result"
    },
    {
     "data": {
      "image/png": "[encoded data removed]",
      "text/plain": [
       "<Figure size 640x480 with 1 Axes>"
      ]
     },
     "metadata": {},
     "output_type": "display_data"
    }
   ],
   "source": [
    "plt.imshow(new_image_1)"
   ]
  },
  {
   "cell_type": "markdown",
   "metadata": {},
   "source": [
    "Keras also includes several layers for data augmentation, such as ***RandomCrop***, ***RandomFlip***, ***RandomTranslation***, ***RandomRotation***, ***RandomZoom***, ***RandomHeight***, ***RandomWidth***, and ***RandomContrast***. These layers are only active during training, and they randomly apply some transformation to the input images (their names are self-explanatory). Data augmentation will artificially increase the size of the training set, which often leads to improved performance, as long as the transformed images look like realistic (nonaugmented) images. We’ll cover image processing more closely in the next chapter.\n",
    "\n",
    "> #### **NOTE**\n",
    ">  Under the hood, the Keras preprocessing layers are based on TensorFlow’s low-level API. For example, the ***Normalization*** layer uses ***tf.nn.moments()*** to compute both the mean and variance, the ***Discretization*** layer uses ***tf.raw_ops.Bucketize()***, ***CategoricalEncoding*** uses ***tf.math.bincount()***, ***IntegerLookup*** and ***StringLookup*** use the ***tf.lookup package***, ***Hashing*** and ***TextVectorization*** use several ops from the ***tf.strings*** package, ***Embedding*** uses ***tf.nn.embedding_lookup()***, and the image preprocessing layers use the ops from the ***tf.image*** package. If the Keras preprocessing API isn’t sufficient for your needs, you may occasionally need to use TensorFlow’s low-level API directly.\n",
    "\n",
    "Now let's look at another way to load data easily and efficiently in TensorFlow."
   ]
  },
  {
   "cell_type": "markdown",
   "metadata": {},
   "source": [
    "## **The TensorFlow Datasets Project**\n",
    "The [TensorFlow Datasets (TFDS)](https://tensorflow.org/datasets) project makes it very easy to load common datasets, from small ones like MNIST or Fashion MNIST to huge datasets like ImageNet (you will need quite a bit of disk space!). The list includes image datasets, text datasets (including translation datasets), audio and video datasets, time series, and much more. You can visit *https://homl.info/tfds* to view the full list, along with a description of each dataset. You can also check out [Know Your Data](https://knowyourdata.withgoogle.com), which is a tool to explore and understand many of the datasets provided by TFDS.\n",
    "\n",
    "TFDS is not bundled with TensorFlow, but if you are running on Colab or if you followed the installation instructions at *https://homl.info/install*, then it’s already installed. You can then import ***tensorflow_datasets***, usually as ***tfds***, then call the ***tfds.load()*** function, which will download the data you want (unless it was already downloaded earlier) and return the data as a dictionary of datasets (typically one for training and one for testing, but this depends on the dataset you choose). For example, let’s download MNIST:"
   ]
  },
  {
   "cell_type": "code",
   "execution_count": 29,
   "metadata": {
    "vscode": {
     "languageId": "powershell"
    }
   },
   "outputs": [
    {
     "name": "stdout",
     "output_type": "stream",
     "text": [
      "Requirement already satisfied: tensorflow-datasets in d:\\contents\\applications\\new folder\\lib\\site-packages (4.9.8)\n",
      "Requirement already satisfied: absl-py in d:\\contents\\applications\\new folder\\lib\\site-packages (from tensorflow-datasets) (2.1.0)\n",
      "Requirement already satisfied: dm-tree in d:\\contents\\applications\\new folder\\lib\\site-packages (from tensorflow-datasets) (0.1.9)\n",
      "Requirement already satisfied: etils>=1.9.1 in d:\\contents\\applications\\new folder\\lib\\site-packages (from etils[edc,enp,epath,epy,etree]>=1.9.1; python_version >= \"3.11\"->tensorflow-datasets) (1.12.2)\n",
      "Requirement already satisfied: immutabledict in d:\\contents\\applications\\new folder\\lib\\site-packages (from tensorflow-datasets) (4.2.1)\n",
      "Requirement already satisfied: numpy in d:\\contents\\applications\\new folder\\lib\\site-packages (from tensorflow-datasets) (1.26.4)\n",
      "Requirement already satisfied: promise in d:\\contents\\applications\\new folder\\lib\\site-packages (from tensorflow-datasets) (2.3)\n",
      "Requirement already satisfied: protobuf>=3.20 in d:\\contents\\applications\\new folder\\lib\\site-packages (from tensorflow-datasets) (5.29.4)\n",
      "Requirement already satisfied: psutil in d:\\contents\\applications\\new folder\\lib\\site-packages (from tensorflow-datasets) (5.9.0)\n",
      "Requirement already satisfied: pyarrow in d:\\contents\\applications\\new folder\\lib\\site-packages (from tensorflow-datasets) (14.0.2)\n",
      "Requirement already satisfied: requests>=2.19.0 in d:\\contents\\applications\\new folder\\lib\\site-packages (from tensorflow-datasets) (2.32.2)\n",
      "Requirement already satisfied: simple_parsing in d:\\contents\\applications\\new folder\\lib\\site-packages (from tensorflow-datasets) (0.1.7)\n",
      "Requirement already satisfied: tensorflow-metadata in d:\\contents\\applications\\new folder\\lib\\site-packages (from tensorflow-datasets) (1.17.0)\n",
      "Requirement already satisfied: termcolor in d:\\contents\\applications\\new folder\\lib\\site-packages (from tensorflow-datasets) (2.5.0)\n",
      "Requirement already satisfied: toml in d:\\contents\\applications\\new folder\\lib\\site-packages (from tensorflow-datasets) (0.10.2)\n",
      "Requirement already satisfied: tqdm in d:\\contents\\applications\\new folder\\lib\\site-packages (from tensorflow-datasets) (4.66.4)\n",
      "Requirement already satisfied: wrapt in d:\\contents\\applications\\new folder\\lib\\site-packages (from tensorflow-datasets) (1.14.1)\n",
      "Requirement already satisfied: einops in d:\\contents\\applications\\new folder\\lib\\site-packages (from etils[edc,enp,epath,epy,etree]>=1.9.1; python_version >= \"3.11\"->tensorflow-datasets) (0.8.1)\n",
      "Requirement already satisfied: fsspec in d:\\contents\\applications\\new folder\\lib\\site-packages (from etils[edc,enp,epath,epy,etree]>=1.9.1; python_version >= \"3.11\"->tensorflow-datasets) (2024.3.1)\n",
      "Requirement already satisfied: importlib_resources in d:\\contents\\applications\\new folder\\lib\\site-packages (from etils[edc,enp,epath,epy,etree]>=1.9.1; python_version >= \"3.11\"->tensorflow-datasets) (6.4.5)\n",
      "Requirement already satisfied: typing_extensions in d:\\contents\\applications\\new folder\\lib\\site-packages (from etils[edc,enp,epath,epy,etree]>=1.9.1; python_version >= \"3.11\"->tensorflow-datasets) (4.11.0)\n",
      "Requirement already satisfied: zipp in d:\\contents\\applications\\new folder\\lib\\site-packages (from etils[edc,enp,epath,epy,etree]>=1.9.1; python_version >= \"3.11\"->tensorflow-datasets) (3.17.0)\n",
      "Requirement already satisfied: charset-normalizer<4,>=2 in d:\\contents\\applications\\new folder\\lib\\site-packages (from requests>=2.19.0->tensorflow-datasets) (2.0.4)\n",
      "Requirement already satisfied: idna<4,>=2.5 in d:\\contents\\applications\\new folder\\lib\\site-packages (from requests>=2.19.0->tensorflow-datasets) (3.7)\n",
      "Requirement already satisfied: urllib3<3,>=1.21.1 in d:\\contents\\applications\\new folder\\lib\\site-packages (from requests>=2.19.0->tensorflow-datasets) (2.2.2)\n",
      "Requirement already satisfied: certifi>=2017.4.17 in d:\\contents\\applications\\new folder\\lib\\site-packages (from requests>=2.19.0->tensorflow-datasets) (2024.8.30)\n",
      "Requirement already satisfied: attrs>=18.2.0 in d:\\contents\\applications\\new folder\\lib\\site-packages (from dm-tree->tensorflow-datasets) (23.1.0)\n",
      "Requirement already satisfied: six in d:\\contents\\applications\\new folder\\lib\\site-packages (from promise->tensorflow-datasets) (1.16.0)\n",
      "Requirement already satisfied: docstring-parser<1.0,>=0.15 in d:\\contents\\applications\\new folder\\lib\\site-packages (from simple_parsing->tensorflow-datasets) (0.16)\n",
      "Requirement already satisfied: googleapis-common-protos<2,>=1.56.4 in d:\\contents\\applications\\new folder\\lib\\site-packages (from tensorflow-metadata->tensorflow-datasets) (1.69.2)\n",
      "Requirement already satisfied: colorama in d:\\contents\\applications\\new folder\\lib\\site-packages (from tqdm->tensorflow-datasets) (0.4.6)\n",
      "Note: you may need to restart the kernel to use updated packages.\n"
     ]
    },
    {
     "name": "stderr",
     "output_type": "stream",
     "text": [
      "  WARNING: Failed to remove contents in a temporary directory 'D:\\CONTENTS\\APPLICATIONS\\New Folder\\Lib\\site-packages\\google\\~upb'.\n",
      "  You can safely remove it manually.\n",
      "ERROR: pip's dependency resolver does not currently take into account all the packages that are installed. This behaviour is the source of the following dependency conflicts.\n",
      "streamlit 1.32.0 requires protobuf<5,>=3.20, but you have protobuf 5.29.4 which is incompatible.\n",
      "tensorboard-plugin-profile 2.19.0 requires protobuf<5.0.0dev,>=3.19.6, but you have protobuf 5.29.4 which is incompatible.\n"
     ]
    },
    {
     "name": "stdout",
     "output_type": "stream",
     "text": [
      "Collecting tensorflow_datasets\n",
      "  Downloading tensorflow_datasets-4.9.8-py3-none-any.whl.metadata (11 kB)\n",
      "Requirement already satisfied: absl-py in d:\\contents\\applications\\new folder\\lib\\site-packages (from tensorflow_datasets) (2.1.0)\n",
      "Collecting dm-tree (from tensorflow_datasets)\n",
      "  Downloading dm_tree-0.1.9-cp312-cp312-win_amd64.whl.metadata (2.5 kB)\n",
      "Requirement already satisfied: etils>=1.9.1 in d:\\contents\\applications\\new folder\\lib\\site-packages (from etils[edc,enp,epath,epy,etree]>=1.9.1; python_version >= \"3.11\"->tensorflow_datasets) (1.12.2)\n",
      "Collecting immutabledict (from tensorflow_datasets)\n",
      "  Downloading immutabledict-4.2.1-py3-none-any.whl.metadata (3.5 kB)\n",
      "Requirement already satisfied: numpy in d:\\contents\\applications\\new folder\\lib\\site-packages (from tensorflow_datasets) (1.26.4)\n",
      "Collecting promise (from tensorflow_datasets)\n",
      "  Downloading promise-2.3.tar.gz (19 kB)\n",
      "  Preparing metadata (setup.py): started\n",
      "  Preparing metadata (setup.py): finished with status 'done'\n",
      "Requirement already satisfied: protobuf>=3.20 in d:\\contents\\applications\\new folder\\lib\\site-packages (from tensorflow_datasets) (6.30.2)\n",
      "Requirement already satisfied: psutil in d:\\contents\\applications\\new folder\\lib\\site-packages (from tensorflow_datasets) (5.9.0)\n",
      "Requirement already satisfied: pyarrow in d:\\contents\\applications\\new folder\\lib\\site-packages (from tensorflow_datasets) (14.0.2)\n",
      "Requirement already satisfied: requests>=2.19.0 in d:\\contents\\applications\\new folder\\lib\\site-packages (from tensorflow_datasets) (2.32.2)\n",
      "Collecting simple_parsing (from tensorflow_datasets)\n",
      "  Downloading simple_parsing-0.1.7-py3-none-any.whl.metadata (7.3 kB)\n",
      "Collecting tensorflow-metadata (from tensorflow_datasets)\n",
      "  Downloading tensorflow_metadata-1.17.0-py3-none-any.whl.metadata (2.6 kB)\n",
      "Requirement already satisfied: termcolor in d:\\contents\\applications\\new folder\\lib\\site-packages (from tensorflow_datasets) (2.5.0)\n",
      "Requirement already satisfied: toml in d:\\contents\\applications\\new folder\\lib\\site-packages (from tensorflow_datasets) (0.10.2)\n",
      "Requirement already satisfied: tqdm in d:\\contents\\applications\\new folder\\lib\\site-packages (from tensorflow_datasets) (4.66.4)\n",
      "Requirement already satisfied: wrapt in d:\\contents\\applications\\new folder\\lib\\site-packages (from tensorflow_datasets) (1.14.1)\n",
      "Collecting einops (from etils[edc,enp,epath,epy,etree]>=1.9.1; python_version >= \"3.11\"->tensorflow_datasets)\n",
      "  Downloading einops-0.8.1-py3-none-any.whl.metadata (13 kB)\n",
      "Requirement already satisfied: fsspec in d:\\contents\\applications\\new folder\\lib\\site-packages (from etils[edc,enp,epath,epy,etree]>=1.9.1; python_version >= \"3.11\"->tensorflow_datasets) (2024.3.1)\n",
      "Requirement already satisfied: importlib_resources in d:\\contents\\applications\\new folder\\lib\\site-packages (from etils[edc,enp,epath,epy,etree]>=1.9.1; python_version >= \"3.11\"->tensorflow_datasets) (6.4.5)\n",
      "Requirement already satisfied: typing_extensions in d:\\contents\\applications\\new folder\\lib\\site-packages (from etils[edc,enp,epath,epy,etree]>=1.9.1; python_version >= \"3.11\"->tensorflow_datasets) (4.11.0)\n",
      "Requirement already satisfied: zipp in d:\\contents\\applications\\new folder\\lib\\site-packages (from etils[edc,enp,epath,epy,etree]>=1.9.1; python_version >= \"3.11\"->tensorflow_datasets) (3.17.0)\n",
      "Requirement already satisfied: charset-normalizer<4,>=2 in d:\\contents\\applications\\new folder\\lib\\site-packages (from requests>=2.19.0->tensorflow_datasets) (2.0.4)\n",
      "Requirement already satisfied: idna<4,>=2.5 in d:\\contents\\applications\\new folder\\lib\\site-packages (from requests>=2.19.0->tensorflow_datasets) (3.7)\n",
      "Requirement already satisfied: urllib3<3,>=1.21.1 in d:\\contents\\applications\\new folder\\lib\\site-packages (from requests>=2.19.0->tensorflow_datasets) (2.2.2)\n",
      "Requirement already satisfied: certifi>=2017.4.17 in d:\\contents\\applications\\new folder\\lib\\site-packages (from requests>=2.19.0->tensorflow_datasets) (2024.8.30)\n",
      "Requirement already satisfied: attrs>=18.2.0 in d:\\contents\\applications\\new folder\\lib\\site-packages (from dm-tree->tensorflow_datasets) (23.1.0)\n",
      "Requirement already satisfied: six in d:\\contents\\applications\\new folder\\lib\\site-packages (from promise->tensorflow_datasets) (1.16.0)\n",
      "Collecting docstring-parser<1.0,>=0.15 (from simple_parsing->tensorflow_datasets)\n",
      "  Downloading docstring_parser-0.16-py3-none-any.whl.metadata (3.0 kB)\n",
      "Collecting googleapis-common-protos<2,>=1.56.4 (from tensorflow-metadata->tensorflow_datasets)\n",
      "  Downloading googleapis_common_protos-1.69.2-py3-none-any.whl.metadata (9.3 kB)\n",
      "Collecting protobuf>=3.20 (from tensorflow_datasets)\n",
      "  Using cached protobuf-5.29.4-cp310-abi3-win_amd64.whl.metadata (592 bytes)\n",
      "Requirement already satisfied: colorama in d:\\contents\\applications\\new folder\\lib\\site-packages (from tqdm->tensorflow_datasets) (0.4.6)\n",
      "Downloading tensorflow_datasets-4.9.8-py3-none-any.whl (5.3 MB)\n",
      "   ---------------------------------------- 0.0/5.3 MB ? eta -:--:--\n",
      "   - -------------------------------------- 0.3/5.3 MB ? eta -:--:--\n",
      "   ------------- -------------------------- 1.8/5.3 MB 6.3 MB/s eta 0:00:01\n",
      "   --------------------------------- ------ 4.5/5.3 MB 8.9 MB/s eta 0:00:01\n",
      "   ---------------------------------------- 5.3/5.3 MB 8.7 MB/s eta 0:00:00\n",
      "Downloading dm_tree-0.1.9-cp312-cp312-win_amd64.whl (102 kB)\n",
      "Downloading immutabledict-4.2.1-py3-none-any.whl (4.7 kB)\n",
      "Downloading simple_parsing-0.1.7-py3-none-any.whl (112 kB)\n",
      "Downloading tensorflow_metadata-1.17.0-py3-none-any.whl (29 kB)\n",
      "Downloading protobuf-5.29.4-cp310-abi3-win_amd64.whl (434 kB)\n",
      "Downloading docstring_parser-0.16-py3-none-any.whl (36 kB)\n",
      "Downloading googleapis_common_protos-1.69.2-py3-none-any.whl (293 kB)\n",
      "Downloading einops-0.8.1-py3-none-any.whl (64 kB)\n",
      "Building wheels for collected packages: promise\n",
      "  Building wheel for promise (setup.py): started\n",
      "  Building wheel for promise (setup.py): finished with status 'done'\n",
      "  Created wheel for promise: filename=promise-2.3-py3-none-any.whl size=21544 sha256=34ae0c0d8992a6550ee512c310952adbc2d8551a3e2cdfa3441bf17719b42a0b\n",
      "  Stored in directory: c:\\users\\jacks\\appdata\\local\\pip\\cache\\wheels\\e7\\e6\\28\\864bdfee5339dbd6ddcb5a186286a8e217648ec198bdf0097d\n",
      "Successfully built promise\n",
      "Installing collected packages: protobuf, promise, immutabledict, einops, docstring-parser, dm-tree, simple_parsing, googleapis-common-protos, tensorflow-metadata, tensorflow_datasets\n",
      "  Attempting uninstall: protobuf\n",
      "    Found existing installation: protobuf 6.30.2\n",
      "    Uninstalling protobuf-6.30.2:\n",
      "      Successfully uninstalled protobuf-6.30.2\n",
      "Successfully installed dm-tree-0.1.9 docstring-parser-0.16 einops-0.8.1 googleapis-common-protos-1.69.2 immutabledict-4.2.1 promise-2.3 protobuf-5.29.4 simple_parsing-0.1.7 tensorflow-metadata-1.17.0 tensorflow_datasets-4.9.8\n"
     ]
    }
   ],
   "source": [
    "pip install tensorflow-datasets\n"
   ]
  },
  {
   "cell_type": "code",
   "execution_count": 32,
   "metadata": {},
   "outputs": [],
   "source": [
    "import tensorflow_datasets as tfds\n",
    "\n",
    "datasets = tfds.load(name='mnist')\n",
    "mnist_train, mnist_test = datasets['train'], datasets['test']"
   ]
  },
  {
   "cell_type": "markdown",
   "metadata": {},
   "source": [
    "You can then apply any transformation you want (typically shuffling, batching, and prefetching), and you’re ready to train your model. Here is a simple example:"
   ]
  },
  {
   "cell_type": "code",
   "execution_count": 38,
   "metadata": {},
   "outputs": [],
   "source": [
    "for batch in mnist_train.shuffle(10_000, seed=50).batch(32).prefetch(1):\n",
    "    images = batch['image']\n",
    "    labels = batch['label']"
   ]
  },
  {
   "cell_type": "markdown",
   "metadata": {},
   "source": [
    "> #### **TIP**\n",
    "> The ***load()*** function can shuffle the files in downloads: just set ***shuffle_files-True***. However, this may be insufficient, so it's best to shuffle the training data some more.\n",
    "\n",
    "Note that each item in the dataset is a dictionary containing both the features and the labels. But Keras expects each item to be a tuple containing two elements (again, the features and the labels). You could transform the dataset using the ***map()*** method, like this:"
   ]
  },
  {
   "cell_type": "code",
   "execution_count": 41,
   "metadata": {},
   "outputs": [],
   "source": [
    "mnist_train = mnist_train.shuffle(buffer_size=10_000, seed=50).batch(32)\n",
    "mnist_train = mnist_train.map(lambda items: (items['image'], items['label']))\n",
    "mnist_train = mnist_train.prefetch(1)"
   ]
  },
  {
   "cell_type": "markdown",
   "metadata": {},
   "source": [
    "But it’s simpler to ask the ***load()*** function to do this for you by setting ***as_supervised=True*** (obviously this works only for labeled datasets).\n",
    "\n",
    "Lastly, TFDS provides a convenient way to split the data using the ***split*** argument. For example, if you want to use the first 90% of the training set for training, the remaining 10% for validation, and the whole test set for testing, then you can set ***split=[\"train[:90%]\"***, ***\"train[90%:]\"***, ***\"test\"]***. The ***load()*** function will return all three sets. Here is a complete example, loading and splitting the MNIST dataset using TFDS, then using these sets to train and evaluate a simple Keras model:"
   ]
  },
  {
   "cell_type": "code",
   "execution_count": 43,
   "metadata": {},
   "outputs": [
    {
     "name": "stdout",
     "output_type": "stream",
     "text": [
      "Epoch 1/5\n"
     ]
    },
    {
     "name": "stderr",
     "output_type": "stream",
     "text": [
      "d:\\CONTENTS\\APPLICATIONS\\New folder\\Lib\\site-packages\\keras\\src\\layers\\reshaping\\flatten.py:37: UserWarning: Do not pass an `input_shape`/`input_dim` argument to a layer. When using Sequential models, prefer using an `Input(shape)` object as the first layer in the model instead.\n",
      "  super().__init__(**kwargs)\n"
     ]
    },
    {
     "name": "stdout",
     "output_type": "stream",
     "text": [
      "\u001b[1m1688/1688\u001b[0m \u001b[32m━━━━━━━━━━━━━━━━━━━━\u001b[0m\u001b[37m\u001b[0m \u001b[1m10s\u001b[0m 5ms/step - accuracy: 0.7580 - loss: 18.9900 - val_accuracy: 0.8752 - val_loss: 6.0906\n",
      "Epoch 2/5\n",
      "\u001b[1m1688/1688\u001b[0m \u001b[32m━━━━━━━━━━━━━━━━━━━━\u001b[0m\u001b[37m\u001b[0m \u001b[1m6s\u001b[0m 4ms/step - accuracy: 0.8777 - loss: 5.7757 - val_accuracy: 0.8873 - val_loss: 5.6562\n",
      "Epoch 3/5\n",
      "\u001b[1m1688/1688\u001b[0m \u001b[32m━━━━━━━━━━━━━━━━━━━━\u001b[0m\u001b[37m\u001b[0m \u001b[1m6s\u001b[0m 4ms/step - accuracy: 0.8838 - loss: 5.1927 - val_accuracy: 0.8648 - val_loss: 6.3325\n",
      "Epoch 4/5\n",
      "\u001b[1m1688/1688\u001b[0m \u001b[32m━━━━━━━━━━━━━━━━━━━━\u001b[0m\u001b[37m\u001b[0m \u001b[1m6s\u001b[0m 4ms/step - accuracy: 0.8853 - loss: 4.9395 - val_accuracy: 0.8822 - val_loss: 5.5951\n",
      "Epoch 5/5\n",
      "\u001b[1m1688/1688\u001b[0m \u001b[32m━━━━━━━━━━━━━━━━━━━━\u001b[0m\u001b[37m\u001b[0m \u001b[1m6s\u001b[0m 3ms/step - accuracy: 0.8897 - loss: 4.7977 - val_accuracy: 0.8900 - val_loss: 5.1146\n",
      "\u001b[1m313/313\u001b[0m \u001b[32m━━━━━━━━━━━━━━━━━━━━\u001b[0m\u001b[37m\u001b[0m \u001b[1m1s\u001b[0m 4ms/step - accuracy: 0.9030 - loss: 4.7479\n"
     ]
    }
   ],
   "source": [
    "train_set, valid_set, test_set = tfds.load(name='mnist', split=['train[:90%]', 'train[90%:]', 'test'], as_supervised=True)\n",
    "\n",
    "train_set = train_set.shuffle(buffer_size=10_000, seed=50).batch(32).prefetch(1)\n",
    "valid_set = valid_set.batch(32).cache()\n",
    "test_set = test_set.batch(32).cache()\n",
    "\n",
    "tf.random.set_seed(50)\n",
    "model = tf.keras.Sequential([\n",
    "    tf.keras.layers.Flatten(input_shape=(28, 28)), \n",
    "    tf.keras.layers.Dense(10, activation='softmax')\n",
    "])\n",
    "\n",
    "model.compile(loss='sparse_categorical_crossentropy', optimizer='nadam', metrics=['accuracy'])\n",
    "history = model.fit(train_set, validation_data=valid_set, epochs=5)\n",
    "test_loss, test_accuracy = model.evaluate(test_set)"
   ]
  },
  {
   "cell_type": "markdown",
   "metadata": {},
   "source": [
    "Congratulations, you’ve reached the end of this quite technical chapter! You may feel that it is a bit far from the abstract beauty of neural networks, but the fact is deep learning often involves large amounts of data, and knowing how to load, parse, and preprocess it efficiently is a crucial skill to have. In the next chapter, we will look at convolutional neural networks, which are among the most successful neural net architectures for image processing and many other applications."
   ]
  }
 ],
 "metadata": {
  "kernelspec": {
   "display_name": "base",
   "language": "python",
   "name": "python3"
  },
  "language_info": {
   "codemirror_mode": {
    "name": "ipython",
    "version": 3
   },
   "file_extension": ".py",
   "mimetype": "text/x-python",
   "name": "python",
   "nbconvert_exporter": "python",
   "pygments_lexer": "ipython3",
   "version": "3.12.3"
  }
 },
 "nbformat": 4,
 "nbformat_minor": 2
}
