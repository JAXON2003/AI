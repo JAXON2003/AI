{
 "cells": [
  {
   "cell_type": "raw",
   "metadata": {
    "vscode": {
     "languageId": "raw"
    }
   },
   "source": [
    "Write a function that can shift an MNIST image in any direction (left,\n",
    "right, up, or down) by one pixel.  Then, for each image in the training\n",
    "set, create four shifted copies (one per direction) and add them to the\n",
    "training set. Finally, train your best model on this expanded training set\n",
    "and measure its accuracy on the test set. You should observe that your\n",
    "model performs even better now! This technique of artificially\n",
    "growing the training set is called data augmentation or training set\n",
    "expansion."
   ]
  },
  {
   "cell_type": "raw",
   "metadata": {
    "vscode": {
     "languageId": "raw"
    }
   },
   "source": [
    "You can perform data augmentation on the MNIST dataset using only scikit-learn and SciPy. Here's how you can achieve this:\n",
    "1.Shift Images in Four Directions: Create a function that shifts each image by one pixel in the left, right, up, and down directions.\n",
    "2.Expand the Training Set: For each image in the training set, generate four shifted copies and add them to the training data.\n",
    "3.Train a Classifier: Use scikit-learn's KNeighborsClassifier to train the model on the augmented training set and evaluate its accuracy on the test set."
   ]
  },
  {
   "cell_type": "code",
   "execution_count": 1,
   "metadata": {},
   "outputs": [],
   "source": [
    "import numpy as np\n",
    "from sklearn.datasets import fetch_openml\n",
    "from sklearn.model_selection import train_test_split\n",
    "from sklearn.neighbors import KNeighborsClassifier\n",
    "from sklearn.metrics import accuracy_score\n",
    "from scipy.ndimage import shift"
   ]
  },
  {
   "cell_type": "code",
   "execution_count": 6,
   "metadata": {},
   "outputs": [],
   "source": [
    "# Function to shift an image by i pixel in the specified direction\n",
    "def shift_image(image, direction):\n",
    "    \"\"\"\n",
    "    Shifts an image by one pixel in the specified direction.\n",
    "    irections: 'left', 'right', 'up', 'down'\n",
    "    \"\"\"\n",
    "    if direction == 'left':\n",
    "        return shift(image.reshape(28, 28), [0, -1], cval=0).reshape(784)\n",
    "\n",
    "    elif direction == 'right':\n",
    "        return shift(image.reshape(28, 28), [0, 1], cval=0).reshape(784)\n",
    "\n",
    "    elif direction == 'up':\n",
    "        return shift(image.reshape(28, 28), [-1, 0], cval=0).reshape(784)\n",
    "\n",
    "    elif direction == 'down':\n",
    "        return shift(image.reshape(28, 28), [1, 0], cval=0).reshape(784)\n",
    "\n",
    "    else:\n",
    "        raise ValueError('Direction must be one of \"left\", \"right\", \"up\", or \"down\"')\n"
   ]
  },
  {
   "cell_type": "code",
   "execution_count": 7,
   "metadata": {},
   "outputs": [],
   "source": [
    "# Load MNIST Dataset\n",
    "mnist = fetch_openml('mnist_784', version=1)\n",
    "x, y = mnist.data, mnist.target\n",
    "y = y.astype(np.int8)"
   ]
  },
  {
   "cell_type": "code",
   "execution_count": 8,
   "metadata": {},
   "outputs": [],
   "source": [
    "# Split the dataset into training and test sets\n",
    "x_train, x_test, y_train, y_test = train_test_split(x, y, test_size=10_000, random_state=50)"
   ]
  },
  {
   "cell_type": "code",
   "execution_count": 13,
   "metadata": {},
   "outputs": [],
   "source": [
    "# Augment the training set by shifting each image\n",
    "directions = ['left', 'right', 'up', 'down']\n",
    "x_train_augumented = [x_train]\n",
    "y_train_augumented = [y_train]\n",
    "\n",
    "for direction in directions:\n",
    "    x_shifted = np.apply_along_axis(shift_image, 1, x_train, direction)\n",
    "    x_train_augumented.append(x_shifted)\n",
    "    y_train_augumented.append(y_train)"
   ]
  },
  {
   "cell_type": "code",
   "execution_count": 17,
   "metadata": {},
   "outputs": [],
   "source": [
    "# Concatenate the augmented data\n",
    "X_train_augumented = np.vstack(x_train_augumented)\n",
    "y_train_augumented = np.hstack(y_train_augumented)"
   ]
  }
 ],
 "metadata": {
  "kernelspec": {
   "display_name": "cuda_v1",
   "language": "python",
   "name": "python3"
  },
  "language_info": {
   "codemirror_mode": {
    "name": "ipython",
    "version": 3
   },
   "file_extension": ".py",
   "mimetype": "text/x-python",
   "name": "python",
   "nbconvert_exporter": "python",
   "pygments_lexer": "ipython3",
   "version": "3.12.7"
  }
 },
 "nbformat": 4,
 "nbformat_minor": 2
}
